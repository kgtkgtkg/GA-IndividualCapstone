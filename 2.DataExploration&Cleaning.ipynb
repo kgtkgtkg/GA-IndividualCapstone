{
 "cells": [
  {
   "attachments": {},
   "cell_type": "markdown",
   "metadata": {},
   "source": [
    "#### Data Exploration (using visuals) and Data Cleaning\n",
    "In this section, I start to explore the raw dataset, and think about how I will use it. <br>\n",
    "It would also influence my decision on how to clean the data. <br>"
   ]
  },
  {
   "cell_type": "code",
   "execution_count": 153,
   "metadata": {},
   "outputs": [],
   "source": [
    "# Import Libraries\n",
    "# Packages for work.\n",
    "import requests\n",
    "import time\n",
    "import os\n",
    "import pandas as pd\n",
    "import numpy as np\n",
    "\n",
    "# Visualization packages.\n",
    "import matplotlib.pyplot as plt\n",
    "%matplotlib inline\n",
    "# Increase default figure and font sizes for easier viewing.\n",
    "plt.rcParams['figure.figsize'] = (8, 6)\n",
    "plt.rcParams['font.size'] = 14\n",
    "import plotly.express as px\n",
    "import seaborn as sns"
   ]
  },
  {
   "cell_type": "code",
   "execution_count": 154,
   "metadata": {},
   "outputs": [],
   "source": [
    "# Reading in the raw dataset.\n",
    "raw_dataset = pd.read_excel(\"raw_dataset.xlsx\")"
   ]
  },
  {
   "attachments": {},
   "cell_type": "markdown",
   "metadata": {},
   "source": [
    "Some preliminary checks on the dataset."
   ]
  },
  {
   "cell_type": "code",
   "execution_count": 155,
   "metadata": {},
   "outputs": [
    {
     "data": {
      "text/plain": [
       "(9319, 4)"
      ]
     },
     "execution_count": 155,
     "metadata": {},
     "output_type": "execute_result"
    }
   ],
   "source": [
    "# Checking that the dataset has been loaded in correctly. It should have 9319 rows and 4 columns.\n",
    "raw_dataset.shape"
   ]
  },
  {
   "cell_type": "code",
   "execution_count": 156,
   "metadata": {},
   "outputs": [
    {
     "data": {
      "text/html": [
       "<div>\n",
       "<style scoped>\n",
       "    .dataframe tbody tr th:only-of-type {\n",
       "        vertical-align: middle;\n",
       "    }\n",
       "\n",
       "    .dataframe tbody tr th {\n",
       "        vertical-align: top;\n",
       "    }\n",
       "\n",
       "    .dataframe thead th {\n",
       "        text-align: right;\n",
       "    }\n",
       "</style>\n",
       "<table border=\"1\" class=\"dataframe\">\n",
       "  <thead>\n",
       "    <tr style=\"text-align: right;\">\n",
       "      <th></th>\n",
       "      <th>appid</th>\n",
       "      <th>game name</th>\n",
       "      <th>hours played</th>\n",
       "      <th>steamid</th>\n",
       "    </tr>\n",
       "  </thead>\n",
       "  <tbody>\n",
       "    <tr>\n",
       "      <th>0</th>\n",
       "      <td>220</td>\n",
       "      <td>Half-Life 2</td>\n",
       "      <td>0.0</td>\n",
       "      <td>76561198010430483</td>\n",
       "    </tr>\n",
       "    <tr>\n",
       "      <th>1</th>\n",
       "      <td>320</td>\n",
       "      <td>Half-Life 2: Deathmatch</td>\n",
       "      <td>0.0</td>\n",
       "      <td>76561198010430483</td>\n",
       "    </tr>\n",
       "    <tr>\n",
       "      <th>2</th>\n",
       "      <td>340</td>\n",
       "      <td>Half-Life 2: Lost Coast</td>\n",
       "      <td>0.0</td>\n",
       "      <td>76561198010430483</td>\n",
       "    </tr>\n",
       "    <tr>\n",
       "      <th>3</th>\n",
       "      <td>360</td>\n",
       "      <td>Half-Life Deathmatch: Source</td>\n",
       "      <td>0.0</td>\n",
       "      <td>76561198010430483</td>\n",
       "    </tr>\n",
       "    <tr>\n",
       "      <th>4</th>\n",
       "      <td>380</td>\n",
       "      <td>Half-Life 2: Episode One</td>\n",
       "      <td>0.0</td>\n",
       "      <td>76561198010430483</td>\n",
       "    </tr>\n",
       "  </tbody>\n",
       "</table>\n",
       "</div>"
      ],
      "text/plain": [
       "   appid                     game name  hours played            steamid\n",
       "0    220                   Half-Life 2           0.0  76561198010430483\n",
       "1    320       Half-Life 2: Deathmatch           0.0  76561198010430483\n",
       "2    340       Half-Life 2: Lost Coast           0.0  76561198010430483\n",
       "3    360  Half-Life Deathmatch: Source           0.0  76561198010430483\n",
       "4    380      Half-Life 2: Episode One           0.0  76561198010430483"
      ]
     },
     "execution_count": 156,
     "metadata": {},
     "output_type": "execute_result"
    }
   ],
   "source": [
    "# Taking a peek again.\n",
    "raw_dataset.head()"
   ]
  },
  {
   "cell_type": "code",
   "execution_count": 157,
   "metadata": {},
   "outputs": [
    {
     "data": {
      "text/html": [
       "<div>\n",
       "<style scoped>\n",
       "    .dataframe tbody tr th:only-of-type {\n",
       "        vertical-align: middle;\n",
       "    }\n",
       "\n",
       "    .dataframe tbody tr th {\n",
       "        vertical-align: top;\n",
       "    }\n",
       "\n",
       "    .dataframe thead th {\n",
       "        text-align: right;\n",
       "    }\n",
       "</style>\n",
       "<table border=\"1\" class=\"dataframe\">\n",
       "  <thead>\n",
       "    <tr style=\"text-align: right;\">\n",
       "      <th></th>\n",
       "      <th>Data Type</th>\n",
       "    </tr>\n",
       "  </thead>\n",
       "  <tbody>\n",
       "    <tr>\n",
       "      <th>appid</th>\n",
       "      <td>int64</td>\n",
       "    </tr>\n",
       "    <tr>\n",
       "      <th>game name</th>\n",
       "      <td>object</td>\n",
       "    </tr>\n",
       "    <tr>\n",
       "      <th>hours played</th>\n",
       "      <td>float64</td>\n",
       "    </tr>\n",
       "    <tr>\n",
       "      <th>steamid</th>\n",
       "      <td>int64</td>\n",
       "    </tr>\n",
       "  </tbody>\n",
       "</table>\n",
       "</div>"
      ],
      "text/plain": [
       "             Data Type\n",
       "appid            int64\n",
       "game name       object\n",
       "hours played   float64\n",
       "steamid          int64"
      ]
     },
     "execution_count": 157,
     "metadata": {},
     "output_type": "execute_result"
    }
   ],
   "source": [
    "pd.DataFrame(raw_dataset.dtypes, columns=['Data Type'])"
   ]
  },
  {
   "cell_type": "code",
   "execution_count": 158,
   "metadata": {},
   "outputs": [],
   "source": [
    "# Changing the app id and steam id data to string type.   \n",
    "raw_dataset['appid'] = raw_dataset['appid'].astype(str)\n",
    "raw_dataset['steamid'] = raw_dataset['steamid'].astype(str)"
   ]
  },
  {
   "cell_type": "code",
   "execution_count": 159,
   "metadata": {},
   "outputs": [
    {
     "name": "stdout",
     "output_type": "stream",
     "text": [
      "<class 'pandas.core.frame.DataFrame'>\n",
      "RangeIndex: 9319 entries, 0 to 9318\n",
      "Data columns (total 4 columns):\n",
      " #   Column        Non-Null Count  Dtype  \n",
      "---  ------        --------------  -----  \n",
      " 0   appid         9319 non-null   object \n",
      " 1   game name     9319 non-null   object \n",
      " 2   hours played  9319 non-null   float64\n",
      " 3   steamid       9319 non-null   object \n",
      "dtypes: float64(1), object(3)\n",
      "memory usage: 291.3+ KB\n"
     ]
    }
   ],
   "source": [
    "# Checking for null values.\n",
    "raw_dataset.info()"
   ]
  },
  {
   "cell_type": "code",
   "execution_count": 160,
   "metadata": {},
   "outputs": [
    {
     "data": {
      "text/html": [
       "<div>\n",
       "<style scoped>\n",
       "    .dataframe tbody tr th:only-of-type {\n",
       "        vertical-align: middle;\n",
       "    }\n",
       "\n",
       "    .dataframe tbody tr th {\n",
       "        vertical-align: top;\n",
       "    }\n",
       "\n",
       "    .dataframe thead th {\n",
       "        text-align: right;\n",
       "    }\n",
       "</style>\n",
       "<table border=\"1\" class=\"dataframe\">\n",
       "  <thead>\n",
       "    <tr style=\"text-align: right;\">\n",
       "      <th></th>\n",
       "      <th>hours played</th>\n",
       "    </tr>\n",
       "  </thead>\n",
       "  <tbody>\n",
       "    <tr>\n",
       "      <th>count</th>\n",
       "      <td>9319.000000</td>\n",
       "    </tr>\n",
       "    <tr>\n",
       "      <th>mean</th>\n",
       "      <td>42.288727</td>\n",
       "    </tr>\n",
       "    <tr>\n",
       "      <th>std</th>\n",
       "      <td>315.342750</td>\n",
       "    </tr>\n",
       "    <tr>\n",
       "      <th>min</th>\n",
       "      <td>0.000000</td>\n",
       "    </tr>\n",
       "    <tr>\n",
       "      <th>25%</th>\n",
       "      <td>0.000000</td>\n",
       "    </tr>\n",
       "    <tr>\n",
       "      <th>50%</th>\n",
       "      <td>1.366667</td>\n",
       "    </tr>\n",
       "    <tr>\n",
       "      <th>75%</th>\n",
       "      <td>11.225000</td>\n",
       "    </tr>\n",
       "    <tr>\n",
       "      <th>max</th>\n",
       "      <td>11522.383333</td>\n",
       "    </tr>\n",
       "  </tbody>\n",
       "</table>\n",
       "</div>"
      ],
      "text/plain": [
       "       hours played\n",
       "count   9319.000000\n",
       "mean      42.288727\n",
       "std      315.342750\n",
       "min        0.000000\n",
       "25%        0.000000\n",
       "50%        1.366667\n",
       "75%       11.225000\n",
       "max    11522.383333"
      ]
     },
     "execution_count": 160,
     "metadata": {},
     "output_type": "execute_result"
    }
   ],
   "source": [
    "raw_dataset.describe()"
   ]
  },
  {
   "cell_type": "code",
   "execution_count": 161,
   "metadata": {},
   "outputs": [
    {
     "data": {
      "text/plain": [
       "appid           3266\n",
       "game name       3259\n",
       "hours played    2497\n",
       "steamid           52\n",
       "dtype: int64"
      ]
     },
     "execution_count": 161,
     "metadata": {},
     "output_type": "execute_result"
    }
   ],
   "source": [
    "raw_dataset.nunique()"
   ]
  },
  {
   "attachments": {},
   "cell_type": "markdown",
   "metadata": {},
   "source": [
    "I started with 53 unique users, but there are only 52. It is possible that 1 user made private his profile and I was unable to retrieve his data. <br>\n",
    "Noted that unique number of appid and game_name are unequal, which is strange because each game is supposed to have a unique appid. <br>"
   ]
  },
  {
   "attachments": {},
   "cell_type": "markdown",
   "metadata": {},
   "source": [
    "#### Investigating which games have multiple App IDs, then replacing the incorrect App IDs. <br>\n",
    "We minimally need to ensure that each game only has 1 unique App ID for identification. The \"correct\" or \"official\" App ID is not crucial.  <br>"
   ]
  },
  {
   "cell_type": "code",
   "execution_count": 162,
   "metadata": {},
   "outputs": [
    {
     "name": "stdout",
     "output_type": "stream",
     "text": [
      "The games with multiple IDs are:\n"
     ]
    },
    {
     "data": {
      "text/html": [
       "<div>\n",
       "<style scoped>\n",
       "    .dataframe tbody tr th:only-of-type {\n",
       "        vertical-align: middle;\n",
       "    }\n",
       "\n",
       "    .dataframe tbody tr th {\n",
       "        vertical-align: top;\n",
       "    }\n",
       "\n",
       "    .dataframe thead th {\n",
       "        text-align: right;\n",
       "    }\n",
       "</style>\n",
       "<table border=\"1\" class=\"dataframe\">\n",
       "  <thead>\n",
       "    <tr style=\"text-align: right;\">\n",
       "      <th></th>\n",
       "      <th>game name</th>\n",
       "      <th>appid</th>\n",
       "    </tr>\n",
       "  </thead>\n",
       "  <tbody>\n",
       "    <tr>\n",
       "      <th>0</th>\n",
       "      <td>Grand Theft Auto III</td>\n",
       "      <td>2</td>\n",
       "    </tr>\n",
       "    <tr>\n",
       "      <th>1</th>\n",
       "      <td>Grand Theft Auto: San Andreas</td>\n",
       "      <td>2</td>\n",
       "    </tr>\n",
       "    <tr>\n",
       "      <th>2</th>\n",
       "      <td>Grand Theft Auto: Vice City</td>\n",
       "      <td>2</td>\n",
       "    </tr>\n",
       "    <tr>\n",
       "      <th>3</th>\n",
       "      <td>Sid Meier's Civilization IV</td>\n",
       "      <td>2</td>\n",
       "    </tr>\n",
       "    <tr>\n",
       "      <th>4</th>\n",
       "      <td>Sid Meier's Civilization IV: Beyond the Sword</td>\n",
       "      <td>2</td>\n",
       "    </tr>\n",
       "    <tr>\n",
       "      <th>5</th>\n",
       "      <td>Sid Meier's Civilization IV: Warlords</td>\n",
       "      <td>2</td>\n",
       "    </tr>\n",
       "    <tr>\n",
       "      <th>6</th>\n",
       "      <td>TERA</td>\n",
       "      <td>2</td>\n",
       "    </tr>\n",
       "  </tbody>\n",
       "</table>\n",
       "</div>"
      ],
      "text/plain": [
       "                                       game name  appid\n",
       "0                           Grand Theft Auto III      2\n",
       "1                  Grand Theft Auto: San Andreas      2\n",
       "2                    Grand Theft Auto: Vice City      2\n",
       "3                    Sid Meier's Civilization IV      2\n",
       "4  Sid Meier's Civilization IV: Beyond the Sword      2\n",
       "5          Sid Meier's Civilization IV: Warlords      2\n",
       "6                                           TERA      2"
      ]
     },
     "execution_count": 162,
     "metadata": {},
     "output_type": "execute_result"
    }
   ],
   "source": [
    "# Group the dataset by game name, and count the number of unique appids per game.\n",
    "game_grouped = raw_dataset.groupby('game name')['appid'].nunique()\n",
    "\n",
    "# Filter for games with more than 1 unique game_id.\n",
    "games_with_multiple_ids = game_grouped[game_grouped > 1]\n",
    "\n",
    "print(f\"The games with multiple IDs are:\")\n",
    "games_with_multiple_ids = pd.DataFrame(games_with_multiple_ids).reset_index()\n",
    "games_with_multiple_ids"
   ]
  },
  {
   "attachments": {},
   "cell_type": "markdown",
   "metadata": {},
   "source": [
    "Now that we have the list of games with multiple IDs, we can filter the dataset for those games to take a look."
   ]
  },
  {
   "cell_type": "code",
   "execution_count": 163,
   "metadata": {},
   "outputs": [
    {
     "data": {
      "text/html": [
       "<div>\n",
       "<style scoped>\n",
       "    .dataframe tbody tr th:only-of-type {\n",
       "        vertical-align: middle;\n",
       "    }\n",
       "\n",
       "    .dataframe tbody tr th {\n",
       "        vertical-align: top;\n",
       "    }\n",
       "\n",
       "    .dataframe thead th {\n",
       "        text-align: right;\n",
       "    }\n",
       "</style>\n",
       "<table border=\"1\" class=\"dataframe\">\n",
       "  <thead>\n",
       "    <tr style=\"text-align: right;\">\n",
       "      <th></th>\n",
       "      <th>appid</th>\n",
       "      <th>game name</th>\n",
       "    </tr>\n",
       "  </thead>\n",
       "  <tbody>\n",
       "    <tr>\n",
       "      <th>7764</th>\n",
       "      <td>12230</td>\n",
       "      <td>Grand Theft Auto III</td>\n",
       "    </tr>\n",
       "    <tr>\n",
       "      <th>7759</th>\n",
       "      <td>12100</td>\n",
       "      <td>Grand Theft Auto III</td>\n",
       "    </tr>\n",
       "    <tr>\n",
       "      <th>8885</th>\n",
       "      <td>12250</td>\n",
       "      <td>Grand Theft Auto: San Andreas</td>\n",
       "    </tr>\n",
       "    <tr>\n",
       "      <th>7766</th>\n",
       "      <td>12250</td>\n",
       "      <td>Grand Theft Auto: San Andreas</td>\n",
       "    </tr>\n",
       "    <tr>\n",
       "      <th>1333</th>\n",
       "      <td>12120</td>\n",
       "      <td>Grand Theft Auto: San Andreas</td>\n",
       "    </tr>\n",
       "    <tr>\n",
       "      <th>1334</th>\n",
       "      <td>12250</td>\n",
       "      <td>Grand Theft Auto: San Andreas</td>\n",
       "    </tr>\n",
       "    <tr>\n",
       "      <th>7761</th>\n",
       "      <td>12120</td>\n",
       "      <td>Grand Theft Auto: San Andreas</td>\n",
       "    </tr>\n",
       "    <tr>\n",
       "      <th>8884</th>\n",
       "      <td>12120</td>\n",
       "      <td>Grand Theft Auto: San Andreas</td>\n",
       "    </tr>\n",
       "    <tr>\n",
       "      <th>7765</th>\n",
       "      <td>12240</td>\n",
       "      <td>Grand Theft Auto: Vice City</td>\n",
       "    </tr>\n",
       "    <tr>\n",
       "      <th>7760</th>\n",
       "      <td>12110</td>\n",
       "      <td>Grand Theft Auto: Vice City</td>\n",
       "    </tr>\n",
       "    <tr>\n",
       "      <th>7110</th>\n",
       "      <td>34440</td>\n",
       "      <td>Sid Meier's Civilization IV</td>\n",
       "    </tr>\n",
       "    <tr>\n",
       "      <th>7104</th>\n",
       "      <td>3900</td>\n",
       "      <td>Sid Meier's Civilization IV</td>\n",
       "    </tr>\n",
       "    <tr>\n",
       "      <th>7112</th>\n",
       "      <td>34460</td>\n",
       "      <td>Sid Meier's Civilization IV: Beyond the Sword</td>\n",
       "    </tr>\n",
       "    <tr>\n",
       "      <th>7107</th>\n",
       "      <td>8800</td>\n",
       "      <td>Sid Meier's Civilization IV: Beyond the Sword</td>\n",
       "    </tr>\n",
       "    <tr>\n",
       "      <th>7106</th>\n",
       "      <td>3990</td>\n",
       "      <td>Sid Meier's Civilization IV: Warlords</td>\n",
       "    </tr>\n",
       "    <tr>\n",
       "      <th>7111</th>\n",
       "      <td>34450</td>\n",
       "      <td>Sid Meier's Civilization IV: Warlords</td>\n",
       "    </tr>\n",
       "    <tr>\n",
       "      <th>8873</th>\n",
       "      <td>323370</td>\n",
       "      <td>TERA</td>\n",
       "    </tr>\n",
       "    <tr>\n",
       "      <th>8688</th>\n",
       "      <td>323370</td>\n",
       "      <td>TERA</td>\n",
       "    </tr>\n",
       "    <tr>\n",
       "      <th>8405</th>\n",
       "      <td>323370</td>\n",
       "      <td>TERA</td>\n",
       "    </tr>\n",
       "    <tr>\n",
       "      <th>781</th>\n",
       "      <td>323370</td>\n",
       "      <td>TERA</td>\n",
       "    </tr>\n",
       "    <tr>\n",
       "      <th>1777</th>\n",
       "      <td>323370</td>\n",
       "      <td>TERA</td>\n",
       "    </tr>\n",
       "    <tr>\n",
       "      <th>2552</th>\n",
       "      <td>323370</td>\n",
       "      <td>TERA</td>\n",
       "    </tr>\n",
       "    <tr>\n",
       "      <th>2886</th>\n",
       "      <td>323370</td>\n",
       "      <td>TERA</td>\n",
       "    </tr>\n",
       "    <tr>\n",
       "      <th>3030</th>\n",
       "      <td>323370</td>\n",
       "      <td>TERA</td>\n",
       "    </tr>\n",
       "    <tr>\n",
       "      <th>3387</th>\n",
       "      <td>323370</td>\n",
       "      <td>TERA</td>\n",
       "    </tr>\n",
       "    <tr>\n",
       "      <th>7331</th>\n",
       "      <td>323370</td>\n",
       "      <td>TERA</td>\n",
       "    </tr>\n",
       "    <tr>\n",
       "      <th>3549</th>\n",
       "      <td>323370</td>\n",
       "      <td>TERA</td>\n",
       "    </tr>\n",
       "    <tr>\n",
       "      <th>3657</th>\n",
       "      <td>323370</td>\n",
       "      <td>TERA</td>\n",
       "    </tr>\n",
       "    <tr>\n",
       "      <th>5032</th>\n",
       "      <td>323370</td>\n",
       "      <td>TERA</td>\n",
       "    </tr>\n",
       "    <tr>\n",
       "      <th>6006</th>\n",
       "      <td>212740</td>\n",
       "      <td>TERA</td>\n",
       "    </tr>\n",
       "    <tr>\n",
       "      <th>281</th>\n",
       "      <td>323370</td>\n",
       "      <td>TERA</td>\n",
       "    </tr>\n",
       "  </tbody>\n",
       "</table>\n",
       "</div>"
      ],
      "text/plain": [
       "       appid                                      game name\n",
       "7764   12230                           Grand Theft Auto III\n",
       "7759   12100                           Grand Theft Auto III\n",
       "8885   12250                  Grand Theft Auto: San Andreas\n",
       "7766   12250                  Grand Theft Auto: San Andreas\n",
       "1333   12120                  Grand Theft Auto: San Andreas\n",
       "1334   12250                  Grand Theft Auto: San Andreas\n",
       "7761   12120                  Grand Theft Auto: San Andreas\n",
       "8884   12120                  Grand Theft Auto: San Andreas\n",
       "7765   12240                    Grand Theft Auto: Vice City\n",
       "7760   12110                    Grand Theft Auto: Vice City\n",
       "7110   34440                    Sid Meier's Civilization IV\n",
       "7104    3900                    Sid Meier's Civilization IV\n",
       "7112   34460  Sid Meier's Civilization IV: Beyond the Sword\n",
       "7107    8800  Sid Meier's Civilization IV: Beyond the Sword\n",
       "7106    3990          Sid Meier's Civilization IV: Warlords\n",
       "7111   34450          Sid Meier's Civilization IV: Warlords\n",
       "8873  323370                                           TERA\n",
       "8688  323370                                           TERA\n",
       "8405  323370                                           TERA\n",
       "781   323370                                           TERA\n",
       "1777  323370                                           TERA\n",
       "2552  323370                                           TERA\n",
       "2886  323370                                           TERA\n",
       "3030  323370                                           TERA\n",
       "3387  323370                                           TERA\n",
       "7331  323370                                           TERA\n",
       "3549  323370                                           TERA\n",
       "3657  323370                                           TERA\n",
       "5032  323370                                           TERA\n",
       "6006  212740                                           TERA\n",
       "281   323370                                           TERA"
      ]
     },
     "execution_count": 163,
     "metadata": {},
     "output_type": "execute_result"
    }
   ],
   "source": [
    "games_with_multiple_ids_list = list(games_with_multiple_ids[\"game name\"])\n",
    "\n",
    "\n",
    "multiple_ids_df = raw_dataset[raw_dataset[\"game name\"].isin(games_with_multiple_ids_list)][[\"appid\",\"game name\"]].sort_values(by=\"game name\")\n",
    "multiple_ids_df"
   ]
  },
  {
   "cell_type": "code",
   "execution_count": 164,
   "metadata": {},
   "outputs": [
    {
     "data": {
      "text/html": [
       "<div>\n",
       "<style scoped>\n",
       "    .dataframe tbody tr th:only-of-type {\n",
       "        vertical-align: middle;\n",
       "    }\n",
       "\n",
       "    .dataframe tbody tr th {\n",
       "        vertical-align: top;\n",
       "    }\n",
       "\n",
       "    .dataframe thead th {\n",
       "        text-align: right;\n",
       "    }\n",
       "</style>\n",
       "<table border=\"1\" class=\"dataframe\">\n",
       "  <thead>\n",
       "    <tr style=\"text-align: right;\">\n",
       "      <th></th>\n",
       "      <th>appid</th>\n",
       "    </tr>\n",
       "    <tr>\n",
       "      <th>game name</th>\n",
       "      <th></th>\n",
       "    </tr>\n",
       "  </thead>\n",
       "  <tbody>\n",
       "    <tr>\n",
       "      <th>Grand Theft Auto III</th>\n",
       "      <td>[12230, 12100]</td>\n",
       "    </tr>\n",
       "    <tr>\n",
       "      <th>Grand Theft Auto: San Andreas</th>\n",
       "      <td>[12250, 12120]</td>\n",
       "    </tr>\n",
       "    <tr>\n",
       "      <th>Grand Theft Auto: Vice City</th>\n",
       "      <td>[12240, 12110]</td>\n",
       "    </tr>\n",
       "    <tr>\n",
       "      <th>Sid Meier's Civilization IV</th>\n",
       "      <td>[34440, 3900]</td>\n",
       "    </tr>\n",
       "    <tr>\n",
       "      <th>Sid Meier's Civilization IV: Beyond the Sword</th>\n",
       "      <td>[34460, 8800]</td>\n",
       "    </tr>\n",
       "    <tr>\n",
       "      <th>Sid Meier's Civilization IV: Warlords</th>\n",
       "      <td>[3990, 34450]</td>\n",
       "    </tr>\n",
       "    <tr>\n",
       "      <th>TERA</th>\n",
       "      <td>[323370, 212740]</td>\n",
       "    </tr>\n",
       "  </tbody>\n",
       "</table>\n",
       "</div>"
      ],
      "text/plain": [
       "                                                          appid\n",
       "game name                                                      \n",
       "Grand Theft Auto III                             [12230, 12100]\n",
       "Grand Theft Auto: San Andreas                    [12250, 12120]\n",
       "Grand Theft Auto: Vice City                      [12240, 12110]\n",
       "Sid Meier's Civilization IV                       [34440, 3900]\n",
       "Sid Meier's Civilization IV: Beyond the Sword     [34460, 8800]\n",
       "Sid Meier's Civilization IV: Warlords             [3990, 34450]\n",
       "TERA                                           [323370, 212740]"
      ]
     },
     "execution_count": 164,
     "metadata": {},
     "output_type": "execute_result"
    }
   ],
   "source": [
    "pd.DataFrame(multiple_ids_df.groupby(\"game name\")[\"appid\"].unique())"
   ]
  },
  {
   "attachments": {},
   "cell_type": "markdown",
   "metadata": {},
   "source": [
    "After checking online sources, the correct app IDs for the above games are:\n",
    "\n",
    "Grand Theft Auto III : 12230 <br>\n",
    "https://steamdb.info/app/12230/\n",
    "\n",
    "Grand Theft Auto: San Andreas : 12120 <br>\n",
    "https://steamdb.info/app/12120/\n",
    "\n",
    "Grand Theft Auto: Vice City: 12240 <br>\n",
    "https://steamdb.info/app/12240/\n",
    "\n",
    "Sid Meier's Civilization IV\t: 3900 <br>\n",
    "https://steamdb.info/app/3900/\n",
    "\n",
    "Sid Meier's Civilization IV: Beyond the Sword : 8800 <br>\n",
    "https://steamdb.info/app/8800/\n",
    "\n",
    "Sid Meier's Civilization IV: Warlords : 3990 <br>\n",
    "https://steamdb.info/app/3990/\n",
    "\n",
    "TERA : 212740 <br>\n",
    "https://steamdb.info/app/212740/\n",
    "\n",
    "As mentioned above, the accuracy of which app ID is the \"correct\" or \"official\" one does not have much impact on our analysis later, since the app ID is used more to identify the games."
   ]
  },
  {
   "cell_type": "code",
   "execution_count": 165,
   "metadata": {},
   "outputs": [],
   "source": [
    "# Replacing the app IDs.\n",
    "raw_dataset[\"appid\"].replace(\"12100\", \"12230\", inplace=True)\n",
    "raw_dataset[\"appid\"].replace(\"12250\", \"12120\", inplace=True)\n",
    "raw_dataset[\"appid\"].replace(\"12110\", \"12240\", inplace=True)\n",
    "raw_dataset[\"appid\"].replace(\"34440\", \"3900\", inplace=True)\n",
    "raw_dataset[\"appid\"].replace(\"34460\", \"8800\", inplace=True)\n",
    "raw_dataset[\"appid\"].replace(\"34450\", \"3990\", inplace=True)\n",
    "raw_dataset[\"appid\"].replace(\"323370\", \"212740\", inplace=True)"
   ]
  },
  {
   "cell_type": "code",
   "execution_count": 166,
   "metadata": {},
   "outputs": [
    {
     "data": {
      "text/plain": [
       "appid           3259\n",
       "game name       3259\n",
       "hours played    2497\n",
       "steamid           52\n",
       "dtype: int64"
      ]
     },
     "execution_count": 166,
     "metadata": {},
     "output_type": "execute_result"
    }
   ],
   "source": [
    "# Checking the unique values again. The number of App IDs should be equal to the number of unique game names.\n",
    "raw_dataset.nunique()"
   ]
  },
  {
   "cell_type": "code",
   "execution_count": 167,
   "metadata": {},
   "outputs": [
    {
     "data": {
      "text/html": [
       "<div>\n",
       "<style scoped>\n",
       "    .dataframe tbody tr th:only-of-type {\n",
       "        vertical-align: middle;\n",
       "    }\n",
       "\n",
       "    .dataframe tbody tr th {\n",
       "        vertical-align: top;\n",
       "    }\n",
       "\n",
       "    .dataframe thead th {\n",
       "        text-align: right;\n",
       "    }\n",
       "</style>\n",
       "<table border=\"1\" class=\"dataframe\">\n",
       "  <thead>\n",
       "    <tr style=\"text-align: right;\">\n",
       "      <th></th>\n",
       "      <th>appid</th>\n",
       "      <th>game name</th>\n",
       "      <th>hours played</th>\n",
       "      <th>steamid</th>\n",
       "    </tr>\n",
       "  </thead>\n",
       "  <tbody>\n",
       "    <tr>\n",
       "      <th>7764</th>\n",
       "      <td>12230</td>\n",
       "      <td>Grand Theft Auto III</td>\n",
       "      <td>0.000000</td>\n",
       "      <td>76561197965527053</td>\n",
       "    </tr>\n",
       "    <tr>\n",
       "      <th>7759</th>\n",
       "      <td>12230</td>\n",
       "      <td>Grand Theft Auto III</td>\n",
       "      <td>0.083333</td>\n",
       "      <td>76561197965527053</td>\n",
       "    </tr>\n",
       "    <tr>\n",
       "      <th>8885</th>\n",
       "      <td>12120</td>\n",
       "      <td>Grand Theft Auto: San Andreas</td>\n",
       "      <td>0.000000</td>\n",
       "      <td>76561197991050584</td>\n",
       "    </tr>\n",
       "    <tr>\n",
       "      <th>7766</th>\n",
       "      <td>12120</td>\n",
       "      <td>Grand Theft Auto: San Andreas</td>\n",
       "      <td>0.000000</td>\n",
       "      <td>76561197965527053</td>\n",
       "    </tr>\n",
       "    <tr>\n",
       "      <th>1333</th>\n",
       "      <td>12120</td>\n",
       "      <td>Grand Theft Auto: San Andreas</td>\n",
       "      <td>0.000000</td>\n",
       "      <td>76561198010002949</td>\n",
       "    </tr>\n",
       "    <tr>\n",
       "      <th>1334</th>\n",
       "      <td>12120</td>\n",
       "      <td>Grand Theft Auto: San Andreas</td>\n",
       "      <td>0.000000</td>\n",
       "      <td>76561198010002949</td>\n",
       "    </tr>\n",
       "    <tr>\n",
       "      <th>7761</th>\n",
       "      <td>12120</td>\n",
       "      <td>Grand Theft Auto: San Andreas</td>\n",
       "      <td>0.450000</td>\n",
       "      <td>76561197965527053</td>\n",
       "    </tr>\n",
       "    <tr>\n",
       "      <th>8884</th>\n",
       "      <td>12120</td>\n",
       "      <td>Grand Theft Auto: San Andreas</td>\n",
       "      <td>2.016667</td>\n",
       "      <td>76561197991050584</td>\n",
       "    </tr>\n",
       "    <tr>\n",
       "      <th>7765</th>\n",
       "      <td>12240</td>\n",
       "      <td>Grand Theft Auto: Vice City</td>\n",
       "      <td>0.000000</td>\n",
       "      <td>76561197965527053</td>\n",
       "    </tr>\n",
       "    <tr>\n",
       "      <th>7760</th>\n",
       "      <td>12240</td>\n",
       "      <td>Grand Theft Auto: Vice City</td>\n",
       "      <td>0.000000</td>\n",
       "      <td>76561197965527053</td>\n",
       "    </tr>\n",
       "    <tr>\n",
       "      <th>7110</th>\n",
       "      <td>3900</td>\n",
       "      <td>Sid Meier's Civilization IV</td>\n",
       "      <td>0.000000</td>\n",
       "      <td>76561197964812023</td>\n",
       "    </tr>\n",
       "    <tr>\n",
       "      <th>7104</th>\n",
       "      <td>3900</td>\n",
       "      <td>Sid Meier's Civilization IV</td>\n",
       "      <td>0.000000</td>\n",
       "      <td>76561197964812023</td>\n",
       "    </tr>\n",
       "    <tr>\n",
       "      <th>7112</th>\n",
       "      <td>8800</td>\n",
       "      <td>Sid Meier's Civilization IV: Beyond the Sword</td>\n",
       "      <td>0.000000</td>\n",
       "      <td>76561197964812023</td>\n",
       "    </tr>\n",
       "    <tr>\n",
       "      <th>7107</th>\n",
       "      <td>8800</td>\n",
       "      <td>Sid Meier's Civilization IV: Beyond the Sword</td>\n",
       "      <td>0.000000</td>\n",
       "      <td>76561197964812023</td>\n",
       "    </tr>\n",
       "    <tr>\n",
       "      <th>7106</th>\n",
       "      <td>3990</td>\n",
       "      <td>Sid Meier's Civilization IV: Warlords</td>\n",
       "      <td>0.000000</td>\n",
       "      <td>76561197964812023</td>\n",
       "    </tr>\n",
       "    <tr>\n",
       "      <th>7111</th>\n",
       "      <td>3990</td>\n",
       "      <td>Sid Meier's Civilization IV: Warlords</td>\n",
       "      <td>0.000000</td>\n",
       "      <td>76561197964812023</td>\n",
       "    </tr>\n",
       "    <tr>\n",
       "      <th>8873</th>\n",
       "      <td>212740</td>\n",
       "      <td>TERA</td>\n",
       "      <td>0.000000</td>\n",
       "      <td>76561197991050584</td>\n",
       "    </tr>\n",
       "    <tr>\n",
       "      <th>8688</th>\n",
       "      <td>212740</td>\n",
       "      <td>TERA</td>\n",
       "      <td>0.016667</td>\n",
       "      <td>76561197970683033</td>\n",
       "    </tr>\n",
       "    <tr>\n",
       "      <th>8405</th>\n",
       "      <td>212740</td>\n",
       "      <td>TERA</td>\n",
       "      <td>4.266667</td>\n",
       "      <td>76561197993300234</td>\n",
       "    </tr>\n",
       "    <tr>\n",
       "      <th>781</th>\n",
       "      <td>212740</td>\n",
       "      <td>TERA</td>\n",
       "      <td>0.983333</td>\n",
       "      <td>76561198004670799</td>\n",
       "    </tr>\n",
       "    <tr>\n",
       "      <th>1777</th>\n",
       "      <td>212740</td>\n",
       "      <td>TERA</td>\n",
       "      <td>0.000000</td>\n",
       "      <td>76561197962050254</td>\n",
       "    </tr>\n",
       "    <tr>\n",
       "      <th>2552</th>\n",
       "      <td>212740</td>\n",
       "      <td>TERA</td>\n",
       "      <td>0.000000</td>\n",
       "      <td>76561198014294480</td>\n",
       "    </tr>\n",
       "    <tr>\n",
       "      <th>2886</th>\n",
       "      <td>212740</td>\n",
       "      <td>TERA</td>\n",
       "      <td>14.933333</td>\n",
       "      <td>76561198001262177</td>\n",
       "    </tr>\n",
       "    <tr>\n",
       "      <th>3030</th>\n",
       "      <td>212740</td>\n",
       "      <td>TERA</td>\n",
       "      <td>0.000000</td>\n",
       "      <td>76561198084453258</td>\n",
       "    </tr>\n",
       "    <tr>\n",
       "      <th>3387</th>\n",
       "      <td>212740</td>\n",
       "      <td>TERA</td>\n",
       "      <td>0.000000</td>\n",
       "      <td>76561198037629929</td>\n",
       "    </tr>\n",
       "    <tr>\n",
       "      <th>7331</th>\n",
       "      <td>212740</td>\n",
       "      <td>TERA</td>\n",
       "      <td>0.066667</td>\n",
       "      <td>76561197964812023</td>\n",
       "    </tr>\n",
       "    <tr>\n",
       "      <th>3549</th>\n",
       "      <td>212740</td>\n",
       "      <td>TERA</td>\n",
       "      <td>0.300000</td>\n",
       "      <td>76561197984628526</td>\n",
       "    </tr>\n",
       "    <tr>\n",
       "      <th>3657</th>\n",
       "      <td>212740</td>\n",
       "      <td>TERA</td>\n",
       "      <td>52.083333</td>\n",
       "      <td>76561198046933197</td>\n",
       "    </tr>\n",
       "    <tr>\n",
       "      <th>5032</th>\n",
       "      <td>212740</td>\n",
       "      <td>TERA</td>\n",
       "      <td>14.633333</td>\n",
       "      <td>76561198024567076</td>\n",
       "    </tr>\n",
       "    <tr>\n",
       "      <th>6006</th>\n",
       "      <td>212740</td>\n",
       "      <td>TERA</td>\n",
       "      <td>11.950000</td>\n",
       "      <td>76561198010183102</td>\n",
       "    </tr>\n",
       "    <tr>\n",
       "      <th>281</th>\n",
       "      <td>212740</td>\n",
       "      <td>TERA</td>\n",
       "      <td>3.850000</td>\n",
       "      <td>76561198039495811</td>\n",
       "    </tr>\n",
       "  </tbody>\n",
       "</table>\n",
       "</div>"
      ],
      "text/plain": [
       "       appid                                      game name  hours played  \\\n",
       "7764   12230                           Grand Theft Auto III      0.000000   \n",
       "7759   12230                           Grand Theft Auto III      0.083333   \n",
       "8885   12120                  Grand Theft Auto: San Andreas      0.000000   \n",
       "7766   12120                  Grand Theft Auto: San Andreas      0.000000   \n",
       "1333   12120                  Grand Theft Auto: San Andreas      0.000000   \n",
       "1334   12120                  Grand Theft Auto: San Andreas      0.000000   \n",
       "7761   12120                  Grand Theft Auto: San Andreas      0.450000   \n",
       "8884   12120                  Grand Theft Auto: San Andreas      2.016667   \n",
       "7765   12240                    Grand Theft Auto: Vice City      0.000000   \n",
       "7760   12240                    Grand Theft Auto: Vice City      0.000000   \n",
       "7110    3900                    Sid Meier's Civilization IV      0.000000   \n",
       "7104    3900                    Sid Meier's Civilization IV      0.000000   \n",
       "7112    8800  Sid Meier's Civilization IV: Beyond the Sword      0.000000   \n",
       "7107    8800  Sid Meier's Civilization IV: Beyond the Sword      0.000000   \n",
       "7106    3990          Sid Meier's Civilization IV: Warlords      0.000000   \n",
       "7111    3990          Sid Meier's Civilization IV: Warlords      0.000000   \n",
       "8873  212740                                           TERA      0.000000   \n",
       "8688  212740                                           TERA      0.016667   \n",
       "8405  212740                                           TERA      4.266667   \n",
       "781   212740                                           TERA      0.983333   \n",
       "1777  212740                                           TERA      0.000000   \n",
       "2552  212740                                           TERA      0.000000   \n",
       "2886  212740                                           TERA     14.933333   \n",
       "3030  212740                                           TERA      0.000000   \n",
       "3387  212740                                           TERA      0.000000   \n",
       "7331  212740                                           TERA      0.066667   \n",
       "3549  212740                                           TERA      0.300000   \n",
       "3657  212740                                           TERA     52.083333   \n",
       "5032  212740                                           TERA     14.633333   \n",
       "6006  212740                                           TERA     11.950000   \n",
       "281   212740                                           TERA      3.850000   \n",
       "\n",
       "                steamid  \n",
       "7764  76561197965527053  \n",
       "7759  76561197965527053  \n",
       "8885  76561197991050584  \n",
       "7766  76561197965527053  \n",
       "1333  76561198010002949  \n",
       "1334  76561198010002949  \n",
       "7761  76561197965527053  \n",
       "8884  76561197991050584  \n",
       "7765  76561197965527053  \n",
       "7760  76561197965527053  \n",
       "7110  76561197964812023  \n",
       "7104  76561197964812023  \n",
       "7112  76561197964812023  \n",
       "7107  76561197964812023  \n",
       "7106  76561197964812023  \n",
       "7111  76561197964812023  \n",
       "8873  76561197991050584  \n",
       "8688  76561197970683033  \n",
       "8405  76561197993300234  \n",
       "781   76561198004670799  \n",
       "1777  76561197962050254  \n",
       "2552  76561198014294480  \n",
       "2886  76561198001262177  \n",
       "3030  76561198084453258  \n",
       "3387  76561198037629929  \n",
       "7331  76561197964812023  \n",
       "3549  76561197984628526  \n",
       "3657  76561198046933197  \n",
       "5032  76561198024567076  \n",
       "6006  76561198010183102  \n",
       "281   76561198039495811  "
      ]
     },
     "execution_count": 167,
     "metadata": {},
     "output_type": "execute_result"
    }
   ],
   "source": [
    "# Checking that the games with multiple App IDs now all have the same App ID.\n",
    "raw_dataset[raw_dataset[\"game name\"].isin(games_with_multiple_ids_list)].sort_values(by=\"game name\")"
   ]
  },
  {
   "attachments": {},
   "cell_type": "markdown",
   "metadata": {},
   "source": [
    "#### Removing unplayed games / games with 0 playtime.\n",
    "\n",
    "Next, we take a look at playtimes of each player, and the playtimes of each player on the games they own."
   ]
  },
  {
   "cell_type": "code",
   "execution_count": 168,
   "metadata": {},
   "outputs": [
    {
     "data": {
      "text/plain": [
       "count     9319.000000\n",
       "mean        42.288727\n",
       "std        315.342750\n",
       "min          0.000000\n",
       "25%          0.000000\n",
       "50%          1.366667\n",
       "75%         11.225000\n",
       "max      11522.383333\n",
       "Name: hours played, dtype: float64"
      ]
     },
     "execution_count": 168,
     "metadata": {},
     "output_type": "execute_result"
    }
   ],
   "source": [
    "raw_dataset[\"hours played\"].describe()"
   ]
  },
  {
   "attachments": {},
   "cell_type": "markdown",
   "metadata": {},
   "source": [
    "The minimum hours played is 0. However, I want to focus on games that have been played, as playtime on a game is an indicator / proxy for a user's preference towards it. <br>\n",
    "We can remove games that have a playtime of 0 hours. <br>"
   ]
  },
  {
   "cell_type": "code",
   "execution_count": 169,
   "metadata": {},
   "outputs": [],
   "source": [
    "# Dropping rows (games) with 0 hours played.\n",
    "dataset_cleaned = raw_dataset.drop(raw_dataset[raw_dataset[\"hours played\"] == 0].index)"
   ]
  },
  {
   "cell_type": "code",
   "execution_count": 170,
   "metadata": {},
   "outputs": [
    {
     "name": "stdout",
     "output_type": "stream",
     "text": [
      "count     6256.000000\n",
      "mean        62.993710\n",
      "std        383.186210\n",
      "min          0.016667\n",
      "25%          1.300000\n",
      "50%          5.475000\n",
      "75%         22.691667\n",
      "max      11522.383333\n",
      "Name: hours played, dtype: float64\n"
     ]
    }
   ],
   "source": [
    "print(dataset_cleaned[\"hours played\"].describe())"
   ]
  },
  {
   "attachments": {},
   "cell_type": "markdown",
   "metadata": {},
   "source": [
    "We are left with 6256 rows, and the minimum hours played is 0.01667. <br>\n",
    "The remaining rows are games that were definitely played by all users at some point (playtime > 0). <br>"
   ]
  },
  {
   "attachments": {},
   "cell_type": "markdown",
   "metadata": {},
   "source": [
    "#### Checkpoint. Save the dataset_cleaned to excel."
   ]
  },
  {
   "cell_type": "code",
   "execution_count": 171,
   "metadata": {},
   "outputs": [],
   "source": [
    "dataset_cleaned.to_excel(\"dataset_cleaned.xlsx\", index=False)"
   ]
  },
  {
   "attachments": {},
   "cell_type": "markdown",
   "metadata": {},
   "source": [
    "#### Checking for outliers\n",
    "Now, we check for outliers. For a start, I want to trim the dataset slightly. With fewer users, it would be easier for me to fix issues I face later. <br>\n",
    "However, do note that our recommender can still be applied on all 52 users and their data. <br>"
   ]
  },
  {
   "cell_type": "code",
   "execution_count": 172,
   "metadata": {},
   "outputs": [],
   "source": [
    "per_user_gamecount = dataset_cleaned.groupby(\"steamid\")[\"game name\"].count()\n",
    "per_user_totalhoursplayed = dataset_cleaned.groupby(\"steamid\")[\"hours played\"].sum()"
   ]
  },
  {
   "cell_type": "code",
   "execution_count": 173,
   "metadata": {},
   "outputs": [],
   "source": [
    "per_user_data = pd.DataFrame(columns={\"game count\", \"total hours played\"})\n",
    "per_user_data[\"game count\"] = per_user_gamecount\n",
    "per_user_data[\"total hours played\"] = per_user_totalhoursplayed"
   ]
  },
  {
   "cell_type": "code",
   "execution_count": 174,
   "metadata": {},
   "outputs": [
    {
     "data": {
      "text/html": [
       "<div>\n",
       "<style scoped>\n",
       "    .dataframe tbody tr th:only-of-type {\n",
       "        vertical-align: middle;\n",
       "    }\n",
       "\n",
       "    .dataframe tbody tr th {\n",
       "        vertical-align: top;\n",
       "    }\n",
       "\n",
       "    .dataframe thead th {\n",
       "        text-align: right;\n",
       "    }\n",
       "</style>\n",
       "<table border=\"1\" class=\"dataframe\">\n",
       "  <thead>\n",
       "    <tr style=\"text-align: right;\">\n",
       "      <th></th>\n",
       "      <th>steamid</th>\n",
       "      <th>total hours played</th>\n",
       "      <th>game count</th>\n",
       "    </tr>\n",
       "  </thead>\n",
       "  <tbody>\n",
       "    <tr>\n",
       "      <th>0</th>\n",
       "      <td>76561198010183102</td>\n",
       "      <td>17167.716667</td>\n",
       "      <td>611</td>\n",
       "    </tr>\n",
       "    <tr>\n",
       "      <th>1</th>\n",
       "      <td>76561197964812023</td>\n",
       "      <td>17229.483333</td>\n",
       "      <td>558</td>\n",
       "    </tr>\n",
       "    <tr>\n",
       "      <th>2</th>\n",
       "      <td>76561198010002949</td>\n",
       "      <td>17035.333333</td>\n",
       "      <td>380</td>\n",
       "    </tr>\n",
       "    <tr>\n",
       "      <th>3</th>\n",
       "      <td>76561198004094042</td>\n",
       "      <td>30479.083333</td>\n",
       "      <td>349</td>\n",
       "    </tr>\n",
       "    <tr>\n",
       "      <th>4</th>\n",
       "      <td>76561198014294480</td>\n",
       "      <td>10677.183333</td>\n",
       "      <td>314</td>\n",
       "    </tr>\n",
       "    <tr>\n",
       "      <th>5</th>\n",
       "      <td>76561198001281625</td>\n",
       "      <td>13263.466667</td>\n",
       "      <td>285</td>\n",
       "    </tr>\n",
       "    <tr>\n",
       "      <th>6</th>\n",
       "      <td>76561197993300234</td>\n",
       "      <td>10787.600000</td>\n",
       "      <td>264</td>\n",
       "    </tr>\n",
       "    <tr>\n",
       "      <th>7</th>\n",
       "      <td>76561198039203265</td>\n",
       "      <td>14148.566667</td>\n",
       "      <td>234</td>\n",
       "    </tr>\n",
       "    <tr>\n",
       "      <th>8</th>\n",
       "      <td>76561197965527053</td>\n",
       "      <td>7095.933333</td>\n",
       "      <td>210</td>\n",
       "    </tr>\n",
       "    <tr>\n",
       "      <th>9</th>\n",
       "      <td>76561198001262177</td>\n",
       "      <td>20687.633333</td>\n",
       "      <td>199</td>\n",
       "    </tr>\n",
       "    <tr>\n",
       "      <th>10</th>\n",
       "      <td>76561198039495811</td>\n",
       "      <td>3515.383333</td>\n",
       "      <td>189</td>\n",
       "    </tr>\n",
       "    <tr>\n",
       "      <th>11</th>\n",
       "      <td>76561197970738118</td>\n",
       "      <td>7516.466667</td>\n",
       "      <td>176</td>\n",
       "    </tr>\n",
       "    <tr>\n",
       "      <th>12</th>\n",
       "      <td>76561197984628526</td>\n",
       "      <td>7802.350000</td>\n",
       "      <td>171</td>\n",
       "    </tr>\n",
       "    <tr>\n",
       "      <th>13</th>\n",
       "      <td>76561197991050584</td>\n",
       "      <td>25310.583333</td>\n",
       "      <td>170</td>\n",
       "    </tr>\n",
       "    <tr>\n",
       "      <th>14</th>\n",
       "      <td>76561198004803656</td>\n",
       "      <td>3973.266667</td>\n",
       "      <td>165</td>\n",
       "    </tr>\n",
       "    <tr>\n",
       "      <th>15</th>\n",
       "      <td>76561197970683033</td>\n",
       "      <td>4910.233333</td>\n",
       "      <td>162</td>\n",
       "    </tr>\n",
       "    <tr>\n",
       "      <th>16</th>\n",
       "      <td>76561198092753159</td>\n",
       "      <td>10418.916667</td>\n",
       "      <td>128</td>\n",
       "    </tr>\n",
       "    <tr>\n",
       "      <th>17</th>\n",
       "      <td>76561197985630263</td>\n",
       "      <td>5391.216667</td>\n",
       "      <td>110</td>\n",
       "    </tr>\n",
       "    <tr>\n",
       "      <th>18</th>\n",
       "      <td>76561198014848444</td>\n",
       "      <td>1724.866667</td>\n",
       "      <td>100</td>\n",
       "    </tr>\n",
       "    <tr>\n",
       "      <th>19</th>\n",
       "      <td>76561197962050254</td>\n",
       "      <td>16009.700000</td>\n",
       "      <td>86</td>\n",
       "    </tr>\n",
       "    <tr>\n",
       "      <th>20</th>\n",
       "      <td>76561197993304508</td>\n",
       "      <td>3823.183333</td>\n",
       "      <td>73</td>\n",
       "    </tr>\n",
       "    <tr>\n",
       "      <th>21</th>\n",
       "      <td>76561197971034129</td>\n",
       "      <td>18612.716667</td>\n",
       "      <td>71</td>\n",
       "    </tr>\n",
       "    <tr>\n",
       "      <th>22</th>\n",
       "      <td>76561197965062542</td>\n",
       "      <td>3586.583333</td>\n",
       "      <td>71</td>\n",
       "    </tr>\n",
       "    <tr>\n",
       "      <th>23</th>\n",
       "      <td>76561198098188285</td>\n",
       "      <td>4442.566667</td>\n",
       "      <td>68</td>\n",
       "    </tr>\n",
       "    <tr>\n",
       "      <th>24</th>\n",
       "      <td>76561197998169405</td>\n",
       "      <td>9063.750000</td>\n",
       "      <td>65</td>\n",
       "    </tr>\n",
       "    <tr>\n",
       "      <th>25</th>\n",
       "      <td>76561198037629929</td>\n",
       "      <td>6954.433333</td>\n",
       "      <td>64</td>\n",
       "    </tr>\n",
       "    <tr>\n",
       "      <th>26</th>\n",
       "      <td>76561198004670799</td>\n",
       "      <td>3381.616667</td>\n",
       "      <td>62</td>\n",
       "    </tr>\n",
       "    <tr>\n",
       "      <th>27</th>\n",
       "      <td>76561198056613809</td>\n",
       "      <td>1555.350000</td>\n",
       "      <td>61</td>\n",
       "    </tr>\n",
       "    <tr>\n",
       "      <th>28</th>\n",
       "      <td>76561197998488829</td>\n",
       "      <td>8274.050000</td>\n",
       "      <td>60</td>\n",
       "    </tr>\n",
       "    <tr>\n",
       "      <th>29</th>\n",
       "      <td>76561198084453258</td>\n",
       "      <td>4155.666667</td>\n",
       "      <td>60</td>\n",
       "    </tr>\n",
       "    <tr>\n",
       "      <th>30</th>\n",
       "      <td>76561198010430483</td>\n",
       "      <td>5857.466667</td>\n",
       "      <td>59</td>\n",
       "    </tr>\n",
       "    <tr>\n",
       "      <th>31</th>\n",
       "      <td>76561198024567076</td>\n",
       "      <td>1221.966667</td>\n",
       "      <td>58</td>\n",
       "    </tr>\n",
       "    <tr>\n",
       "      <th>32</th>\n",
       "      <td>76561197969494473</td>\n",
       "      <td>11026.116667</td>\n",
       "      <td>56</td>\n",
       "    </tr>\n",
       "    <tr>\n",
       "      <th>33</th>\n",
       "      <td>76561197961124929</td>\n",
       "      <td>4303.316667</td>\n",
       "      <td>54</td>\n",
       "    </tr>\n",
       "    <tr>\n",
       "      <th>34</th>\n",
       "      <td>76561198062672788</td>\n",
       "      <td>8053.016667</td>\n",
       "      <td>50</td>\n",
       "    </tr>\n",
       "    <tr>\n",
       "      <th>35</th>\n",
       "      <td>76561198064970505</td>\n",
       "      <td>1439.683333</td>\n",
       "      <td>49</td>\n",
       "    </tr>\n",
       "    <tr>\n",
       "      <th>36</th>\n",
       "      <td>76561198046933197</td>\n",
       "      <td>4460.383333</td>\n",
       "      <td>46</td>\n",
       "    </tr>\n",
       "    <tr>\n",
       "      <th>37</th>\n",
       "      <td>76561197966467800</td>\n",
       "      <td>2392.466667</td>\n",
       "      <td>45</td>\n",
       "    </tr>\n",
       "    <tr>\n",
       "      <th>38</th>\n",
       "      <td>76561197994644797</td>\n",
       "      <td>10021.083333</td>\n",
       "      <td>43</td>\n",
       "    </tr>\n",
       "    <tr>\n",
       "      <th>39</th>\n",
       "      <td>76561197971405841</td>\n",
       "      <td>5754.950000</td>\n",
       "      <td>43</td>\n",
       "    </tr>\n",
       "    <tr>\n",
       "      <th>40</th>\n",
       "      <td>76561198040564894</td>\n",
       "      <td>2305.933333</td>\n",
       "      <td>42</td>\n",
       "    </tr>\n",
       "    <tr>\n",
       "      <th>41</th>\n",
       "      <td>76561197967711211</td>\n",
       "      <td>2850.333333</td>\n",
       "      <td>41</td>\n",
       "    </tr>\n",
       "    <tr>\n",
       "      <th>42</th>\n",
       "      <td>76561198070349294</td>\n",
       "      <td>876.700000</td>\n",
       "      <td>38</td>\n",
       "    </tr>\n",
       "    <tr>\n",
       "      <th>43</th>\n",
       "      <td>76561198071648512</td>\n",
       "      <td>10573.483333</td>\n",
       "      <td>37</td>\n",
       "    </tr>\n",
       "    <tr>\n",
       "      <th>44</th>\n",
       "      <td>76561197973493879</td>\n",
       "      <td>4419.633333</td>\n",
       "      <td>25</td>\n",
       "    </tr>\n",
       "    <tr>\n",
       "      <th>45</th>\n",
       "      <td>76561198328335793</td>\n",
       "      <td>1049.900000</td>\n",
       "      <td>20</td>\n",
       "    </tr>\n",
       "    <tr>\n",
       "      <th>46</th>\n",
       "      <td>76561198001420537</td>\n",
       "      <td>4623.150000</td>\n",
       "      <td>13</td>\n",
       "    </tr>\n",
       "    <tr>\n",
       "      <th>47</th>\n",
       "      <td>76561198162804811</td>\n",
       "      <td>241.400000</td>\n",
       "      <td>8</td>\n",
       "    </tr>\n",
       "    <tr>\n",
       "      <th>48</th>\n",
       "      <td>76561198062082870</td>\n",
       "      <td>3173.833333</td>\n",
       "      <td>8</td>\n",
       "    </tr>\n",
       "    <tr>\n",
       "      <th>49</th>\n",
       "      <td>76561198027584770</td>\n",
       "      <td>1.900000</td>\n",
       "      <td>3</td>\n",
       "    </tr>\n",
       "    <tr>\n",
       "      <th>50</th>\n",
       "      <td>76561198093480535</td>\n",
       "      <td>427.566667</td>\n",
       "      <td>1</td>\n",
       "    </tr>\n",
       "    <tr>\n",
       "      <th>51</th>\n",
       "      <td>76561199457761212</td>\n",
       "      <td>19.466667</td>\n",
       "      <td>1</td>\n",
       "    </tr>\n",
       "  </tbody>\n",
       "</table>\n",
       "</div>"
      ],
      "text/plain": [
       "              steamid  total hours played  game count\n",
       "0   76561198010183102        17167.716667         611\n",
       "1   76561197964812023        17229.483333         558\n",
       "2   76561198010002949        17035.333333         380\n",
       "3   76561198004094042        30479.083333         349\n",
       "4   76561198014294480        10677.183333         314\n",
       "5   76561198001281625        13263.466667         285\n",
       "6   76561197993300234        10787.600000         264\n",
       "7   76561198039203265        14148.566667         234\n",
       "8   76561197965527053         7095.933333         210\n",
       "9   76561198001262177        20687.633333         199\n",
       "10  76561198039495811         3515.383333         189\n",
       "11  76561197970738118         7516.466667         176\n",
       "12  76561197984628526         7802.350000         171\n",
       "13  76561197991050584        25310.583333         170\n",
       "14  76561198004803656         3973.266667         165\n",
       "15  76561197970683033         4910.233333         162\n",
       "16  76561198092753159        10418.916667         128\n",
       "17  76561197985630263         5391.216667         110\n",
       "18  76561198014848444         1724.866667         100\n",
       "19  76561197962050254        16009.700000          86\n",
       "20  76561197993304508         3823.183333          73\n",
       "21  76561197971034129        18612.716667          71\n",
       "22  76561197965062542         3586.583333          71\n",
       "23  76561198098188285         4442.566667          68\n",
       "24  76561197998169405         9063.750000          65\n",
       "25  76561198037629929         6954.433333          64\n",
       "26  76561198004670799         3381.616667          62\n",
       "27  76561198056613809         1555.350000          61\n",
       "28  76561197998488829         8274.050000          60\n",
       "29  76561198084453258         4155.666667          60\n",
       "30  76561198010430483         5857.466667          59\n",
       "31  76561198024567076         1221.966667          58\n",
       "32  76561197969494473        11026.116667          56\n",
       "33  76561197961124929         4303.316667          54\n",
       "34  76561198062672788         8053.016667          50\n",
       "35  76561198064970505         1439.683333          49\n",
       "36  76561198046933197         4460.383333          46\n",
       "37  76561197966467800         2392.466667          45\n",
       "38  76561197994644797        10021.083333          43\n",
       "39  76561197971405841         5754.950000          43\n",
       "40  76561198040564894         2305.933333          42\n",
       "41  76561197967711211         2850.333333          41\n",
       "42  76561198070349294          876.700000          38\n",
       "43  76561198071648512        10573.483333          37\n",
       "44  76561197973493879         4419.633333          25\n",
       "45  76561198328335793         1049.900000          20\n",
       "46  76561198001420537         4623.150000          13\n",
       "47  76561198162804811          241.400000           8\n",
       "48  76561198062082870         3173.833333           8\n",
       "49  76561198027584770            1.900000           3\n",
       "50  76561198093480535          427.566667           1\n",
       "51  76561199457761212           19.466667           1"
      ]
     },
     "execution_count": 174,
     "metadata": {},
     "output_type": "execute_result"
    }
   ],
   "source": [
    "per_user_data = per_user_data.sort_values(by=\"game count\", ascending=False)\n",
    "per_user_data.reset_index(inplace=True)\n",
    "per_user_data"
   ]
  },
  {
   "cell_type": "code",
   "execution_count": 175,
   "metadata": {},
   "outputs": [
    {
     "data": {
      "text/html": [
       "<div>\n",
       "<style scoped>\n",
       "    .dataframe tbody tr th:only-of-type {\n",
       "        vertical-align: middle;\n",
       "    }\n",
       "\n",
       "    .dataframe tbody tr th {\n",
       "        vertical-align: top;\n",
       "    }\n",
       "\n",
       "    .dataframe thead th {\n",
       "        text-align: right;\n",
       "    }\n",
       "</style>\n",
       "<table border=\"1\" class=\"dataframe\">\n",
       "  <thead>\n",
       "    <tr style=\"text-align: right;\">\n",
       "      <th></th>\n",
       "      <th>total hours played</th>\n",
       "      <th>game count</th>\n",
       "    </tr>\n",
       "  </thead>\n",
       "  <tbody>\n",
       "    <tr>\n",
       "      <th>count</th>\n",
       "      <td>52.000000</td>\n",
       "      <td>52.000000</td>\n",
       "    </tr>\n",
       "    <tr>\n",
       "      <th>mean</th>\n",
       "      <td>7578.627885</td>\n",
       "      <td>120.307692</td>\n",
       "    </tr>\n",
       "    <tr>\n",
       "      <th>std</th>\n",
       "      <td>6744.846405</td>\n",
       "      <td>131.860821</td>\n",
       "    </tr>\n",
       "    <tr>\n",
       "      <th>min</th>\n",
       "      <td>1.900000</td>\n",
       "      <td>1.000000</td>\n",
       "    </tr>\n",
       "    <tr>\n",
       "      <th>25%</th>\n",
       "      <td>3092.958333</td>\n",
       "      <td>43.000000</td>\n",
       "    </tr>\n",
       "    <tr>\n",
       "      <th>50%</th>\n",
       "      <td>5150.725000</td>\n",
       "      <td>63.000000</td>\n",
       "    </tr>\n",
       "    <tr>\n",
       "      <th>75%</th>\n",
       "      <td>10599.408333</td>\n",
       "      <td>170.250000</td>\n",
       "    </tr>\n",
       "    <tr>\n",
       "      <th>max</th>\n",
       "      <td>30479.083333</td>\n",
       "      <td>611.000000</td>\n",
       "    </tr>\n",
       "  </tbody>\n",
       "</table>\n",
       "</div>"
      ],
      "text/plain": [
       "       total hours played  game count\n",
       "count           52.000000   52.000000\n",
       "mean          7578.627885  120.307692\n",
       "std           6744.846405  131.860821\n",
       "min              1.900000    1.000000\n",
       "25%           3092.958333   43.000000\n",
       "50%           5150.725000   63.000000\n",
       "75%          10599.408333  170.250000\n",
       "max          30479.083333  611.000000"
      ]
     },
     "execution_count": 175,
     "metadata": {},
     "output_type": "execute_result"
    }
   ],
   "source": [
    "per_user_data.describe()"
   ]
  },
  {
   "cell_type": "code",
   "execution_count": 176,
   "metadata": {},
   "outputs": [
    {
     "data": {
      "text/plain": [
       "<AxesSubplot:>"
      ]
     },
     "execution_count": 176,
     "metadata": {},
     "output_type": "execute_result"
    },
    {
     "data": {
      "image/png": "[encoded data removed]",
      "text/plain": [
       "<Figure size 800x600 with 1 Axes>"
      ]
     },
     "metadata": {},
     "output_type": "display_data"
    }
   ],
   "source": [
    "per_user_data.boxplot(\"game count\")"
   ]
  },
  {
   "cell_type": "code",
   "execution_count": 177,
   "metadata": {},
   "outputs": [
    {
     "data": {
      "text/plain": [
       "<AxesSubplot:ylabel='game count'>"
      ]
     },
     "execution_count": 177,
     "metadata": {},
     "output_type": "execute_result"
    },
    {
     "data": {
      "image/png": "[encoded data removed]",
      "text/plain": [
       "<Figure size 800x600 with 1 Axes>"
      ]
     },
     "metadata": {},
     "output_type": "display_data"
    }
   ],
   "source": [
    "sns.violinplot(y=per_user_data[\"game count\"])"
   ]
  },
  {
   "cell_type": "code",
   "execution_count": 178,
   "metadata": {},
   "outputs": [
    {
     "data": {
      "application/vnd.plotly.v1+json": {
       "config": {
        "plotlyServerURL": "https://plot.ly"
       },
       "data": [
        {
         "hovertemplate": "steamid=76561198010183102<br>total hours played=%{x}<br>game count=%{y}<extra></extra>",
         "legendgroup": "76561198010183102",
         "marker": {
          "color": "#636efa",
          "symbol": "circle"
         },
         "mode": "markers",
         "name": "76561198010183102",
         "orientation": "v",
         "showlegend": true,
         "type": "scatter",
         "x": [
          17167.716666666667
         ],
         "xaxis": "x",
         "y": [
          611
         ],
         "yaxis": "y"
        },
        {
         "hovertemplate": "steamid=76561197964812023<br>total hours played=%{x}<br>game count=%{y}<extra></extra>",
         "legendgroup": "76561197964812023",
         "marker": {
          "color": "#EF553B",
          "symbol": "circle"
         },
         "mode": "markers",
         "name": "76561197964812023",
         "orientation": "v",
         "showlegend": true,
         "type": "scatter",
         "x": [
          17229.483333333334
         ],
         "xaxis": "x",
         "y": [
          558
         ],
         "yaxis": "y"
        },
        {
         "hovertemplate": "steamid=76561198010002949<br>total hours played=%{x}<br>game count=%{y}<extra></extra>",
         "legendgroup": "76561198010002949",
         "marker": {
          "color": "#00cc96",
          "symbol": "circle"
         },
         "mode": "markers",
         "name": "76561198010002949",
         "orientation": "v",
         "showlegend": true,
         "type": "scatter",
         "x": [
          17035.333333333336
         ],
         "xaxis": "x",
         "y": [
          380
         ],
         "yaxis": "y"
        },
        {
         "hovertemplate": "steamid=76561198004094042<br>total hours played=%{x}<br>game count=%{y}<extra></extra>",
         "legendgroup": "76561198004094042",
         "marker": {
          "color": "#ab63fa",
          "symbol": "circle"
         },
         "mode": "markers",
         "name": "76561198004094042",
         "orientation": "v",
         "showlegend": true,
         "type": "scatter",
         "x": [
          30479.08333333333
         ],
         "xaxis": "x",
         "y": [
          349
         ],
         "yaxis": "y"
        },
        {
         "hovertemplate": "steamid=76561198014294480<br>total hours played=%{x}<br>game count=%{y}<extra></extra>",
         "legendgroup": "76561198014294480",
         "marker": {
          "color": "#FFA15A",
          "symbol": "circle"
         },
         "mode": "markers",
         "name": "76561198014294480",
         "orientation": "v",
         "showlegend": true,
         "type": "scatter",
         "x": [
          10677.183333333334
         ],
         "xaxis": "x",
         "y": [
          314
         ],
         "yaxis": "y"
        },
        {
         "hovertemplate": "steamid=76561198001281625<br>total hours played=%{x}<br>game count=%{y}<extra></extra>",
         "legendgroup": "76561198001281625",
         "marker": {
          "color": "#19d3f3",
          "symbol": "circle"
         },
         "mode": "markers",
         "name": "76561198001281625",
         "orientation": "v",
         "showlegend": true,
         "type": "scatter",
         "x": [
          13263.466666666667
         ],
         "xaxis": "x",
         "y": [
          285
         ],
         "yaxis": "y"
        },
        {
         "hovertemplate": "steamid=76561197993300234<br>total hours played=%{x}<br>game count=%{y}<extra></extra>",
         "legendgroup": "76561197993300234",
         "marker": {
          "color": "#FF6692",
          "symbol": "circle"
         },
         "mode": "markers",
         "name": "76561197993300234",
         "orientation": "v",
         "showlegend": true,
         "type": "scatter",
         "x": [
          10787.6
         ],
         "xaxis": "x",
         "y": [
          264
         ],
         "yaxis": "y"
        },
        {
         "hovertemplate": "steamid=76561198039203265<br>total hours played=%{x}<br>game count=%{y}<extra></extra>",
         "legendgroup": "76561198039203265",
         "marker": {
          "color": "#B6E880",
          "symbol": "circle"
         },
         "mode": "markers",
         "name": "76561198039203265",
         "orientation": "v",
         "showlegend": true,
         "type": "scatter",
         "x": [
          14148.566666666668
         ],
         "xaxis": "x",
         "y": [
          234
         ],
         "yaxis": "y"
        },
        {
         "hovertemplate": "steamid=76561197965527053<br>total hours played=%{x}<br>game count=%{y}<extra></extra>",
         "legendgroup": "76561197965527053",
         "marker": {
          "color": "#FF97FF",
          "symbol": "circle"
         },
         "mode": "markers",
         "name": "76561197965527053",
         "orientation": "v",
         "showlegend": true,
         "type": "scatter",
         "x": [
          7095.933333333333
         ],
         "xaxis": "x",
         "y": [
          210
         ],
         "yaxis": "y"
        },
        {
         "hovertemplate": "steamid=76561198001262177<br>total hours played=%{x}<br>game count=%{y}<extra></extra>",
         "legendgroup": "76561198001262177",
         "marker": {
          "color": "#FECB52",
          "symbol": "circle"
         },
         "mode": "markers",
         "name": "76561198001262177",
         "orientation": "v",
         "showlegend": true,
         "type": "scatter",
         "x": [
          20687.633333333335
         ],
         "xaxis": "x",
         "y": [
          199
         ],
         "yaxis": "y"
        },
        {
         "hovertemplate": "steamid=76561198039495811<br>total hours played=%{x}<br>game count=%{y}<extra></extra>",
         "legendgroup": "76561198039495811",
         "marker": {
          "color": "#636efa",
          "symbol": "circle"
         },
         "mode": "markers",
         "name": "76561198039495811",
         "orientation": "v",
         "showlegend": true,
         "type": "scatter",
         "x": [
          3515.383333333333
         ],
         "xaxis": "x",
         "y": [
          189
         ],
         "yaxis": "y"
        },
        {
         "hovertemplate": "steamid=76561197970738118<br>total hours played=%{x}<br>game count=%{y}<extra></extra>",
         "legendgroup": "76561197970738118",
         "marker": {
          "color": "#EF553B",
          "symbol": "circle"
         },
         "mode": "markers",
         "name": "76561197970738118",
         "orientation": "v",
         "showlegend": true,
         "type": "scatter",
         "x": [
          7516.466666666667
         ],
         "xaxis": "x",
         "y": [
          176
         ],
         "yaxis": "y"
        },
        {
         "hovertemplate": "steamid=76561197984628526<br>total hours played=%{x}<br>game count=%{y}<extra></extra>",
         "legendgroup": "76561197984628526",
         "marker": {
          "color": "#00cc96",
          "symbol": "circle"
         },
         "mode": "markers",
         "name": "76561197984628526",
         "orientation": "v",
         "showlegend": true,
         "type": "scatter",
         "x": [
          7802.35
         ],
         "xaxis": "x",
         "y": [
          171
         ],
         "yaxis": "y"
        },
        {
         "hovertemplate": "steamid=76561197991050584<br>total hours played=%{x}<br>game count=%{y}<extra></extra>",
         "legendgroup": "76561197991050584",
         "marker": {
          "color": "#ab63fa",
          "symbol": "circle"
         },
         "mode": "markers",
         "name": "76561197991050584",
         "orientation": "v",
         "showlegend": true,
         "type": "scatter",
         "x": [
          25310.583333333332
         ],
         "xaxis": "x",
         "y": [
          170
         ],
         "yaxis": "y"
        },
        {
         "hovertemplate": "steamid=76561198004803656<br>total hours played=%{x}<br>game count=%{y}<extra></extra>",
         "legendgroup": "76561198004803656",
         "marker": {
          "color": "#FFA15A",
          "symbol": "circle"
         },
         "mode": "markers",
         "name": "76561198004803656",
         "orientation": "v",
         "showlegend": true,
         "type": "scatter",
         "x": [
          3973.2666666666664
         ],
         "xaxis": "x",
         "y": [
          165
         ],
         "yaxis": "y"
        },
        {
         "hovertemplate": "steamid=76561197970683033<br>total hours played=%{x}<br>game count=%{y}<extra></extra>",
         "legendgroup": "76561197970683033",
         "marker": {
          "color": "#19d3f3",
          "symbol": "circle"
         },
         "mode": "markers",
         "name": "76561197970683033",
         "orientation": "v",
         "showlegend": true,
         "type": "scatter",
         "x": [
          4910.233333333333
         ],
         "xaxis": "x",
         "y": [
          162
         ],
         "yaxis": "y"
        },
        {
         "hovertemplate": "steamid=76561198092753159<br>total hours played=%{x}<br>game count=%{y}<extra></extra>",
         "legendgroup": "76561198092753159",
         "marker": {
          "color": "#FF6692",
          "symbol": "circle"
         },
         "mode": "markers",
         "name": "76561198092753159",
         "orientation": "v",
         "showlegend": true,
         "type": "scatter",
         "x": [
          10418.916666666668
         ],
         "xaxis": "x",
         "y": [
          128
         ],
         "yaxis": "y"
        },
        {
         "hovertemplate": "steamid=76561197985630263<br>total hours played=%{x}<br>game count=%{y}<extra></extra>",
         "legendgroup": "76561197985630263",
         "marker": {
          "color": "#B6E880",
          "symbol": "circle"
         },
         "mode": "markers",
         "name": "76561197985630263",
         "orientation": "v",
         "showlegend": true,
         "type": "scatter",
         "x": [
          5391.216666666667
         ],
         "xaxis": "x",
         "y": [
          110
         ],
         "yaxis": "y"
        },
        {
         "hovertemplate": "steamid=76561198014848444<br>total hours played=%{x}<br>game count=%{y}<extra></extra>",
         "legendgroup": "76561198014848444",
         "marker": {
          "color": "#FF97FF",
          "symbol": "circle"
         },
         "mode": "markers",
         "name": "76561198014848444",
         "orientation": "v",
         "showlegend": true,
         "type": "scatter",
         "x": [
          1724.8666666666666
         ],
         "xaxis": "x",
         "y": [
          100
         ],
         "yaxis": "y"
        },
        {
         "hovertemplate": "steamid=76561197962050254<br>total hours played=%{x}<br>game count=%{y}<extra></extra>",
         "legendgroup": "76561197962050254",
         "marker": {
          "color": "#FECB52",
          "symbol": "circle"
         },
         "mode": "markers",
         "name": "76561197962050254",
         "orientation": "v",
         "showlegend": true,
         "type": "scatter",
         "x": [
          16009.7
         ],
         "xaxis": "x",
         "y": [
          86
         ],
         "yaxis": "y"
        },
        {
         "hovertemplate": "steamid=76561197993304508<br>total hours played=%{x}<br>game count=%{y}<extra></extra>",
         "legendgroup": "76561197993304508",
         "marker": {
          "color": "#636efa",
          "symbol": "circle"
         },
         "mode": "markers",
         "name": "76561197993304508",
         "orientation": "v",
         "showlegend": true,
         "type": "scatter",
         "x": [
          3823.1833333333334
         ],
         "xaxis": "x",
         "y": [
          73
         ],
         "yaxis": "y"
        },
        {
         "hovertemplate": "steamid=76561197971034129<br>total hours played=%{x}<br>game count=%{y}<extra></extra>",
         "legendgroup": "76561197971034129",
         "marker": {
          "color": "#EF553B",
          "symbol": "circle"
         },
         "mode": "markers",
         "name": "76561197971034129",
         "orientation": "v",
         "showlegend": true,
         "type": "scatter",
         "x": [
          18612.716666666667
         ],
         "xaxis": "x",
         "y": [
          71
         ],
         "yaxis": "y"
        },
        {
         "hovertemplate": "steamid=76561197965062542<br>total hours played=%{x}<br>game count=%{y}<extra></extra>",
         "legendgroup": "76561197965062542",
         "marker": {
          "color": "#00cc96",
          "symbol": "circle"
         },
         "mode": "markers",
         "name": "76561197965062542",
         "orientation": "v",
         "showlegend": true,
         "type": "scatter",
         "x": [
          3586.5833333333335
         ],
         "xaxis": "x",
         "y": [
          71
         ],
         "yaxis": "y"
        },
        {
         "hovertemplate": "steamid=76561198098188285<br>total hours played=%{x}<br>game count=%{y}<extra></extra>",
         "legendgroup": "76561198098188285",
         "marker": {
          "color": "#ab63fa",
          "symbol": "circle"
         },
         "mode": "markers",
         "name": "76561198098188285",
         "orientation": "v",
         "showlegend": true,
         "type": "scatter",
         "x": [
          4442.566666666667
         ],
         "xaxis": "x",
         "y": [
          68
         ],
         "yaxis": "y"
        },
        {
         "hovertemplate": "steamid=76561197998169405<br>total hours played=%{x}<br>game count=%{y}<extra></extra>",
         "legendgroup": "76561197998169405",
         "marker": {
          "color": "#FFA15A",
          "symbol": "circle"
         },
         "mode": "markers",
         "name": "76561197998169405",
         "orientation": "v",
         "showlegend": true,
         "type": "scatter",
         "x": [
          9063.75
         ],
         "xaxis": "x",
         "y": [
          65
         ],
         "yaxis": "y"
        },
        {
         "hovertemplate": "steamid=76561198037629929<br>total hours played=%{x}<br>game count=%{y}<extra></extra>",
         "legendgroup": "76561198037629929",
         "marker": {
          "color": "#19d3f3",
          "symbol": "circle"
         },
         "mode": "markers",
         "name": "76561198037629929",
         "orientation": "v",
         "showlegend": true,
         "type": "scatter",
         "x": [
          6954.433333333333
         ],
         "xaxis": "x",
         "y": [
          64
         ],
         "yaxis": "y"
        },
        {
         "hovertemplate": "steamid=76561198004670799<br>total hours played=%{x}<br>game count=%{y}<extra></extra>",
         "legendgroup": "76561198004670799",
         "marker": {
          "color": "#FF6692",
          "symbol": "circle"
         },
         "mode": "markers",
         "name": "76561198004670799",
         "orientation": "v",
         "showlegend": true,
         "type": "scatter",
         "x": [
          3381.616666666667
         ],
         "xaxis": "x",
         "y": [
          62
         ],
         "yaxis": "y"
        },
        {
         "hovertemplate": "steamid=76561198056613809<br>total hours played=%{x}<br>game count=%{y}<extra></extra>",
         "legendgroup": "76561198056613809",
         "marker": {
          "color": "#B6E880",
          "symbol": "circle"
         },
         "mode": "markers",
         "name": "76561198056613809",
         "orientation": "v",
         "showlegend": true,
         "type": "scatter",
         "x": [
          1555.35
         ],
         "xaxis": "x",
         "y": [
          61
         ],
         "yaxis": "y"
        },
        {
         "hovertemplate": "steamid=76561197998488829<br>total hours played=%{x}<br>game count=%{y}<extra></extra>",
         "legendgroup": "76561197998488829",
         "marker": {
          "color": "#FF97FF",
          "symbol": "circle"
         },
         "mode": "markers",
         "name": "76561197998488829",
         "orientation": "v",
         "showlegend": true,
         "type": "scatter",
         "x": [
          8274.05
         ],
         "xaxis": "x",
         "y": [
          60
         ],
         "yaxis": "y"
        },
        {
         "hovertemplate": "steamid=76561198084453258<br>total hours played=%{x}<br>game count=%{y}<extra></extra>",
         "legendgroup": "76561198084453258",
         "marker": {
          "color": "#FECB52",
          "symbol": "circle"
         },
         "mode": "markers",
         "name": "76561198084453258",
         "orientation": "v",
         "showlegend": true,
         "type": "scatter",
         "x": [
          4155.666666666666
         ],
         "xaxis": "x",
         "y": [
          60
         ],
         "yaxis": "y"
        },
        {
         "hovertemplate": "steamid=76561198010430483<br>total hours played=%{x}<br>game count=%{y}<extra></extra>",
         "legendgroup": "76561198010430483",
         "marker": {
          "color": "#636efa",
          "symbol": "circle"
         },
         "mode": "markers",
         "name": "76561198010430483",
         "orientation": "v",
         "showlegend": true,
         "type": "scatter",
         "x": [
          5857.466666666666
         ],
         "xaxis": "x",
         "y": [
          59
         ],
         "yaxis": "y"
        },
        {
         "hovertemplate": "steamid=76561198024567076<br>total hours played=%{x}<br>game count=%{y}<extra></extra>",
         "legendgroup": "76561198024567076",
         "marker": {
          "color": "#EF553B",
          "symbol": "circle"
         },
         "mode": "markers",
         "name": "76561198024567076",
         "orientation": "v",
         "showlegend": true,
         "type": "scatter",
         "x": [
          1221.9666666666667
         ],
         "xaxis": "x",
         "y": [
          58
         ],
         "yaxis": "y"
        },
        {
         "hovertemplate": "steamid=76561197969494473<br>total hours played=%{x}<br>game count=%{y}<extra></extra>",
         "legendgroup": "76561197969494473",
         "marker": {
          "color": "#00cc96",
          "symbol": "circle"
         },
         "mode": "markers",
         "name": "76561197969494473",
         "orientation": "v",
         "showlegend": true,
         "type": "scatter",
         "x": [
          11026.116666666665
         ],
         "xaxis": "x",
         "y": [
          56
         ],
         "yaxis": "y"
        },
        {
         "hovertemplate": "steamid=76561197961124929<br>total hours played=%{x}<br>game count=%{y}<extra></extra>",
         "legendgroup": "76561197961124929",
         "marker": {
          "color": "#ab63fa",
          "symbol": "circle"
         },
         "mode": "markers",
         "name": "76561197961124929",
         "orientation": "v",
         "showlegend": true,
         "type": "scatter",
         "x": [
          4303.316666666667
         ],
         "xaxis": "x",
         "y": [
          54
         ],
         "yaxis": "y"
        },
        {
         "hovertemplate": "steamid=76561198062672788<br>total hours played=%{x}<br>game count=%{y}<extra></extra>",
         "legendgroup": "76561198062672788",
         "marker": {
          "color": "#FFA15A",
          "symbol": "circle"
         },
         "mode": "markers",
         "name": "76561198062672788",
         "orientation": "v",
         "showlegend": true,
         "type": "scatter",
         "x": [
          8053.016666666666
         ],
         "xaxis": "x",
         "y": [
          50
         ],
         "yaxis": "y"
        },
        {
         "hovertemplate": "steamid=76561198064970505<br>total hours played=%{x}<br>game count=%{y}<extra></extra>",
         "legendgroup": "76561198064970505",
         "marker": {
          "color": "#19d3f3",
          "symbol": "circle"
         },
         "mode": "markers",
         "name": "76561198064970505",
         "orientation": "v",
         "showlegend": true,
         "type": "scatter",
         "x": [
          1439.6833333333334
         ],
         "xaxis": "x",
         "y": [
          49
         ],
         "yaxis": "y"
        },
        {
         "hovertemplate": "steamid=76561198046933197<br>total hours played=%{x}<br>game count=%{y}<extra></extra>",
         "legendgroup": "76561198046933197",
         "marker": {
          "color": "#FF6692",
          "symbol": "circle"
         },
         "mode": "markers",
         "name": "76561198046933197",
         "orientation": "v",
         "showlegend": true,
         "type": "scatter",
         "x": [
          4460.383333333333
         ],
         "xaxis": "x",
         "y": [
          46
         ],
         "yaxis": "y"
        },
        {
         "hovertemplate": "steamid=76561197966467800<br>total hours played=%{x}<br>game count=%{y}<extra></extra>",
         "legendgroup": "76561197966467800",
         "marker": {
          "color": "#B6E880",
          "symbol": "circle"
         },
         "mode": "markers",
         "name": "76561197966467800",
         "orientation": "v",
         "showlegend": true,
         "type": "scatter",
         "x": [
          2392.4666666666667
         ],
         "xaxis": "x",
         "y": [
          45
         ],
         "yaxis": "y"
        },
        {
         "hovertemplate": "steamid=76561197994644797<br>total hours played=%{x}<br>game count=%{y}<extra></extra>",
         "legendgroup": "76561197994644797",
         "marker": {
          "color": "#FF97FF",
          "symbol": "circle"
         },
         "mode": "markers",
         "name": "76561197994644797",
         "orientation": "v",
         "showlegend": true,
         "type": "scatter",
         "x": [
          10021.083333333334
         ],
         "xaxis": "x",
         "y": [
          43
         ],
         "yaxis": "y"
        },
        {
         "hovertemplate": "steamid=76561197971405841<br>total hours played=%{x}<br>game count=%{y}<extra></extra>",
         "legendgroup": "76561197971405841",
         "marker": {
          "color": "#FECB52",
          "symbol": "circle"
         },
         "mode": "markers",
         "name": "76561197971405841",
         "orientation": "v",
         "showlegend": true,
         "type": "scatter",
         "x": [
          5754.950000000001
         ],
         "xaxis": "x",
         "y": [
          43
         ],
         "yaxis": "y"
        },
        {
         "hovertemplate": "steamid=76561198040564894<br>total hours played=%{x}<br>game count=%{y}<extra></extra>",
         "legendgroup": "76561198040564894",
         "marker": {
          "color": "#636efa",
          "symbol": "circle"
         },
         "mode": "markers",
         "name": "76561198040564894",
         "orientation": "v",
         "showlegend": true,
         "type": "scatter",
         "x": [
          2305.9333333333334
         ],
         "xaxis": "x",
         "y": [
          42
         ],
         "yaxis": "y"
        },
        {
         "hovertemplate": "steamid=76561197967711211<br>total hours played=%{x}<br>game count=%{y}<extra></extra>",
         "legendgroup": "76561197967711211",
         "marker": {
          "color": "#EF553B",
          "symbol": "circle"
         },
         "mode": "markers",
         "name": "76561197967711211",
         "orientation": "v",
         "showlegend": true,
         "type": "scatter",
         "x": [
          2850.333333333333
         ],
         "xaxis": "x",
         "y": [
          41
         ],
         "yaxis": "y"
        },
        {
         "hovertemplate": "steamid=76561198070349294<br>total hours played=%{x}<br>game count=%{y}<extra></extra>",
         "legendgroup": "76561198070349294",
         "marker": {
          "color": "#00cc96",
          "symbol": "circle"
         },
         "mode": "markers",
         "name": "76561198070349294",
         "orientation": "v",
         "showlegend": true,
         "type": "scatter",
         "x": [
          876.7
         ],
         "xaxis": "x",
         "y": [
          38
         ],
         "yaxis": "y"
        },
        {
         "hovertemplate": "steamid=76561198071648512<br>total hours played=%{x}<br>game count=%{y}<extra></extra>",
         "legendgroup": "76561198071648512",
         "marker": {
          "color": "#ab63fa",
          "symbol": "circle"
         },
         "mode": "markers",
         "name": "76561198071648512",
         "orientation": "v",
         "showlegend": true,
         "type": "scatter",
         "x": [
          10573.483333333334
         ],
         "xaxis": "x",
         "y": [
          37
         ],
         "yaxis": "y"
        },
        {
         "hovertemplate": "steamid=76561197973493879<br>total hours played=%{x}<br>game count=%{y}<extra></extra>",
         "legendgroup": "76561197973493879",
         "marker": {
          "color": "#FFA15A",
          "symbol": "circle"
         },
         "mode": "markers",
         "name": "76561197973493879",
         "orientation": "v",
         "showlegend": true,
         "type": "scatter",
         "x": [
          4419.633333333333
         ],
         "xaxis": "x",
         "y": [
          25
         ],
         "yaxis": "y"
        },
        {
         "hovertemplate": "steamid=76561198328335793<br>total hours played=%{x}<br>game count=%{y}<extra></extra>",
         "legendgroup": "76561198328335793",
         "marker": {
          "color": "#19d3f3",
          "symbol": "circle"
         },
         "mode": "markers",
         "name": "76561198328335793",
         "orientation": "v",
         "showlegend": true,
         "type": "scatter",
         "x": [
          1049.8999999999999
         ],
         "xaxis": "x",
         "y": [
          20
         ],
         "yaxis": "y"
        },
        {
         "hovertemplate": "steamid=76561198001420537<br>total hours played=%{x}<br>game count=%{y}<extra></extra>",
         "legendgroup": "76561198001420537",
         "marker": {
          "color": "#FF6692",
          "symbol": "circle"
         },
         "mode": "markers",
         "name": "76561198001420537",
         "orientation": "v",
         "showlegend": true,
         "type": "scatter",
         "x": [
          4623.150000000001
         ],
         "xaxis": "x",
         "y": [
          13
         ],
         "yaxis": "y"
        },
        {
         "hovertemplate": "steamid=76561198162804811<br>total hours played=%{x}<br>game count=%{y}<extra></extra>",
         "legendgroup": "76561198162804811",
         "marker": {
          "color": "#B6E880",
          "symbol": "circle"
         },
         "mode": "markers",
         "name": "76561198162804811",
         "orientation": "v",
         "showlegend": true,
         "type": "scatter",
         "x": [
          241.4
         ],
         "xaxis": "x",
         "y": [
          8
         ],
         "yaxis": "y"
        },
        {
         "hovertemplate": "steamid=76561198062082870<br>total hours played=%{x}<br>game count=%{y}<extra></extra>",
         "legendgroup": "76561198062082870",
         "marker": {
          "color": "#FF97FF",
          "symbol": "circle"
         },
         "mode": "markers",
         "name": "76561198062082870",
         "orientation": "v",
         "showlegend": true,
         "type": "scatter",
         "x": [
          3173.833333333334
         ],
         "xaxis": "x",
         "y": [
          8
         ],
         "yaxis": "y"
        },
        {
         "hovertemplate": "steamid=76561198027584770<br>total hours played=%{x}<br>game count=%{y}<extra></extra>",
         "legendgroup": "76561198027584770",
         "marker": {
          "color": "#FECB52",
          "symbol": "circle"
         },
         "mode": "markers",
         "name": "76561198027584770",
         "orientation": "v",
         "showlegend": true,
         "type": "scatter",
         "x": [
          1.8999999999999997
         ],
         "xaxis": "x",
         "y": [
          3
         ],
         "yaxis": "y"
        },
        {
         "hovertemplate": "steamid=76561198093480535<br>total hours played=%{x}<br>game count=%{y}<extra></extra>",
         "legendgroup": "76561198093480535",
         "marker": {
          "color": "#636efa",
          "symbol": "circle"
         },
         "mode": "markers",
         "name": "76561198093480535",
         "orientation": "v",
         "showlegend": true,
         "type": "scatter",
         "x": [
          427.5666666666667
         ],
         "xaxis": "x",
         "y": [
          1
         ],
         "yaxis": "y"
        },
        {
         "hovertemplate": "steamid=76561199457761212<br>total hours played=%{x}<br>game count=%{y}<extra></extra>",
         "legendgroup": "76561199457761212",
         "marker": {
          "color": "#EF553B",
          "symbol": "circle"
         },
         "mode": "markers",
         "name": "76561199457761212",
         "orientation": "v",
         "showlegend": true,
         "type": "scatter",
         "x": [
          19.46666666666667
         ],
         "xaxis": "x",
         "y": [
          1
         ],
         "yaxis": "y"
        }
       ],
       "layout": {
        "legend": {
         "title": {
          "text": "steamid"
         },
         "tracegroupgap": 0
        },
        "template": {
         "data": {
          "bar": [
           {
            "error_x": {
             "color": "#2a3f5f"
            },
            "error_y": {
             "color": "#2a3f5f"
            },
            "marker": {
             "line": {
              "color": "#E5ECF6",
              "width": 0.5
             },
             "pattern": {
              "fillmode": "overlay",
              "size": 10,
              "solidity": 0.2
             }
            },
            "type": "bar"
           }
          ],
          "barpolar": [
           {
            "marker": {
             "line": {
              "color": "#E5ECF6",
              "width": 0.5
             },
             "pattern": {
              "fillmode": "overlay",
              "size": 10,
              "solidity": 0.2
             }
            },
            "type": "barpolar"
           }
          ],
          "carpet": [
           {
            "aaxis": {
             "endlinecolor": "#2a3f5f",
             "gridcolor": "white",
             "linecolor": "white",
             "minorgridcolor": "white",
             "startlinecolor": "#2a3f5f"
            },
            "baxis": {
             "endlinecolor": "#2a3f5f",
             "gridcolor": "white",
             "linecolor": "white",
             "minorgridcolor": "white",
             "startlinecolor": "#2a3f5f"
            },
            "type": "carpet"
           }
          ],
          "choropleth": [
           {
            "colorbar": {
             "outlinewidth": 0,
             "ticks": ""
            },
            "type": "choropleth"
           }
          ],
          "contour": [
           {
            "colorbar": {
             "outlinewidth": 0,
             "ticks": ""
            },
            "colorscale": [
             [
              0,
              "#0d0887"
             ],
             [
              0.1111111111111111,
              "#46039f"
             ],
             [
              0.2222222222222222,
              "#7201a8"
             ],
             [
              0.3333333333333333,
              "#9c179e"
             ],
             [
              0.4444444444444444,
              "#bd3786"
             ],
             [
              0.5555555555555556,
              "#d8576b"
             ],
             [
              0.6666666666666666,
              "#ed7953"
             ],
             [
              0.7777777777777778,
              "#fb9f3a"
             ],
             [
              0.8888888888888888,
              "#fdca26"
             ],
             [
              1,
              "#f0f921"
             ]
            ],
            "type": "contour"
           }
          ],
          "contourcarpet": [
           {
            "colorbar": {
             "outlinewidth": 0,
             "ticks": ""
            },
            "type": "contourcarpet"
           }
          ],
          "heatmap": [
           {
            "colorbar": {
             "outlinewidth": 0,
             "ticks": ""
            },
            "colorscale": [
             [
              0,
              "#0d0887"
             ],
             [
              0.1111111111111111,
              "#46039f"
             ],
             [
              0.2222222222222222,
              "#7201a8"
             ],
             [
              0.3333333333333333,
              "#9c179e"
             ],
             [
              0.4444444444444444,
              "#bd3786"
             ],
             [
              0.5555555555555556,
              "#d8576b"
             ],
             [
              0.6666666666666666,
              "#ed7953"
             ],
             [
              0.7777777777777778,
              "#fb9f3a"
             ],
             [
              0.8888888888888888,
              "#fdca26"
             ],
             [
              1,
              "#f0f921"
             ]
            ],
            "type": "heatmap"
           }
          ],
          "heatmapgl": [
           {
            "colorbar": {
             "outlinewidth": 0,
             "ticks": ""
            },
            "colorscale": [
             [
              0,
              "#0d0887"
             ],
             [
              0.1111111111111111,
              "#46039f"
             ],
             [
              0.2222222222222222,
              "#7201a8"
             ],
             [
              0.3333333333333333,
              "#9c179e"
             ],
             [
              0.4444444444444444,
              "#bd3786"
             ],
             [
              0.5555555555555556,
              "#d8576b"
             ],
             [
              0.6666666666666666,
              "#ed7953"
             ],
             [
              0.7777777777777778,
              "#fb9f3a"
             ],
             [
              0.8888888888888888,
              "#fdca26"
             ],
             [
              1,
              "#f0f921"
             ]
            ],
            "type": "heatmapgl"
           }
          ],
          "histogram": [
           {
            "marker": {
             "pattern": {
              "fillmode": "overlay",
              "size": 10,
              "solidity": 0.2
             }
            },
            "type": "histogram"
           }
          ],
          "histogram2d": [
           {
            "colorbar": {
             "outlinewidth": 0,
             "ticks": ""
            },
            "colorscale": [
             [
              0,
              "#0d0887"
             ],
             [
              0.1111111111111111,
              "#46039f"
             ],
             [
              0.2222222222222222,
              "#7201a8"
             ],
             [
              0.3333333333333333,
              "#9c179e"
             ],
             [
              0.4444444444444444,
              "#bd3786"
             ],
             [
              0.5555555555555556,
              "#d8576b"
             ],
             [
              0.6666666666666666,
              "#ed7953"
             ],
             [
              0.7777777777777778,
              "#fb9f3a"
             ],
             [
              0.8888888888888888,
              "#fdca26"
             ],
             [
              1,
              "#f0f921"
             ]
            ],
            "type": "histogram2d"
           }
          ],
          "histogram2dcontour": [
           {
            "colorbar": {
             "outlinewidth": 0,
             "ticks": ""
            },
            "colorscale": [
             [
              0,
              "#0d0887"
             ],
             [
              0.1111111111111111,
              "#46039f"
             ],
             [
              0.2222222222222222,
              "#7201a8"
             ],
             [
              0.3333333333333333,
              "#9c179e"
             ],
             [
              0.4444444444444444,
              "#bd3786"
             ],
             [
              0.5555555555555556,
              "#d8576b"
             ],
             [
              0.6666666666666666,
              "#ed7953"
             ],
             [
              0.7777777777777778,
              "#fb9f3a"
             ],
             [
              0.8888888888888888,
              "#fdca26"
             ],
             [
              1,
              "#f0f921"
             ]
            ],
            "type": "histogram2dcontour"
           }
          ],
          "mesh3d": [
           {
            "colorbar": {
             "outlinewidth": 0,
             "ticks": ""
            },
            "type": "mesh3d"
           }
          ],
          "parcoords": [
           {
            "line": {
             "colorbar": {
              "outlinewidth": 0,
              "ticks": ""
             }
            },
            "type": "parcoords"
           }
          ],
          "pie": [
           {
            "automargin": true,
            "type": "pie"
           }
          ],
          "scatter": [
           {
            "fillpattern": {
             "fillmode": "overlay",
             "size": 10,
             "solidity": 0.2
            },
            "type": "scatter"
           }
          ],
          "scatter3d": [
           {
            "line": {
             "colorbar": {
              "outlinewidth": 0,
              "ticks": ""
             }
            },
            "marker": {
             "colorbar": {
              "outlinewidth": 0,
              "ticks": ""
             }
            },
            "type": "scatter3d"
           }
          ],
          "scattercarpet": [
           {
            "marker": {
             "colorbar": {
              "outlinewidth": 0,
              "ticks": ""
             }
            },
            "type": "scattercarpet"
           }
          ],
          "scattergeo": [
           {
            "marker": {
             "colorbar": {
              "outlinewidth": 0,
              "ticks": ""
             }
            },
            "type": "scattergeo"
           }
          ],
          "scattergl": [
           {
            "marker": {
             "colorbar": {
              "outlinewidth": 0,
              "ticks": ""
             }
            },
            "type": "scattergl"
           }
          ],
          "scattermapbox": [
           {
            "marker": {
             "colorbar": {
              "outlinewidth": 0,
              "ticks": ""
             }
            },
            "type": "scattermapbox"
           }
          ],
          "scatterpolar": [
           {
            "marker": {
             "colorbar": {
              "outlinewidth": 0,
              "ticks": ""
             }
            },
            "type": "scatterpolar"
           }
          ],
          "scatterpolargl": [
           {
            "marker": {
             "colorbar": {
              "outlinewidth": 0,
              "ticks": ""
             }
            },
            "type": "scatterpolargl"
           }
          ],
          "scatterternary": [
           {
            "marker": {
             "colorbar": {
              "outlinewidth": 0,
              "ticks": ""
             }
            },
            "type": "scatterternary"
           }
          ],
          "surface": [
           {
            "colorbar": {
             "outlinewidth": 0,
             "ticks": ""
            },
            "colorscale": [
             [
              0,
              "#0d0887"
             ],
             [
              0.1111111111111111,
              "#46039f"
             ],
             [
              0.2222222222222222,
              "#7201a8"
             ],
             [
              0.3333333333333333,
              "#9c179e"
             ],
             [
              0.4444444444444444,
              "#bd3786"
             ],
             [
              0.5555555555555556,
              "#d8576b"
             ],
             [
              0.6666666666666666,
              "#ed7953"
             ],
             [
              0.7777777777777778,
              "#fb9f3a"
             ],
             [
              0.8888888888888888,
              "#fdca26"
             ],
             [
              1,
              "#f0f921"
             ]
            ],
            "type": "surface"
           }
          ],
          "table": [
           {
            "cells": {
             "fill": {
              "color": "#EBF0F8"
             },
             "line": {
              "color": "white"
             }
            },
            "header": {
             "fill": {
              "color": "#C8D4E3"
             },
             "line": {
              "color": "white"
             }
            },
            "type": "table"
           }
          ]
         },
         "layout": {
          "annotationdefaults": {
           "arrowcolor": "#2a3f5f",
           "arrowhead": 0,
           "arrowwidth": 1
          },
          "autotypenumbers": "strict",
          "coloraxis": {
           "colorbar": {
            "outlinewidth": 0,
            "ticks": ""
           }
          },
          "colorscale": {
           "diverging": [
            [
             0,
             "#8e0152"
            ],
            [
             0.1,
             "#c51b7d"
            ],
            [
             0.2,
             "#de77ae"
            ],
            [
             0.3,
             "#f1b6da"
            ],
            [
             0.4,
             "#fde0ef"
            ],
            [
             0.5,
             "#f7f7f7"
            ],
            [
             0.6,
             "#e6f5d0"
            ],
            [
             0.7,
             "#b8e186"
            ],
            [
             0.8,
             "#7fbc41"
            ],
            [
             0.9,
             "#4d9221"
            ],
            [
             1,
             "#276419"
            ]
           ],
           "sequential": [
            [
             0,
             "#0d0887"
            ],
            [
             0.1111111111111111,
             "#46039f"
            ],
            [
             0.2222222222222222,
             "#7201a8"
            ],
            [
             0.3333333333333333,
             "#9c179e"
            ],
            [
             0.4444444444444444,
             "#bd3786"
            ],
            [
             0.5555555555555556,
             "#d8576b"
            ],
            [
             0.6666666666666666,
             "#ed7953"
            ],
            [
             0.7777777777777778,
             "#fb9f3a"
            ],
            [
             0.8888888888888888,
             "#fdca26"
            ],
            [
             1,
             "#f0f921"
            ]
           ],
           "sequentialminus": [
            [
             0,
             "#0d0887"
            ],
            [
             0.1111111111111111,
             "#46039f"
            ],
            [
             0.2222222222222222,
             "#7201a8"
            ],
            [
             0.3333333333333333,
             "#9c179e"
            ],
            [
             0.4444444444444444,
             "#bd3786"
            ],
            [
             0.5555555555555556,
             "#d8576b"
            ],
            [
             0.6666666666666666,
             "#ed7953"
            ],
            [
             0.7777777777777778,
             "#fb9f3a"
            ],
            [
             0.8888888888888888,
             "#fdca26"
            ],
            [
             1,
             "#f0f921"
            ]
           ]
          },
          "colorway": [
           "#636efa",
           "#EF553B",
           "#00cc96",
           "#ab63fa",
           "#FFA15A",
           "#19d3f3",
           "#FF6692",
           "#B6E880",
           "#FF97FF",
           "#FECB52"
          ],
          "font": {
           "color": "#2a3f5f"
          },
          "geo": {
           "bgcolor": "white",
           "lakecolor": "white",
           "landcolor": "#E5ECF6",
           "showlakes": true,
           "showland": true,
           "subunitcolor": "white"
          },
          "hoverlabel": {
           "align": "left"
          },
          "hovermode": "closest",
          "mapbox": {
           "style": "light"
          },
          "paper_bgcolor": "white",
          "plot_bgcolor": "#E5ECF6",
          "polar": {
           "angularaxis": {
            "gridcolor": "white",
            "linecolor": "white",
            "ticks": ""
           },
           "bgcolor": "#E5ECF6",
           "radialaxis": {
            "gridcolor": "white",
            "linecolor": "white",
            "ticks": ""
           }
          },
          "scene": {
           "xaxis": {
            "backgroundcolor": "#E5ECF6",
            "gridcolor": "white",
            "gridwidth": 2,
            "linecolor": "white",
            "showbackground": true,
            "ticks": "",
            "zerolinecolor": "white"
           },
           "yaxis": {
            "backgroundcolor": "#E5ECF6",
            "gridcolor": "white",
            "gridwidth": 2,
            "linecolor": "white",
            "showbackground": true,
            "ticks": "",
            "zerolinecolor": "white"
           },
           "zaxis": {
            "backgroundcolor": "#E5ECF6",
            "gridcolor": "white",
            "gridwidth": 2,
            "linecolor": "white",
            "showbackground": true,
            "ticks": "",
            "zerolinecolor": "white"
           }
          },
          "shapedefaults": {
           "line": {
            "color": "#2a3f5f"
           }
          },
          "ternary": {
           "aaxis": {
            "gridcolor": "white",
            "linecolor": "white",
            "ticks": ""
           },
           "baxis": {
            "gridcolor": "white",
            "linecolor": "white",
            "ticks": ""
           },
           "bgcolor": "#E5ECF6",
           "caxis": {
            "gridcolor": "white",
            "linecolor": "white",
            "ticks": ""
           }
          },
          "title": {
           "x": 0.05
          },
          "xaxis": {
           "automargin": true,
           "gridcolor": "white",
           "linecolor": "white",
           "ticks": "",
           "title": {
            "standoff": 15
           },
           "zerolinecolor": "white",
           "zerolinewidth": 2
          },
          "yaxis": {
           "automargin": true,
           "gridcolor": "white",
           "linecolor": "white",
           "ticks": "",
           "title": {
            "standoff": 15
           },
           "zerolinecolor": "white",
           "zerolinewidth": 2
          }
         }
        },
        "title": {
         "text": "Scatter plot of total hours played and games played per user (playtime > 0)"
        },
        "xaxis": {
         "anchor": "y",
         "domain": [
          0,
          1
         ],
         "title": {
          "text": "total hours played"
         }
        },
        "yaxis": {
         "anchor": "x",
         "domain": [
          0,
          1
         ],
         "title": {
          "text": "game count"
         }
        }
       }
      }
     },
     "metadata": {},
     "output_type": "display_data"
    }
   ],
   "source": [
    "fig = px.scatter(per_user_data, x=\"total hours played\", y=\"game count\",color=\"steamid\",title=\"Scatter plot of total hours played and games played per user (playtime > 0)\")\n",
    "fig.show()"
   ]
  },
  {
   "cell_type": "code",
   "execution_count": 179,
   "metadata": {},
   "outputs": [
    {
     "data": {
      "application/vnd.plotly.v1+json": {
       "config": {
        "plotlyServerURL": "https://plot.ly"
       },
       "data": [
        {
         "alignmentgroup": "True",
         "hovertemplate": "steamid=%{x}<br>game count=%{y}<extra></extra>",
         "legendgroup": "76561198010183102",
         "marker": {
          "color": "#636efa",
          "pattern": {
           "shape": ""
          }
         },
         "name": "76561198010183102",
         "offsetgroup": "76561198010183102",
         "orientation": "v",
         "showlegend": true,
         "textposition": "auto",
         "texttemplate": "%{y}",
         "type": "bar",
         "x": [
          "76561198010183102"
         ],
         "xaxis": "x",
         "y": [
          611
         ],
         "yaxis": "y"
        },
        {
         "alignmentgroup": "True",
         "hovertemplate": "steamid=%{x}<br>game count=%{y}<extra></extra>",
         "legendgroup": "76561197964812023",
         "marker": {
          "color": "#EF553B",
          "pattern": {
           "shape": ""
          }
         },
         "name": "76561197964812023",
         "offsetgroup": "76561197964812023",
         "orientation": "v",
         "showlegend": true,
         "textposition": "auto",
         "texttemplate": "%{y}",
         "type": "bar",
         "x": [
          "76561197964812023"
         ],
         "xaxis": "x",
         "y": [
          558
         ],
         "yaxis": "y"
        },
        {
         "alignmentgroup": "True",
         "hovertemplate": "steamid=%{x}<br>game count=%{y}<extra></extra>",
         "legendgroup": "76561198010002949",
         "marker": {
          "color": "#00cc96",
          "pattern": {
           "shape": ""
          }
         },
         "name": "76561198010002949",
         "offsetgroup": "76561198010002949",
         "orientation": "v",
         "showlegend": true,
         "textposition": "auto",
         "texttemplate": "%{y}",
         "type": "bar",
         "x": [
          "76561198010002949"
         ],
         "xaxis": "x",
         "y": [
          380
         ],
         "yaxis": "y"
        },
        {
         "alignmentgroup": "True",
         "hovertemplate": "steamid=%{x}<br>game count=%{y}<extra></extra>",
         "legendgroup": "76561198004094042",
         "marker": {
          "color": "#ab63fa",
          "pattern": {
           "shape": ""
          }
         },
         "name": "76561198004094042",
         "offsetgroup": "76561198004094042",
         "orientation": "v",
         "showlegend": true,
         "textposition": "auto",
         "texttemplate": "%{y}",
         "type": "bar",
         "x": [
          "76561198004094042"
         ],
         "xaxis": "x",
         "y": [
          349
         ],
         "yaxis": "y"
        },
        {
         "alignmentgroup": "True",
         "hovertemplate": "steamid=%{x}<br>game count=%{y}<extra></extra>",
         "legendgroup": "76561198014294480",
         "marker": {
          "color": "#FFA15A",
          "pattern": {
           "shape": ""
          }
         },
         "name": "76561198014294480",
         "offsetgroup": "76561198014294480",
         "orientation": "v",
         "showlegend": true,
         "textposition": "auto",
         "texttemplate": "%{y}",
         "type": "bar",
         "x": [
          "76561198014294480"
         ],
         "xaxis": "x",
         "y": [
          314
         ],
         "yaxis": "y"
        },
        {
         "alignmentgroup": "True",
         "hovertemplate": "steamid=%{x}<br>game count=%{y}<extra></extra>",
         "legendgroup": "76561198001281625",
         "marker": {
          "color": "#19d3f3",
          "pattern": {
           "shape": ""
          }
         },
         "name": "76561198001281625",
         "offsetgroup": "76561198001281625",
         "orientation": "v",
         "showlegend": true,
         "textposition": "auto",
         "texttemplate": "%{y}",
         "type": "bar",
         "x": [
          "76561198001281625"
         ],
         "xaxis": "x",
         "y": [
          285
         ],
         "yaxis": "y"
        },
        {
         "alignmentgroup": "True",
         "hovertemplate": "steamid=%{x}<br>game count=%{y}<extra></extra>",
         "legendgroup": "76561197993300234",
         "marker": {
          "color": "#FF6692",
          "pattern": {
           "shape": ""
          }
         },
         "name": "76561197993300234",
         "offsetgroup": "76561197993300234",
         "orientation": "v",
         "showlegend": true,
         "textposition": "auto",
         "texttemplate": "%{y}",
         "type": "bar",
         "x": [
          "76561197993300234"
         ],
         "xaxis": "x",
         "y": [
          264
         ],
         "yaxis": "y"
        },
        {
         "alignmentgroup": "True",
         "hovertemplate": "steamid=%{x}<br>game count=%{y}<extra></extra>",
         "legendgroup": "76561198039203265",
         "marker": {
          "color": "#B6E880",
          "pattern": {
           "shape": ""
          }
         },
         "name": "76561198039203265",
         "offsetgroup": "76561198039203265",
         "orientation": "v",
         "showlegend": true,
         "textposition": "auto",
         "texttemplate": "%{y}",
         "type": "bar",
         "x": [
          "76561198039203265"
         ],
         "xaxis": "x",
         "y": [
          234
         ],
         "yaxis": "y"
        },
        {
         "alignmentgroup": "True",
         "hovertemplate": "steamid=%{x}<br>game count=%{y}<extra></extra>",
         "legendgroup": "76561197965527053",
         "marker": {
          "color": "#FF97FF",
          "pattern": {
           "shape": ""
          }
         },
         "name": "76561197965527053",
         "offsetgroup": "76561197965527053",
         "orientation": "v",
         "showlegend": true,
         "textposition": "auto",
         "texttemplate": "%{y}",
         "type": "bar",
         "x": [
          "76561197965527053"
         ],
         "xaxis": "x",
         "y": [
          210
         ],
         "yaxis": "y"
        },
        {
         "alignmentgroup": "True",
         "hovertemplate": "steamid=%{x}<br>game count=%{y}<extra></extra>",
         "legendgroup": "76561198001262177",
         "marker": {
          "color": "#FECB52",
          "pattern": {
           "shape": ""
          }
         },
         "name": "76561198001262177",
         "offsetgroup": "76561198001262177",
         "orientation": "v",
         "showlegend": true,
         "textposition": "auto",
         "texttemplate": "%{y}",
         "type": "bar",
         "x": [
          "76561198001262177"
         ],
         "xaxis": "x",
         "y": [
          199
         ],
         "yaxis": "y"
        },
        {
         "alignmentgroup": "True",
         "hovertemplate": "steamid=%{x}<br>game count=%{y}<extra></extra>",
         "legendgroup": "76561198039495811",
         "marker": {
          "color": "#636efa",
          "pattern": {
           "shape": ""
          }
         },
         "name": "76561198039495811",
         "offsetgroup": "76561198039495811",
         "orientation": "v",
         "showlegend": true,
         "textposition": "auto",
         "texttemplate": "%{y}",
         "type": "bar",
         "x": [
          "76561198039495811"
         ],
         "xaxis": "x",
         "y": [
          189
         ],
         "yaxis": "y"
        },
        {
         "alignmentgroup": "True",
         "hovertemplate": "steamid=%{x}<br>game count=%{y}<extra></extra>",
         "legendgroup": "76561197970738118",
         "marker": {
          "color": "#EF553B",
          "pattern": {
           "shape": ""
          }
         },
         "name": "76561197970738118",
         "offsetgroup": "76561197970738118",
         "orientation": "v",
         "showlegend": true,
         "textposition": "auto",
         "texttemplate": "%{y}",
         "type": "bar",
         "x": [
          "76561197970738118"
         ],
         "xaxis": "x",
         "y": [
          176
         ],
         "yaxis": "y"
        },
        {
         "alignmentgroup": "True",
         "hovertemplate": "steamid=%{x}<br>game count=%{y}<extra></extra>",
         "legendgroup": "76561197984628526",
         "marker": {
          "color": "#00cc96",
          "pattern": {
           "shape": ""
          }
         },
         "name": "76561197984628526",
         "offsetgroup": "76561197984628526",
         "orientation": "v",
         "showlegend": true,
         "textposition": "auto",
         "texttemplate": "%{y}",
         "type": "bar",
         "x": [
          "76561197984628526"
         ],
         "xaxis": "x",
         "y": [
          171
         ],
         "yaxis": "y"
        },
        {
         "alignmentgroup": "True",
         "hovertemplate": "steamid=%{x}<br>game count=%{y}<extra></extra>",
         "legendgroup": "76561197991050584",
         "marker": {
          "color": "#ab63fa",
          "pattern": {
           "shape": ""
          }
         },
         "name": "76561197991050584",
         "offsetgroup": "76561197991050584",
         "orientation": "v",
         "showlegend": true,
         "textposition": "auto",
         "texttemplate": "%{y}",
         "type": "bar",
         "x": [
          "76561197991050584"
         ],
         "xaxis": "x",
         "y": [
          170
         ],
         "yaxis": "y"
        },
        {
         "alignmentgroup": "True",
         "hovertemplate": "steamid=%{x}<br>game count=%{y}<extra></extra>",
         "legendgroup": "76561198004803656",
         "marker": {
          "color": "#FFA15A",
          "pattern": {
           "shape": ""
          }
         },
         "name": "76561198004803656",
         "offsetgroup": "76561198004803656",
         "orientation": "v",
         "showlegend": true,
         "textposition": "auto",
         "texttemplate": "%{y}",
         "type": "bar",
         "x": [
          "76561198004803656"
         ],
         "xaxis": "x",
         "y": [
          165
         ],
         "yaxis": "y"
        },
        {
         "alignmentgroup": "True",
         "hovertemplate": "steamid=%{x}<br>game count=%{y}<extra></extra>",
         "legendgroup": "76561197970683033",
         "marker": {
          "color": "#19d3f3",
          "pattern": {
           "shape": ""
          }
         },
         "name": "76561197970683033",
         "offsetgroup": "76561197970683033",
         "orientation": "v",
         "showlegend": true,
         "textposition": "auto",
         "texttemplate": "%{y}",
         "type": "bar",
         "x": [
          "76561197970683033"
         ],
         "xaxis": "x",
         "y": [
          162
         ],
         "yaxis": "y"
        },
        {
         "alignmentgroup": "True",
         "hovertemplate": "steamid=%{x}<br>game count=%{y}<extra></extra>",
         "legendgroup": "76561198092753159",
         "marker": {
          "color": "#FF6692",
          "pattern": {
           "shape": ""
          }
         },
         "name": "76561198092753159",
         "offsetgroup": "76561198092753159",
         "orientation": "v",
         "showlegend": true,
         "textposition": "auto",
         "texttemplate": "%{y}",
         "type": "bar",
         "x": [
          "76561198092753159"
         ],
         "xaxis": "x",
         "y": [
          128
         ],
         "yaxis": "y"
        },
        {
         "alignmentgroup": "True",
         "hovertemplate": "steamid=%{x}<br>game count=%{y}<extra></extra>",
         "legendgroup": "76561197985630263",
         "marker": {
          "color": "#B6E880",
          "pattern": {
           "shape": ""
          }
         },
         "name": "76561197985630263",
         "offsetgroup": "76561197985630263",
         "orientation": "v",
         "showlegend": true,
         "textposition": "auto",
         "texttemplate": "%{y}",
         "type": "bar",
         "x": [
          "76561197985630263"
         ],
         "xaxis": "x",
         "y": [
          110
         ],
         "yaxis": "y"
        },
        {
         "alignmentgroup": "True",
         "hovertemplate": "steamid=%{x}<br>game count=%{y}<extra></extra>",
         "legendgroup": "76561198014848444",
         "marker": {
          "color": "#FF97FF",
          "pattern": {
           "shape": ""
          }
         },
         "name": "76561198014848444",
         "offsetgroup": "76561198014848444",
         "orientation": "v",
         "showlegend": true,
         "textposition": "auto",
         "texttemplate": "%{y}",
         "type": "bar",
         "x": [
          "76561198014848444"
         ],
         "xaxis": "x",
         "y": [
          100
         ],
         "yaxis": "y"
        },
        {
         "alignmentgroup": "True",
         "hovertemplate": "steamid=%{x}<br>game count=%{y}<extra></extra>",
         "legendgroup": "76561197962050254",
         "marker": {
          "color": "#FECB52",
          "pattern": {
           "shape": ""
          }
         },
         "name": "76561197962050254",
         "offsetgroup": "76561197962050254",
         "orientation": "v",
         "showlegend": true,
         "textposition": "auto",
         "texttemplate": "%{y}",
         "type": "bar",
         "x": [
          "76561197962050254"
         ],
         "xaxis": "x",
         "y": [
          86
         ],
         "yaxis": "y"
        },
        {
         "alignmentgroup": "True",
         "hovertemplate": "steamid=%{x}<br>game count=%{y}<extra></extra>",
         "legendgroup": "76561197993304508",
         "marker": {
          "color": "#636efa",
          "pattern": {
           "shape": ""
          }
         },
         "name": "76561197993304508",
         "offsetgroup": "76561197993304508",
         "orientation": "v",
         "showlegend": true,
         "textposition": "auto",
         "texttemplate": "%{y}",
         "type": "bar",
         "x": [
          "76561197993304508"
         ],
         "xaxis": "x",
         "y": [
          73
         ],
         "yaxis": "y"
        },
        {
         "alignmentgroup": "True",
         "hovertemplate": "steamid=%{x}<br>game count=%{y}<extra></extra>",
         "legendgroup": "76561197971034129",
         "marker": {
          "color": "#EF553B",
          "pattern": {
           "shape": ""
          }
         },
         "name": "76561197971034129",
         "offsetgroup": "76561197971034129",
         "orientation": "v",
         "showlegend": true,
         "textposition": "auto",
         "texttemplate": "%{y}",
         "type": "bar",
         "x": [
          "76561197971034129"
         ],
         "xaxis": "x",
         "y": [
          71
         ],
         "yaxis": "y"
        },
        {
         "alignmentgroup": "True",
         "hovertemplate": "steamid=%{x}<br>game count=%{y}<extra></extra>",
         "legendgroup": "76561197965062542",
         "marker": {
          "color": "#00cc96",
          "pattern": {
           "shape": ""
          }
         },
         "name": "76561197965062542",
         "offsetgroup": "76561197965062542",
         "orientation": "v",
         "showlegend": true,
         "textposition": "auto",
         "texttemplate": "%{y}",
         "type": "bar",
         "x": [
          "76561197965062542"
         ],
         "xaxis": "x",
         "y": [
          71
         ],
         "yaxis": "y"
        },
        {
         "alignmentgroup": "True",
         "hovertemplate": "steamid=%{x}<br>game count=%{y}<extra></extra>",
         "legendgroup": "76561198098188285",
         "marker": {
          "color": "#ab63fa",
          "pattern": {
           "shape": ""
          }
         },
         "name": "76561198098188285",
         "offsetgroup": "76561198098188285",
         "orientation": "v",
         "showlegend": true,
         "textposition": "auto",
         "texttemplate": "%{y}",
         "type": "bar",
         "x": [
          "76561198098188285"
         ],
         "xaxis": "x",
         "y": [
          68
         ],
         "yaxis": "y"
        },
        {
         "alignmentgroup": "True",
         "hovertemplate": "steamid=%{x}<br>game count=%{y}<extra></extra>",
         "legendgroup": "76561197998169405",
         "marker": {
          "color": "#FFA15A",
          "pattern": {
           "shape": ""
          }
         },
         "name": "76561197998169405",
         "offsetgroup": "76561197998169405",
         "orientation": "v",
         "showlegend": true,
         "textposition": "auto",
         "texttemplate": "%{y}",
         "type": "bar",
         "x": [
          "76561197998169405"
         ],
         "xaxis": "x",
         "y": [
          65
         ],
         "yaxis": "y"
        },
        {
         "alignmentgroup": "True",
         "hovertemplate": "steamid=%{x}<br>game count=%{y}<extra></extra>",
         "legendgroup": "76561198037629929",
         "marker": {
          "color": "#19d3f3",
          "pattern": {
           "shape": ""
          }
         },
         "name": "76561198037629929",
         "offsetgroup": "76561198037629929",
         "orientation": "v",
         "showlegend": true,
         "textposition": "auto",
         "texttemplate": "%{y}",
         "type": "bar",
         "x": [
          "76561198037629929"
         ],
         "xaxis": "x",
         "y": [
          64
         ],
         "yaxis": "y"
        },
        {
         "alignmentgroup": "True",
         "hovertemplate": "steamid=%{x}<br>game count=%{y}<extra></extra>",
         "legendgroup": "76561198004670799",
         "marker": {
          "color": "#FF6692",
          "pattern": {
           "shape": ""
          }
         },
         "name": "76561198004670799",
         "offsetgroup": "76561198004670799",
         "orientation": "v",
         "showlegend": true,
         "textposition": "auto",
         "texttemplate": "%{y}",
         "type": "bar",
         "x": [
          "76561198004670799"
         ],
         "xaxis": "x",
         "y": [
          62
         ],
         "yaxis": "y"
        },
        {
         "alignmentgroup": "True",
         "hovertemplate": "steamid=%{x}<br>game count=%{y}<extra></extra>",
         "legendgroup": "76561198056613809",
         "marker": {
          "color": "#B6E880",
          "pattern": {
           "shape": ""
          }
         },
         "name": "76561198056613809",
         "offsetgroup": "76561198056613809",
         "orientation": "v",
         "showlegend": true,
         "textposition": "auto",
         "texttemplate": "%{y}",
         "type": "bar",
         "x": [
          "76561198056613809"
         ],
         "xaxis": "x",
         "y": [
          61
         ],
         "yaxis": "y"
        },
        {
         "alignmentgroup": "True",
         "hovertemplate": "steamid=%{x}<br>game count=%{y}<extra></extra>",
         "legendgroup": "76561197998488829",
         "marker": {
          "color": "#FF97FF",
          "pattern": {
           "shape": ""
          }
         },
         "name": "76561197998488829",
         "offsetgroup": "76561197998488829",
         "orientation": "v",
         "showlegend": true,
         "textposition": "auto",
         "texttemplate": "%{y}",
         "type": "bar",
         "x": [
          "76561197998488829"
         ],
         "xaxis": "x",
         "y": [
          60
         ],
         "yaxis": "y"
        },
        {
         "alignmentgroup": "True",
         "hovertemplate": "steamid=%{x}<br>game count=%{y}<extra></extra>",
         "legendgroup": "76561198084453258",
         "marker": {
          "color": "#FECB52",
          "pattern": {
           "shape": ""
          }
         },
         "name": "76561198084453258",
         "offsetgroup": "76561198084453258",
         "orientation": "v",
         "showlegend": true,
         "textposition": "auto",
         "texttemplate": "%{y}",
         "type": "bar",
         "x": [
          "76561198084453258"
         ],
         "xaxis": "x",
         "y": [
          60
         ],
         "yaxis": "y"
        },
        {
         "alignmentgroup": "True",
         "hovertemplate": "steamid=%{x}<br>game count=%{y}<extra></extra>",
         "legendgroup": "76561198010430483",
         "marker": {
          "color": "#636efa",
          "pattern": {
           "shape": ""
          }
         },
         "name": "76561198010430483",
         "offsetgroup": "76561198010430483",
         "orientation": "v",
         "showlegend": true,
         "textposition": "auto",
         "texttemplate": "%{y}",
         "type": "bar",
         "x": [
          "76561198010430483"
         ],
         "xaxis": "x",
         "y": [
          59
         ],
         "yaxis": "y"
        },
        {
         "alignmentgroup": "True",
         "hovertemplate": "steamid=%{x}<br>game count=%{y}<extra></extra>",
         "legendgroup": "76561198024567076",
         "marker": {
          "color": "#EF553B",
          "pattern": {
           "shape": ""
          }
         },
         "name": "76561198024567076",
         "offsetgroup": "76561198024567076",
         "orientation": "v",
         "showlegend": true,
         "textposition": "auto",
         "texttemplate": "%{y}",
         "type": "bar",
         "x": [
          "76561198024567076"
         ],
         "xaxis": "x",
         "y": [
          58
         ],
         "yaxis": "y"
        },
        {
         "alignmentgroup": "True",
         "hovertemplate": "steamid=%{x}<br>game count=%{y}<extra></extra>",
         "legendgroup": "76561197969494473",
         "marker": {
          "color": "#00cc96",
          "pattern": {
           "shape": ""
          }
         },
         "name": "76561197969494473",
         "offsetgroup": "76561197969494473",
         "orientation": "v",
         "showlegend": true,
         "textposition": "auto",
         "texttemplate": "%{y}",
         "type": "bar",
         "x": [
          "76561197969494473"
         ],
         "xaxis": "x",
         "y": [
          56
         ],
         "yaxis": "y"
        },
        {
         "alignmentgroup": "True",
         "hovertemplate": "steamid=%{x}<br>game count=%{y}<extra></extra>",
         "legendgroup": "76561197961124929",
         "marker": {
          "color": "#ab63fa",
          "pattern": {
           "shape": ""
          }
         },
         "name": "76561197961124929",
         "offsetgroup": "76561197961124929",
         "orientation": "v",
         "showlegend": true,
         "textposition": "auto",
         "texttemplate": "%{y}",
         "type": "bar",
         "x": [
          "76561197961124929"
         ],
         "xaxis": "x",
         "y": [
          54
         ],
         "yaxis": "y"
        },
        {
         "alignmentgroup": "True",
         "hovertemplate": "steamid=%{x}<br>game count=%{y}<extra></extra>",
         "legendgroup": "76561198062672788",
         "marker": {
          "color": "#FFA15A",
          "pattern": {
           "shape": ""
          }
         },
         "name": "76561198062672788",
         "offsetgroup": "76561198062672788",
         "orientation": "v",
         "showlegend": true,
         "textposition": "auto",
         "texttemplate": "%{y}",
         "type": "bar",
         "x": [
          "76561198062672788"
         ],
         "xaxis": "x",
         "y": [
          50
         ],
         "yaxis": "y"
        },
        {
         "alignmentgroup": "True",
         "hovertemplate": "steamid=%{x}<br>game count=%{y}<extra></extra>",
         "legendgroup": "76561198064970505",
         "marker": {
          "color": "#19d3f3",
          "pattern": {
           "shape": ""
          }
         },
         "name": "76561198064970505",
         "offsetgroup": "76561198064970505",
         "orientation": "v",
         "showlegend": true,
         "textposition": "auto",
         "texttemplate": "%{y}",
         "type": "bar",
         "x": [
          "76561198064970505"
         ],
         "xaxis": "x",
         "y": [
          49
         ],
         "yaxis": "y"
        },
        {
         "alignmentgroup": "True",
         "hovertemplate": "steamid=%{x}<br>game count=%{y}<extra></extra>",
         "legendgroup": "76561198046933197",
         "marker": {
          "color": "#FF6692",
          "pattern": {
           "shape": ""
          }
         },
         "name": "76561198046933197",
         "offsetgroup": "76561198046933197",
         "orientation": "v",
         "showlegend": true,
         "textposition": "auto",
         "texttemplate": "%{y}",
         "type": "bar",
         "x": [
          "76561198046933197"
         ],
         "xaxis": "x",
         "y": [
          46
         ],
         "yaxis": "y"
        },
        {
         "alignmentgroup": "True",
         "hovertemplate": "steamid=%{x}<br>game count=%{y}<extra></extra>",
         "legendgroup": "76561197966467800",
         "marker": {
          "color": "#B6E880",
          "pattern": {
           "shape": ""
          }
         },
         "name": "76561197966467800",
         "offsetgroup": "76561197966467800",
         "orientation": "v",
         "showlegend": true,
         "textposition": "auto",
         "texttemplate": "%{y}",
         "type": "bar",
         "x": [
          "76561197966467800"
         ],
         "xaxis": "x",
         "y": [
          45
         ],
         "yaxis": "y"
        },
        {
         "alignmentgroup": "True",
         "hovertemplate": "steamid=%{x}<br>game count=%{y}<extra></extra>",
         "legendgroup": "76561197994644797",
         "marker": {
          "color": "#FF97FF",
          "pattern": {
           "shape": ""
          }
         },
         "name": "76561197994644797",
         "offsetgroup": "76561197994644797",
         "orientation": "v",
         "showlegend": true,
         "textposition": "auto",
         "texttemplate": "%{y}",
         "type": "bar",
         "x": [
          "76561197994644797"
         ],
         "xaxis": "x",
         "y": [
          43
         ],
         "yaxis": "y"
        },
        {
         "alignmentgroup": "True",
         "hovertemplate": "steamid=%{x}<br>game count=%{y}<extra></extra>",
         "legendgroup": "76561197971405841",
         "marker": {
          "color": "#FECB52",
          "pattern": {
           "shape": ""
          }
         },
         "name": "76561197971405841",
         "offsetgroup": "76561197971405841",
         "orientation": "v",
         "showlegend": true,
         "textposition": "auto",
         "texttemplate": "%{y}",
         "type": "bar",
         "x": [
          "76561197971405841"
         ],
         "xaxis": "x",
         "y": [
          43
         ],
         "yaxis": "y"
        },
        {
         "alignmentgroup": "True",
         "hovertemplate": "steamid=%{x}<br>game count=%{y}<extra></extra>",
         "legendgroup": "76561198040564894",
         "marker": {
          "color": "#636efa",
          "pattern": {
           "shape": ""
          }
         },
         "name": "76561198040564894",
         "offsetgroup": "76561198040564894",
         "orientation": "v",
         "showlegend": true,
         "textposition": "auto",
         "texttemplate": "%{y}",
         "type": "bar",
         "x": [
          "76561198040564894"
         ],
         "xaxis": "x",
         "y": [
          42
         ],
         "yaxis": "y"
        },
        {
         "alignmentgroup": "True",
         "hovertemplate": "steamid=%{x}<br>game count=%{y}<extra></extra>",
         "legendgroup": "76561197967711211",
         "marker": {
          "color": "#EF553B",
          "pattern": {
           "shape": ""
          }
         },
         "name": "76561197967711211",
         "offsetgroup": "76561197967711211",
         "orientation": "v",
         "showlegend": true,
         "textposition": "auto",
         "texttemplate": "%{y}",
         "type": "bar",
         "x": [
          "76561197967711211"
         ],
         "xaxis": "x",
         "y": [
          41
         ],
         "yaxis": "y"
        },
        {
         "alignmentgroup": "True",
         "hovertemplate": "steamid=%{x}<br>game count=%{y}<extra></extra>",
         "legendgroup": "76561198070349294",
         "marker": {
          "color": "#00cc96",
          "pattern": {
           "shape": ""
          }
         },
         "name": "76561198070349294",
         "offsetgroup": "76561198070349294",
         "orientation": "v",
         "showlegend": true,
         "textposition": "auto",
         "texttemplate": "%{y}",
         "type": "bar",
         "x": [
          "76561198070349294"
         ],
         "xaxis": "x",
         "y": [
          38
         ],
         "yaxis": "y"
        },
        {
         "alignmentgroup": "True",
         "hovertemplate": "steamid=%{x}<br>game count=%{y}<extra></extra>",
         "legendgroup": "76561198071648512",
         "marker": {
          "color": "#ab63fa",
          "pattern": {
           "shape": ""
          }
         },
         "name": "76561198071648512",
         "offsetgroup": "76561198071648512",
         "orientation": "v",
         "showlegend": true,
         "textposition": "auto",
         "texttemplate": "%{y}",
         "type": "bar",
         "x": [
          "76561198071648512"
         ],
         "xaxis": "x",
         "y": [
          37
         ],
         "yaxis": "y"
        },
        {
         "alignmentgroup": "True",
         "hovertemplate": "steamid=%{x}<br>game count=%{y}<extra></extra>",
         "legendgroup": "76561197973493879",
         "marker": {
          "color": "#FFA15A",
          "pattern": {
           "shape": ""
          }
         },
         "name": "76561197973493879",
         "offsetgroup": "76561197973493879",
         "orientation": "v",
         "showlegend": true,
         "textposition": "auto",
         "texttemplate": "%{y}",
         "type": "bar",
         "x": [
          "76561197973493879"
         ],
         "xaxis": "x",
         "y": [
          25
         ],
         "yaxis": "y"
        },
        {
         "alignmentgroup": "True",
         "hovertemplate": "steamid=%{x}<br>game count=%{y}<extra></extra>",
         "legendgroup": "76561198328335793",
         "marker": {
          "color": "#19d3f3",
          "pattern": {
           "shape": ""
          }
         },
         "name": "76561198328335793",
         "offsetgroup": "76561198328335793",
         "orientation": "v",
         "showlegend": true,
         "textposition": "auto",
         "texttemplate": "%{y}",
         "type": "bar",
         "x": [
          "76561198328335793"
         ],
         "xaxis": "x",
         "y": [
          20
         ],
         "yaxis": "y"
        },
        {
         "alignmentgroup": "True",
         "hovertemplate": "steamid=%{x}<br>game count=%{y}<extra></extra>",
         "legendgroup": "76561198001420537",
         "marker": {
          "color": "#FF6692",
          "pattern": {
           "shape": ""
          }
         },
         "name": "76561198001420537",
         "offsetgroup": "76561198001420537",
         "orientation": "v",
         "showlegend": true,
         "textposition": "auto",
         "texttemplate": "%{y}",
         "type": "bar",
         "x": [
          "76561198001420537"
         ],
         "xaxis": "x",
         "y": [
          13
         ],
         "yaxis": "y"
        },
        {
         "alignmentgroup": "True",
         "hovertemplate": "steamid=%{x}<br>game count=%{y}<extra></extra>",
         "legendgroup": "76561198162804811",
         "marker": {
          "color": "#B6E880",
          "pattern": {
           "shape": ""
          }
         },
         "name": "76561198162804811",
         "offsetgroup": "76561198162804811",
         "orientation": "v",
         "showlegend": true,
         "textposition": "auto",
         "texttemplate": "%{y}",
         "type": "bar",
         "x": [
          "76561198162804811"
         ],
         "xaxis": "x",
         "y": [
          8
         ],
         "yaxis": "y"
        },
        {
         "alignmentgroup": "True",
         "hovertemplate": "steamid=%{x}<br>game count=%{y}<extra></extra>",
         "legendgroup": "76561198062082870",
         "marker": {
          "color": "#FF97FF",
          "pattern": {
           "shape": ""
          }
         },
         "name": "76561198062082870",
         "offsetgroup": "76561198062082870",
         "orientation": "v",
         "showlegend": true,
         "textposition": "auto",
         "texttemplate": "%{y}",
         "type": "bar",
         "x": [
          "76561198062082870"
         ],
         "xaxis": "x",
         "y": [
          8
         ],
         "yaxis": "y"
        },
        {
         "alignmentgroup": "True",
         "hovertemplate": "steamid=%{x}<br>game count=%{y}<extra></extra>",
         "legendgroup": "76561198027584770",
         "marker": {
          "color": "#FECB52",
          "pattern": {
           "shape": ""
          }
         },
         "name": "76561198027584770",
         "offsetgroup": "76561198027584770",
         "orientation": "v",
         "showlegend": true,
         "textposition": "auto",
         "texttemplate": "%{y}",
         "type": "bar",
         "x": [
          "76561198027584770"
         ],
         "xaxis": "x",
         "y": [
          3
         ],
         "yaxis": "y"
        },
        {
         "alignmentgroup": "True",
         "hovertemplate": "steamid=%{x}<br>game count=%{y}<extra></extra>",
         "legendgroup": "76561198093480535",
         "marker": {
          "color": "#636efa",
          "pattern": {
           "shape": ""
          }
         },
         "name": "76561198093480535",
         "offsetgroup": "76561198093480535",
         "orientation": "v",
         "showlegend": true,
         "textposition": "auto",
         "texttemplate": "%{y}",
         "type": "bar",
         "x": [
          "76561198093480535"
         ],
         "xaxis": "x",
         "y": [
          1
         ],
         "yaxis": "y"
        },
        {
         "alignmentgroup": "True",
         "hovertemplate": "steamid=%{x}<br>game count=%{y}<extra></extra>",
         "legendgroup": "76561199457761212",
         "marker": {
          "color": "#EF553B",
          "pattern": {
           "shape": ""
          }
         },
         "name": "76561199457761212",
         "offsetgroup": "76561199457761212",
         "orientation": "v",
         "showlegend": true,
         "textposition": "auto",
         "texttemplate": "%{y}",
         "type": "bar",
         "x": [
          "76561199457761212"
         ],
         "xaxis": "x",
         "y": [
          1
         ],
         "yaxis": "y"
        }
       ],
       "layout": {
        "barmode": "relative",
        "legend": {
         "title": {
          "text": "steamid"
         },
         "tracegroupgap": 0
        },
        "template": {
         "data": {
          "bar": [
           {
            "error_x": {
             "color": "#2a3f5f"
            },
            "error_y": {
             "color": "#2a3f5f"
            },
            "marker": {
             "line": {
              "color": "#E5ECF6",
              "width": 0.5
             },
             "pattern": {
              "fillmode": "overlay",
              "size": 10,
              "solidity": 0.2
             }
            },
            "type": "bar"
           }
          ],
          "barpolar": [
           {
            "marker": {
             "line": {
              "color": "#E5ECF6",
              "width": 0.5
             },
             "pattern": {
              "fillmode": "overlay",
              "size": 10,
              "solidity": 0.2
             }
            },
            "type": "barpolar"
           }
          ],
          "carpet": [
           {
            "aaxis": {
             "endlinecolor": "#2a3f5f",
             "gridcolor": "white",
             "linecolor": "white",
             "minorgridcolor": "white",
             "startlinecolor": "#2a3f5f"
            },
            "baxis": {
             "endlinecolor": "#2a3f5f",
             "gridcolor": "white",
             "linecolor": "white",
             "minorgridcolor": "white",
             "startlinecolor": "#2a3f5f"
            },
            "type": "carpet"
           }
          ],
          "choropleth": [
           {
            "colorbar": {
             "outlinewidth": 0,
             "ticks": ""
            },
            "type": "choropleth"
           }
          ],
          "contour": [
           {
            "colorbar": {
             "outlinewidth": 0,
             "ticks": ""
            },
            "colorscale": [
             [
              0,
              "#0d0887"
             ],
             [
              0.1111111111111111,
              "#46039f"
             ],
             [
              0.2222222222222222,
              "#7201a8"
             ],
             [
              0.3333333333333333,
              "#9c179e"
             ],
             [
              0.4444444444444444,
              "#bd3786"
             ],
             [
              0.5555555555555556,
              "#d8576b"
             ],
             [
              0.6666666666666666,
              "#ed7953"
             ],
             [
              0.7777777777777778,
              "#fb9f3a"
             ],
             [
              0.8888888888888888,
              "#fdca26"
             ],
             [
              1,
              "#f0f921"
             ]
            ],
            "type": "contour"
           }
          ],
          "contourcarpet": [
           {
            "colorbar": {
             "outlinewidth": 0,
             "ticks": ""
            },
            "type": "contourcarpet"
           }
          ],
          "heatmap": [
           {
            "colorbar": {
             "outlinewidth": 0,
             "ticks": ""
            },
            "colorscale": [
             [
              0,
              "#0d0887"
             ],
             [
              0.1111111111111111,
              "#46039f"
             ],
             [
              0.2222222222222222,
              "#7201a8"
             ],
             [
              0.3333333333333333,
              "#9c179e"
             ],
             [
              0.4444444444444444,
              "#bd3786"
             ],
             [
              0.5555555555555556,
              "#d8576b"
             ],
             [
              0.6666666666666666,
              "#ed7953"
             ],
             [
              0.7777777777777778,
              "#fb9f3a"
             ],
             [
              0.8888888888888888,
              "#fdca26"
             ],
             [
              1,
              "#f0f921"
             ]
            ],
            "type": "heatmap"
           }
          ],
          "heatmapgl": [
           {
            "colorbar": {
             "outlinewidth": 0,
             "ticks": ""
            },
            "colorscale": [
             [
              0,
              "#0d0887"
             ],
             [
              0.1111111111111111,
              "#46039f"
             ],
             [
              0.2222222222222222,
              "#7201a8"
             ],
             [
              0.3333333333333333,
              "#9c179e"
             ],
             [
              0.4444444444444444,
              "#bd3786"
             ],
             [
              0.5555555555555556,
              "#d8576b"
             ],
             [
              0.6666666666666666,
              "#ed7953"
             ],
             [
              0.7777777777777778,
              "#fb9f3a"
             ],
             [
              0.8888888888888888,
              "#fdca26"
             ],
             [
              1,
              "#f0f921"
             ]
            ],
            "type": "heatmapgl"
           }
          ],
          "histogram": [
           {
            "marker": {
             "pattern": {
              "fillmode": "overlay",
              "size": 10,
              "solidity": 0.2
             }
            },
            "type": "histogram"
           }
          ],
          "histogram2d": [
           {
            "colorbar": {
             "outlinewidth": 0,
             "ticks": ""
            },
            "colorscale": [
             [
              0,
              "#0d0887"
             ],
             [
              0.1111111111111111,
              "#46039f"
             ],
             [
              0.2222222222222222,
              "#7201a8"
             ],
             [
              0.3333333333333333,
              "#9c179e"
             ],
             [
              0.4444444444444444,
              "#bd3786"
             ],
             [
              0.5555555555555556,
              "#d8576b"
             ],
             [
              0.6666666666666666,
              "#ed7953"
             ],
             [
              0.7777777777777778,
              "#fb9f3a"
             ],
             [
              0.8888888888888888,
              "#fdca26"
             ],
             [
              1,
              "#f0f921"
             ]
            ],
            "type": "histogram2d"
           }
          ],
          "histogram2dcontour": [
           {
            "colorbar": {
             "outlinewidth": 0,
             "ticks": ""
            },
            "colorscale": [
             [
              0,
              "#0d0887"
             ],
             [
              0.1111111111111111,
              "#46039f"
             ],
             [
              0.2222222222222222,
              "#7201a8"
             ],
             [
              0.3333333333333333,
              "#9c179e"
             ],
             [
              0.4444444444444444,
              "#bd3786"
             ],
             [
              0.5555555555555556,
              "#d8576b"
             ],
             [
              0.6666666666666666,
              "#ed7953"
             ],
             [
              0.7777777777777778,
              "#fb9f3a"
             ],
             [
              0.8888888888888888,
              "#fdca26"
             ],
             [
              1,
              "#f0f921"
             ]
            ],
            "type": "histogram2dcontour"
           }
          ],
          "mesh3d": [
           {
            "colorbar": {
             "outlinewidth": 0,
             "ticks": ""
            },
            "type": "mesh3d"
           }
          ],
          "parcoords": [
           {
            "line": {
             "colorbar": {
              "outlinewidth": 0,
              "ticks": ""
             }
            },
            "type": "parcoords"
           }
          ],
          "pie": [
           {
            "automargin": true,
            "type": "pie"
           }
          ],
          "scatter": [
           {
            "fillpattern": {
             "fillmode": "overlay",
             "size": 10,
             "solidity": 0.2
            },
            "type": "scatter"
           }
          ],
          "scatter3d": [
           {
            "line": {
             "colorbar": {
              "outlinewidth": 0,
              "ticks": ""
             }
            },
            "marker": {
             "colorbar": {
              "outlinewidth": 0,
              "ticks": ""
             }
            },
            "type": "scatter3d"
           }
          ],
          "scattercarpet": [
           {
            "marker": {
             "colorbar": {
              "outlinewidth": 0,
              "ticks": ""
             }
            },
            "type": "scattercarpet"
           }
          ],
          "scattergeo": [
           {
            "marker": {
             "colorbar": {
              "outlinewidth": 0,
              "ticks": ""
             }
            },
            "type": "scattergeo"
           }
          ],
          "scattergl": [
           {
            "marker": {
             "colorbar": {
              "outlinewidth": 0,
              "ticks": ""
             }
            },
            "type": "scattergl"
           }
          ],
          "scattermapbox": [
           {
            "marker": {
             "colorbar": {
              "outlinewidth": 0,
              "ticks": ""
             }
            },
            "type": "scattermapbox"
           }
          ],
          "scatterpolar": [
           {
            "marker": {
             "colorbar": {
              "outlinewidth": 0,
              "ticks": ""
             }
            },
            "type": "scatterpolar"
           }
          ],
          "scatterpolargl": [
           {
            "marker": {
             "colorbar": {
              "outlinewidth": 0,
              "ticks": ""
             }
            },
            "type": "scatterpolargl"
           }
          ],
          "scatterternary": [
           {
            "marker": {
             "colorbar": {
              "outlinewidth": 0,
              "ticks": ""
             }
            },
            "type": "scatterternary"
           }
          ],
          "surface": [
           {
            "colorbar": {
             "outlinewidth": 0,
             "ticks": ""
            },
            "colorscale": [
             [
              0,
              "#0d0887"
             ],
             [
              0.1111111111111111,
              "#46039f"
             ],
             [
              0.2222222222222222,
              "#7201a8"
             ],
             [
              0.3333333333333333,
              "#9c179e"
             ],
             [
              0.4444444444444444,
              "#bd3786"
             ],
             [
              0.5555555555555556,
              "#d8576b"
             ],
             [
              0.6666666666666666,
              "#ed7953"
             ],
             [
              0.7777777777777778,
              "#fb9f3a"
             ],
             [
              0.8888888888888888,
              "#fdca26"
             ],
             [
              1,
              "#f0f921"
             ]
            ],
            "type": "surface"
           }
          ],
          "table": [
           {
            "cells": {
             "fill": {
              "color": "#EBF0F8"
             },
             "line": {
              "color": "white"
             }
            },
            "header": {
             "fill": {
              "color": "#C8D4E3"
             },
             "line": {
              "color": "white"
             }
            },
            "type": "table"
           }
          ]
         },
         "layout": {
          "annotationdefaults": {
           "arrowcolor": "#2a3f5f",
           "arrowhead": 0,
           "arrowwidth": 1
          },
          "autotypenumbers": "strict",
          "coloraxis": {
           "colorbar": {
            "outlinewidth": 0,
            "ticks": ""
           }
          },
          "colorscale": {
           "diverging": [
            [
             0,
             "#8e0152"
            ],
            [
             0.1,
             "#c51b7d"
            ],
            [
             0.2,
             "#de77ae"
            ],
            [
             0.3,
             "#f1b6da"
            ],
            [
             0.4,
             "#fde0ef"
            ],
            [
             0.5,
             "#f7f7f7"
            ],
            [
             0.6,
             "#e6f5d0"
            ],
            [
             0.7,
             "#b8e186"
            ],
            [
             0.8,
             "#7fbc41"
            ],
            [
             0.9,
             "#4d9221"
            ],
            [
             1,
             "#276419"
            ]
           ],
           "sequential": [
            [
             0,
             "#0d0887"
            ],
            [
             0.1111111111111111,
             "#46039f"
            ],
            [
             0.2222222222222222,
             "#7201a8"
            ],
            [
             0.3333333333333333,
             "#9c179e"
            ],
            [
             0.4444444444444444,
             "#bd3786"
            ],
            [
             0.5555555555555556,
             "#d8576b"
            ],
            [
             0.6666666666666666,
             "#ed7953"
            ],
            [
             0.7777777777777778,
             "#fb9f3a"
            ],
            [
             0.8888888888888888,
             "#fdca26"
            ],
            [
             1,
             "#f0f921"
            ]
           ],
           "sequentialminus": [
            [
             0,
             "#0d0887"
            ],
            [
             0.1111111111111111,
             "#46039f"
            ],
            [
             0.2222222222222222,
             "#7201a8"
            ],
            [
             0.3333333333333333,
             "#9c179e"
            ],
            [
             0.4444444444444444,
             "#bd3786"
            ],
            [
             0.5555555555555556,
             "#d8576b"
            ],
            [
             0.6666666666666666,
             "#ed7953"
            ],
            [
             0.7777777777777778,
             "#fb9f3a"
            ],
            [
             0.8888888888888888,
             "#fdca26"
            ],
            [
             1,
             "#f0f921"
            ]
           ]
          },
          "colorway": [
           "#636efa",
           "#EF553B",
           "#00cc96",
           "#ab63fa",
           "#FFA15A",
           "#19d3f3",
           "#FF6692",
           "#B6E880",
           "#FF97FF",
           "#FECB52"
          ],
          "font": {
           "color": "#2a3f5f"
          },
          "geo": {
           "bgcolor": "white",
           "lakecolor": "white",
           "landcolor": "#E5ECF6",
           "showlakes": true,
           "showland": true,
           "subunitcolor": "white"
          },
          "hoverlabel": {
           "align": "left"
          },
          "hovermode": "closest",
          "mapbox": {
           "style": "light"
          },
          "paper_bgcolor": "white",
          "plot_bgcolor": "#E5ECF6",
          "polar": {
           "angularaxis": {
            "gridcolor": "white",
            "linecolor": "white",
            "ticks": ""
           },
           "bgcolor": "#E5ECF6",
           "radialaxis": {
            "gridcolor": "white",
            "linecolor": "white",
            "ticks": ""
           }
          },
          "scene": {
           "xaxis": {
            "backgroundcolor": "#E5ECF6",
            "gridcolor": "white",
            "gridwidth": 2,
            "linecolor": "white",
            "showbackground": true,
            "ticks": "",
            "zerolinecolor": "white"
           },
           "yaxis": {
            "backgroundcolor": "#E5ECF6",
            "gridcolor": "white",
            "gridwidth": 2,
            "linecolor": "white",
            "showbackground": true,
            "ticks": "",
            "zerolinecolor": "white"
           },
           "zaxis": {
            "backgroundcolor": "#E5ECF6",
            "gridcolor": "white",
            "gridwidth": 2,
            "linecolor": "white",
            "showbackground": true,
            "ticks": "",
            "zerolinecolor": "white"
           }
          },
          "shapedefaults": {
           "line": {
            "color": "#2a3f5f"
           }
          },
          "ternary": {
           "aaxis": {
            "gridcolor": "white",
            "linecolor": "white",
            "ticks": ""
           },
           "baxis": {
            "gridcolor": "white",
            "linecolor": "white",
            "ticks": ""
           },
           "bgcolor": "#E5ECF6",
           "caxis": {
            "gridcolor": "white",
            "linecolor": "white",
            "ticks": ""
           }
          },
          "title": {
           "x": 0.05
          },
          "xaxis": {
           "automargin": true,
           "gridcolor": "white",
           "linecolor": "white",
           "ticks": "",
           "title": {
            "standoff": 15
           },
           "zerolinecolor": "white",
           "zerolinewidth": 2
          },
          "yaxis": {
           "automargin": true,
           "gridcolor": "white",
           "linecolor": "white",
           "ticks": "",
           "title": {
            "standoff": 15
           },
           "zerolinecolor": "white",
           "zerolinewidth": 2
          }
         }
        },
        "title": {
         "text": "Number of games played per user (with playtime > 0)"
        },
        "xaxis": {
         "anchor": "y",
         "categoryarray": [
          "76561198010183102",
          "76561197964812023",
          "76561198010002949",
          "76561198004094042",
          "76561198014294480",
          "76561198001281625",
          "76561197993300234",
          "76561198039203265",
          "76561197965527053",
          "76561198001262177",
          "76561198039495811",
          "76561197970738118",
          "76561197984628526",
          "76561197991050584",
          "76561198004803656",
          "76561197970683033",
          "76561198092753159",
          "76561197985630263",
          "76561198014848444",
          "76561197962050254",
          "76561197993304508",
          "76561197971034129",
          "76561197965062542",
          "76561198098188285",
          "76561197998169405",
          "76561198037629929",
          "76561198004670799",
          "76561198056613809",
          "76561197998488829",
          "76561198084453258",
          "76561198010430483",
          "76561198024567076",
          "76561197969494473",
          "76561197961124929",
          "76561198062672788",
          "76561198064970505",
          "76561198046933197",
          "76561197966467800",
          "76561197994644797",
          "76561197971405841",
          "76561198040564894",
          "76561197967711211",
          "76561198070349294",
          "76561198071648512",
          "76561197973493879",
          "76561198328335793",
          "76561198001420537",
          "76561198162804811",
          "76561198062082870",
          "76561198027584770",
          "76561198093480535",
          "76561199457761212"
         ],
         "categoryorder": "array",
         "domain": [
          0,
          1
         ],
         "title": {
          "text": "steamid"
         }
        },
        "yaxis": {
         "anchor": "x",
         "domain": [
          0,
          1
         ],
         "title": {
          "text": "game count"
         }
        }
       }
      }
     },
     "metadata": {},
     "output_type": "display_data"
    }
   ],
   "source": [
    "fig = px.bar(per_user_data, x=\"steamid\", y=\"game count\",color=\"steamid\",title=\"Number of games played per user (with playtime > 0)\",text_auto=True)\n",
    "fig.show()"
   ]
  },
  {
   "attachments": {},
   "cell_type": "markdown",
   "metadata": {},
   "source": [
    "Looking at the spread of number of games played per user, we can see that there are some users who have played as many as 200 over games, and there are those at the lower end who have played fewer than 30 games. <br>\n",
    "We can trim our dataset by removing outliers. <br>\n",
    "Since the median number of games played is 63, we can take 18 users above and below the median. This means users who played between 37 to 210 games inclusive. <br>"
   ]
  },
  {
   "cell_type": "code",
   "execution_count": 180,
   "metadata": {},
   "outputs": [
    {
     "data": {
      "text/html": [
       "<div>\n",
       "<style scoped>\n",
       "    .dataframe tbody tr th:only-of-type {\n",
       "        vertical-align: middle;\n",
       "    }\n",
       "\n",
       "    .dataframe tbody tr th {\n",
       "        vertical-align: top;\n",
       "    }\n",
       "\n",
       "    .dataframe thead th {\n",
       "        text-align: right;\n",
       "    }\n",
       "</style>\n",
       "<table border=\"1\" class=\"dataframe\">\n",
       "  <thead>\n",
       "    <tr style=\"text-align: right;\">\n",
       "      <th></th>\n",
       "      <th>steamid</th>\n",
       "      <th>total hours played</th>\n",
       "      <th>game count</th>\n",
       "    </tr>\n",
       "  </thead>\n",
       "  <tbody>\n",
       "    <tr>\n",
       "      <th>8</th>\n",
       "      <td>76561197965527053</td>\n",
       "      <td>7095.933333</td>\n",
       "      <td>210</td>\n",
       "    </tr>\n",
       "    <tr>\n",
       "      <th>9</th>\n",
       "      <td>76561198001262177</td>\n",
       "      <td>20687.633333</td>\n",
       "      <td>199</td>\n",
       "    </tr>\n",
       "    <tr>\n",
       "      <th>10</th>\n",
       "      <td>76561198039495811</td>\n",
       "      <td>3515.383333</td>\n",
       "      <td>189</td>\n",
       "    </tr>\n",
       "    <tr>\n",
       "      <th>11</th>\n",
       "      <td>76561197970738118</td>\n",
       "      <td>7516.466667</td>\n",
       "      <td>176</td>\n",
       "    </tr>\n",
       "    <tr>\n",
       "      <th>12</th>\n",
       "      <td>76561197984628526</td>\n",
       "      <td>7802.350000</td>\n",
       "      <td>171</td>\n",
       "    </tr>\n",
       "    <tr>\n",
       "      <th>13</th>\n",
       "      <td>76561197991050584</td>\n",
       "      <td>25310.583333</td>\n",
       "      <td>170</td>\n",
       "    </tr>\n",
       "    <tr>\n",
       "      <th>14</th>\n",
       "      <td>76561198004803656</td>\n",
       "      <td>3973.266667</td>\n",
       "      <td>165</td>\n",
       "    </tr>\n",
       "    <tr>\n",
       "      <th>15</th>\n",
       "      <td>76561197970683033</td>\n",
       "      <td>4910.233333</td>\n",
       "      <td>162</td>\n",
       "    </tr>\n",
       "    <tr>\n",
       "      <th>16</th>\n",
       "      <td>76561198092753159</td>\n",
       "      <td>10418.916667</td>\n",
       "      <td>128</td>\n",
       "    </tr>\n",
       "    <tr>\n",
       "      <th>17</th>\n",
       "      <td>76561197985630263</td>\n",
       "      <td>5391.216667</td>\n",
       "      <td>110</td>\n",
       "    </tr>\n",
       "    <tr>\n",
       "      <th>18</th>\n",
       "      <td>76561198014848444</td>\n",
       "      <td>1724.866667</td>\n",
       "      <td>100</td>\n",
       "    </tr>\n",
       "    <tr>\n",
       "      <th>19</th>\n",
       "      <td>76561197962050254</td>\n",
       "      <td>16009.700000</td>\n",
       "      <td>86</td>\n",
       "    </tr>\n",
       "    <tr>\n",
       "      <th>20</th>\n",
       "      <td>76561197993304508</td>\n",
       "      <td>3823.183333</td>\n",
       "      <td>73</td>\n",
       "    </tr>\n",
       "    <tr>\n",
       "      <th>21</th>\n",
       "      <td>76561197971034129</td>\n",
       "      <td>18612.716667</td>\n",
       "      <td>71</td>\n",
       "    </tr>\n",
       "    <tr>\n",
       "      <th>22</th>\n",
       "      <td>76561197965062542</td>\n",
       "      <td>3586.583333</td>\n",
       "      <td>71</td>\n",
       "    </tr>\n",
       "    <tr>\n",
       "      <th>23</th>\n",
       "      <td>76561198098188285</td>\n",
       "      <td>4442.566667</td>\n",
       "      <td>68</td>\n",
       "    </tr>\n",
       "    <tr>\n",
       "      <th>24</th>\n",
       "      <td>76561197998169405</td>\n",
       "      <td>9063.750000</td>\n",
       "      <td>65</td>\n",
       "    </tr>\n",
       "    <tr>\n",
       "      <th>25</th>\n",
       "      <td>76561198037629929</td>\n",
       "      <td>6954.433333</td>\n",
       "      <td>64</td>\n",
       "    </tr>\n",
       "    <tr>\n",
       "      <th>26</th>\n",
       "      <td>76561198004670799</td>\n",
       "      <td>3381.616667</td>\n",
       "      <td>62</td>\n",
       "    </tr>\n",
       "    <tr>\n",
       "      <th>27</th>\n",
       "      <td>76561198056613809</td>\n",
       "      <td>1555.350000</td>\n",
       "      <td>61</td>\n",
       "    </tr>\n",
       "    <tr>\n",
       "      <th>28</th>\n",
       "      <td>76561197998488829</td>\n",
       "      <td>8274.050000</td>\n",
       "      <td>60</td>\n",
       "    </tr>\n",
       "    <tr>\n",
       "      <th>29</th>\n",
       "      <td>76561198084453258</td>\n",
       "      <td>4155.666667</td>\n",
       "      <td>60</td>\n",
       "    </tr>\n",
       "    <tr>\n",
       "      <th>30</th>\n",
       "      <td>76561198010430483</td>\n",
       "      <td>5857.466667</td>\n",
       "      <td>59</td>\n",
       "    </tr>\n",
       "    <tr>\n",
       "      <th>31</th>\n",
       "      <td>76561198024567076</td>\n",
       "      <td>1221.966667</td>\n",
       "      <td>58</td>\n",
       "    </tr>\n",
       "    <tr>\n",
       "      <th>32</th>\n",
       "      <td>76561197969494473</td>\n",
       "      <td>11026.116667</td>\n",
       "      <td>56</td>\n",
       "    </tr>\n",
       "    <tr>\n",
       "      <th>33</th>\n",
       "      <td>76561197961124929</td>\n",
       "      <td>4303.316667</td>\n",
       "      <td>54</td>\n",
       "    </tr>\n",
       "    <tr>\n",
       "      <th>34</th>\n",
       "      <td>76561198062672788</td>\n",
       "      <td>8053.016667</td>\n",
       "      <td>50</td>\n",
       "    </tr>\n",
       "    <tr>\n",
       "      <th>35</th>\n",
       "      <td>76561198064970505</td>\n",
       "      <td>1439.683333</td>\n",
       "      <td>49</td>\n",
       "    </tr>\n",
       "    <tr>\n",
       "      <th>36</th>\n",
       "      <td>76561198046933197</td>\n",
       "      <td>4460.383333</td>\n",
       "      <td>46</td>\n",
       "    </tr>\n",
       "    <tr>\n",
       "      <th>37</th>\n",
       "      <td>76561197966467800</td>\n",
       "      <td>2392.466667</td>\n",
       "      <td>45</td>\n",
       "    </tr>\n",
       "    <tr>\n",
       "      <th>38</th>\n",
       "      <td>76561197994644797</td>\n",
       "      <td>10021.083333</td>\n",
       "      <td>43</td>\n",
       "    </tr>\n",
       "    <tr>\n",
       "      <th>39</th>\n",
       "      <td>76561197971405841</td>\n",
       "      <td>5754.950000</td>\n",
       "      <td>43</td>\n",
       "    </tr>\n",
       "    <tr>\n",
       "      <th>40</th>\n",
       "      <td>76561198040564894</td>\n",
       "      <td>2305.933333</td>\n",
       "      <td>42</td>\n",
       "    </tr>\n",
       "    <tr>\n",
       "      <th>41</th>\n",
       "      <td>76561197967711211</td>\n",
       "      <td>2850.333333</td>\n",
       "      <td>41</td>\n",
       "    </tr>\n",
       "    <tr>\n",
       "      <th>42</th>\n",
       "      <td>76561198070349294</td>\n",
       "      <td>876.700000</td>\n",
       "      <td>38</td>\n",
       "    </tr>\n",
       "    <tr>\n",
       "      <th>43</th>\n",
       "      <td>76561198071648512</td>\n",
       "      <td>10573.483333</td>\n",
       "      <td>37</td>\n",
       "    </tr>\n",
       "  </tbody>\n",
       "</table>\n",
       "</div>"
      ],
      "text/plain": [
       "              steamid  total hours played  game count\n",
       "8   76561197965527053         7095.933333         210\n",
       "9   76561198001262177        20687.633333         199\n",
       "10  76561198039495811         3515.383333         189\n",
       "11  76561197970738118         7516.466667         176\n",
       "12  76561197984628526         7802.350000         171\n",
       "13  76561197991050584        25310.583333         170\n",
       "14  76561198004803656         3973.266667         165\n",
       "15  76561197970683033         4910.233333         162\n",
       "16  76561198092753159        10418.916667         128\n",
       "17  76561197985630263         5391.216667         110\n",
       "18  76561198014848444         1724.866667         100\n",
       "19  76561197962050254        16009.700000          86\n",
       "20  76561197993304508         3823.183333          73\n",
       "21  76561197971034129        18612.716667          71\n",
       "22  76561197965062542         3586.583333          71\n",
       "23  76561198098188285         4442.566667          68\n",
       "24  76561197998169405         9063.750000          65\n",
       "25  76561198037629929         6954.433333          64\n",
       "26  76561198004670799         3381.616667          62\n",
       "27  76561198056613809         1555.350000          61\n",
       "28  76561197998488829         8274.050000          60\n",
       "29  76561198084453258         4155.666667          60\n",
       "30  76561198010430483         5857.466667          59\n",
       "31  76561198024567076         1221.966667          58\n",
       "32  76561197969494473        11026.116667          56\n",
       "33  76561197961124929         4303.316667          54\n",
       "34  76561198062672788         8053.016667          50\n",
       "35  76561198064970505         1439.683333          49\n",
       "36  76561198046933197         4460.383333          46\n",
       "37  76561197966467800         2392.466667          45\n",
       "38  76561197994644797        10021.083333          43\n",
       "39  76561197971405841         5754.950000          43\n",
       "40  76561198040564894         2305.933333          42\n",
       "41  76561197967711211         2850.333333          41\n",
       "42  76561198070349294          876.700000          38\n",
       "43  76561198071648512        10573.483333          37"
      ]
     },
     "execution_count": 180,
     "metadata": {},
     "output_type": "execute_result"
    }
   ],
   "source": [
    "selected_users = per_user_data[(per_user_data[\"game count\"] <= 210) & (per_user_data[\"game count\"] >= 30)]\n",
    "selected_users"
   ]
  },
  {
   "attachments": {},
   "cell_type": "markdown",
   "metadata": {},
   "source": [
    "The spread of the data of this trimmed group of users is slightly more balanced."
   ]
  },
  {
   "cell_type": "code",
   "execution_count": 181,
   "metadata": {},
   "outputs": [
    {
     "data": {
      "text/html": [
       "<div>\n",
       "<style scoped>\n",
       "    .dataframe tbody tr th:only-of-type {\n",
       "        vertical-align: middle;\n",
       "    }\n",
       "\n",
       "    .dataframe tbody tr th {\n",
       "        vertical-align: top;\n",
       "    }\n",
       "\n",
       "    .dataframe thead th {\n",
       "        text-align: right;\n",
       "    }\n",
       "</style>\n",
       "<table border=\"1\" class=\"dataframe\">\n",
       "  <thead>\n",
       "    <tr style=\"text-align: right;\">\n",
       "      <th></th>\n",
       "      <th>total hours played</th>\n",
       "      <th>game count</th>\n",
       "    </tr>\n",
       "  </thead>\n",
       "  <tbody>\n",
       "    <tr>\n",
       "      <th>count</th>\n",
       "      <td>36.000000</td>\n",
       "      <td>36.000000</td>\n",
       "    </tr>\n",
       "    <tr>\n",
       "      <th>mean</th>\n",
       "      <td>6926.204630</td>\n",
       "      <td>88.388889</td>\n",
       "    </tr>\n",
       "    <tr>\n",
       "      <th>std</th>\n",
       "      <td>5632.117756</td>\n",
       "      <td>53.891573</td>\n",
       "    </tr>\n",
       "    <tr>\n",
       "      <th>min</th>\n",
       "      <td>876.700000</td>\n",
       "      <td>37.000000</td>\n",
       "    </tr>\n",
       "    <tr>\n",
       "      <th>25%</th>\n",
       "      <td>3481.941667</td>\n",
       "      <td>49.750000</td>\n",
       "    </tr>\n",
       "    <tr>\n",
       "      <th>50%</th>\n",
       "      <td>5150.725000</td>\n",
       "      <td>63.000000</td>\n",
       "    </tr>\n",
       "    <tr>\n",
       "      <th>75%</th>\n",
       "      <td>8471.475000</td>\n",
       "      <td>114.500000</td>\n",
       "    </tr>\n",
       "    <tr>\n",
       "      <th>max</th>\n",
       "      <td>25310.583333</td>\n",
       "      <td>210.000000</td>\n",
       "    </tr>\n",
       "  </tbody>\n",
       "</table>\n",
       "</div>"
      ],
      "text/plain": [
       "       total hours played  game count\n",
       "count           36.000000   36.000000\n",
       "mean          6926.204630   88.388889\n",
       "std           5632.117756   53.891573\n",
       "min            876.700000   37.000000\n",
       "25%           3481.941667   49.750000\n",
       "50%           5150.725000   63.000000\n",
       "75%           8471.475000  114.500000\n",
       "max          25310.583333  210.000000"
      ]
     },
     "execution_count": 181,
     "metadata": {},
     "output_type": "execute_result"
    }
   ],
   "source": [
    "selected_users.describe()"
   ]
  },
  {
   "cell_type": "code",
   "execution_count": 182,
   "metadata": {},
   "outputs": [
    {
     "data": {
      "text/plain": [
       "<AxesSubplot:>"
      ]
     },
     "execution_count": 182,
     "metadata": {},
     "output_type": "execute_result"
    },
    {
     "data": {
      "image/png": "[encoded data removed]",
      "text/plain": [
       "<Figure size 800x600 with 1 Axes>"
      ]
     },
     "metadata": {},
     "output_type": "display_data"
    }
   ],
   "source": [
    "selected_users.boxplot(\"game count\")"
   ]
  },
  {
   "cell_type": "code",
   "execution_count": 183,
   "metadata": {},
   "outputs": [
    {
     "data": {
      "text/plain": [
       "<AxesSubplot:ylabel='game count'>"
      ]
     },
     "execution_count": 183,
     "metadata": {},
     "output_type": "execute_result"
    },
    {
     "data": {
      "image/png": "[encoded data removed]",
      "text/plain": [
       "<Figure size 800x600 with 1 Axes>"
      ]
     },
     "metadata": {},
     "output_type": "display_data"
    }
   ],
   "source": [
    "sns.violinplot(y=selected_users[\"game count\"])"
   ]
  },
  {
   "cell_type": "code",
   "execution_count": 184,
   "metadata": {},
   "outputs": [
    {
     "data": {
      "application/vnd.plotly.v1+json": {
       "config": {
        "plotlyServerURL": "https://plot.ly"
       },
       "data": [
        {
         "hovertemplate": "steamid=76561197965527053<br>total hours played=%{x}<br>game count=%{y}<extra></extra>",
         "legendgroup": "76561197965527053",
         "marker": {
          "color": "#636efa",
          "symbol": "circle"
         },
         "mode": "markers",
         "name": "76561197965527053",
         "orientation": "v",
         "showlegend": true,
         "type": "scatter",
         "x": [
          7095.933333333333
         ],
         "xaxis": "x",
         "y": [
          210
         ],
         "yaxis": "y"
        },
        {
         "hovertemplate": "steamid=76561198001262177<br>total hours played=%{x}<br>game count=%{y}<extra></extra>",
         "legendgroup": "76561198001262177",
         "marker": {
          "color": "#EF553B",
          "symbol": "circle"
         },
         "mode": "markers",
         "name": "76561198001262177",
         "orientation": "v",
         "showlegend": true,
         "type": "scatter",
         "x": [
          20687.633333333335
         ],
         "xaxis": "x",
         "y": [
          199
         ],
         "yaxis": "y"
        },
        {
         "hovertemplate": "steamid=76561198039495811<br>total hours played=%{x}<br>game count=%{y}<extra></extra>",
         "legendgroup": "76561198039495811",
         "marker": {
          "color": "#00cc96",
          "symbol": "circle"
         },
         "mode": "markers",
         "name": "76561198039495811",
         "orientation": "v",
         "showlegend": true,
         "type": "scatter",
         "x": [
          3515.383333333333
         ],
         "xaxis": "x",
         "y": [
          189
         ],
         "yaxis": "y"
        },
        {
         "hovertemplate": "steamid=76561197970738118<br>total hours played=%{x}<br>game count=%{y}<extra></extra>",
         "legendgroup": "76561197970738118",
         "marker": {
          "color": "#ab63fa",
          "symbol": "circle"
         },
         "mode": "markers",
         "name": "76561197970738118",
         "orientation": "v",
         "showlegend": true,
         "type": "scatter",
         "x": [
          7516.466666666667
         ],
         "xaxis": "x",
         "y": [
          176
         ],
         "yaxis": "y"
        },
        {
         "hovertemplate": "steamid=76561197984628526<br>total hours played=%{x}<br>game count=%{y}<extra></extra>",
         "legendgroup": "76561197984628526",
         "marker": {
          "color": "#FFA15A",
          "symbol": "circle"
         },
         "mode": "markers",
         "name": "76561197984628526",
         "orientation": "v",
         "showlegend": true,
         "type": "scatter",
         "x": [
          7802.35
         ],
         "xaxis": "x",
         "y": [
          171
         ],
         "yaxis": "y"
        },
        {
         "hovertemplate": "steamid=76561197991050584<br>total hours played=%{x}<br>game count=%{y}<extra></extra>",
         "legendgroup": "76561197991050584",
         "marker": {
          "color": "#19d3f3",
          "symbol": "circle"
         },
         "mode": "markers",
         "name": "76561197991050584",
         "orientation": "v",
         "showlegend": true,
         "type": "scatter",
         "x": [
          25310.583333333332
         ],
         "xaxis": "x",
         "y": [
          170
         ],
         "yaxis": "y"
        },
        {
         "hovertemplate": "steamid=76561198004803656<br>total hours played=%{x}<br>game count=%{y}<extra></extra>",
         "legendgroup": "76561198004803656",
         "marker": {
          "color": "#FF6692",
          "symbol": "circle"
         },
         "mode": "markers",
         "name": "76561198004803656",
         "orientation": "v",
         "showlegend": true,
         "type": "scatter",
         "x": [
          3973.2666666666664
         ],
         "xaxis": "x",
         "y": [
          165
         ],
         "yaxis": "y"
        },
        {
         "hovertemplate": "steamid=76561197970683033<br>total hours played=%{x}<br>game count=%{y}<extra></extra>",
         "legendgroup": "76561197970683033",
         "marker": {
          "color": "#B6E880",
          "symbol": "circle"
         },
         "mode": "markers",
         "name": "76561197970683033",
         "orientation": "v",
         "showlegend": true,
         "type": "scatter",
         "x": [
          4910.233333333333
         ],
         "xaxis": "x",
         "y": [
          162
         ],
         "yaxis": "y"
        },
        {
         "hovertemplate": "steamid=76561198092753159<br>total hours played=%{x}<br>game count=%{y}<extra></extra>",
         "legendgroup": "76561198092753159",
         "marker": {
          "color": "#FF97FF",
          "symbol": "circle"
         },
         "mode": "markers",
         "name": "76561198092753159",
         "orientation": "v",
         "showlegend": true,
         "type": "scatter",
         "x": [
          10418.916666666668
         ],
         "xaxis": "x",
         "y": [
          128
         ],
         "yaxis": "y"
        },
        {
         "hovertemplate": "steamid=76561197985630263<br>total hours played=%{x}<br>game count=%{y}<extra></extra>",
         "legendgroup": "76561197985630263",
         "marker": {
          "color": "#FECB52",
          "symbol": "circle"
         },
         "mode": "markers",
         "name": "76561197985630263",
         "orientation": "v",
         "showlegend": true,
         "type": "scatter",
         "x": [
          5391.216666666667
         ],
         "xaxis": "x",
         "y": [
          110
         ],
         "yaxis": "y"
        },
        {
         "hovertemplate": "steamid=76561198014848444<br>total hours played=%{x}<br>game count=%{y}<extra></extra>",
         "legendgroup": "76561198014848444",
         "marker": {
          "color": "#636efa",
          "symbol": "circle"
         },
         "mode": "markers",
         "name": "76561198014848444",
         "orientation": "v",
         "showlegend": true,
         "type": "scatter",
         "x": [
          1724.8666666666666
         ],
         "xaxis": "x",
         "y": [
          100
         ],
         "yaxis": "y"
        },
        {
         "hovertemplate": "steamid=76561197962050254<br>total hours played=%{x}<br>game count=%{y}<extra></extra>",
         "legendgroup": "76561197962050254",
         "marker": {
          "color": "#EF553B",
          "symbol": "circle"
         },
         "mode": "markers",
         "name": "76561197962050254",
         "orientation": "v",
         "showlegend": true,
         "type": "scatter",
         "x": [
          16009.7
         ],
         "xaxis": "x",
         "y": [
          86
         ],
         "yaxis": "y"
        },
        {
         "hovertemplate": "steamid=76561197993304508<br>total hours played=%{x}<br>game count=%{y}<extra></extra>",
         "legendgroup": "76561197993304508",
         "marker": {
          "color": "#00cc96",
          "symbol": "circle"
         },
         "mode": "markers",
         "name": "76561197993304508",
         "orientation": "v",
         "showlegend": true,
         "type": "scatter",
         "x": [
          3823.1833333333334
         ],
         "xaxis": "x",
         "y": [
          73
         ],
         "yaxis": "y"
        },
        {
         "hovertemplate": "steamid=76561197971034129<br>total hours played=%{x}<br>game count=%{y}<extra></extra>",
         "legendgroup": "76561197971034129",
         "marker": {
          "color": "#ab63fa",
          "symbol": "circle"
         },
         "mode": "markers",
         "name": "76561197971034129",
         "orientation": "v",
         "showlegend": true,
         "type": "scatter",
         "x": [
          18612.716666666667
         ],
         "xaxis": "x",
         "y": [
          71
         ],
         "yaxis": "y"
        },
        {
         "hovertemplate": "steamid=76561197965062542<br>total hours played=%{x}<br>game count=%{y}<extra></extra>",
         "legendgroup": "76561197965062542",
         "marker": {
          "color": "#FFA15A",
          "symbol": "circle"
         },
         "mode": "markers",
         "name": "76561197965062542",
         "orientation": "v",
         "showlegend": true,
         "type": "scatter",
         "x": [
          3586.5833333333335
         ],
         "xaxis": "x",
         "y": [
          71
         ],
         "yaxis": "y"
        },
        {
         "hovertemplate": "steamid=76561198098188285<br>total hours played=%{x}<br>game count=%{y}<extra></extra>",
         "legendgroup": "76561198098188285",
         "marker": {
          "color": "#19d3f3",
          "symbol": "circle"
         },
         "mode": "markers",
         "name": "76561198098188285",
         "orientation": "v",
         "showlegend": true,
         "type": "scatter",
         "x": [
          4442.566666666667
         ],
         "xaxis": "x",
         "y": [
          68
         ],
         "yaxis": "y"
        },
        {
         "hovertemplate": "steamid=76561197998169405<br>total hours played=%{x}<br>game count=%{y}<extra></extra>",
         "legendgroup": "76561197998169405",
         "marker": {
          "color": "#FF6692",
          "symbol": "circle"
         },
         "mode": "markers",
         "name": "76561197998169405",
         "orientation": "v",
         "showlegend": true,
         "type": "scatter",
         "x": [
          9063.75
         ],
         "xaxis": "x",
         "y": [
          65
         ],
         "yaxis": "y"
        },
        {
         "hovertemplate": "steamid=76561198037629929<br>total hours played=%{x}<br>game count=%{y}<extra></extra>",
         "legendgroup": "76561198037629929",
         "marker": {
          "color": "#B6E880",
          "symbol": "circle"
         },
         "mode": "markers",
         "name": "76561198037629929",
         "orientation": "v",
         "showlegend": true,
         "type": "scatter",
         "x": [
          6954.433333333333
         ],
         "xaxis": "x",
         "y": [
          64
         ],
         "yaxis": "y"
        },
        {
         "hovertemplate": "steamid=76561198004670799<br>total hours played=%{x}<br>game count=%{y}<extra></extra>",
         "legendgroup": "76561198004670799",
         "marker": {
          "color": "#FF97FF",
          "symbol": "circle"
         },
         "mode": "markers",
         "name": "76561198004670799",
         "orientation": "v",
         "showlegend": true,
         "type": "scatter",
         "x": [
          3381.616666666667
         ],
         "xaxis": "x",
         "y": [
          62
         ],
         "yaxis": "y"
        },
        {
         "hovertemplate": "steamid=76561198056613809<br>total hours played=%{x}<br>game count=%{y}<extra></extra>",
         "legendgroup": "76561198056613809",
         "marker": {
          "color": "#FECB52",
          "symbol": "circle"
         },
         "mode": "markers",
         "name": "76561198056613809",
         "orientation": "v",
         "showlegend": true,
         "type": "scatter",
         "x": [
          1555.35
         ],
         "xaxis": "x",
         "y": [
          61
         ],
         "yaxis": "y"
        },
        {
         "hovertemplate": "steamid=76561197998488829<br>total hours played=%{x}<br>game count=%{y}<extra></extra>",
         "legendgroup": "76561197998488829",
         "marker": {
          "color": "#636efa",
          "symbol": "circle"
         },
         "mode": "markers",
         "name": "76561197998488829",
         "orientation": "v",
         "showlegend": true,
         "type": "scatter",
         "x": [
          8274.05
         ],
         "xaxis": "x",
         "y": [
          60
         ],
         "yaxis": "y"
        },
        {
         "hovertemplate": "steamid=76561198084453258<br>total hours played=%{x}<br>game count=%{y}<extra></extra>",
         "legendgroup": "76561198084453258",
         "marker": {
          "color": "#EF553B",
          "symbol": "circle"
         },
         "mode": "markers",
         "name": "76561198084453258",
         "orientation": "v",
         "showlegend": true,
         "type": "scatter",
         "x": [
          4155.666666666666
         ],
         "xaxis": "x",
         "y": [
          60
         ],
         "yaxis": "y"
        },
        {
         "hovertemplate": "steamid=76561198010430483<br>total hours played=%{x}<br>game count=%{y}<extra></extra>",
         "legendgroup": "76561198010430483",
         "marker": {
          "color": "#00cc96",
          "symbol": "circle"
         },
         "mode": "markers",
         "name": "76561198010430483",
         "orientation": "v",
         "showlegend": true,
         "type": "scatter",
         "x": [
          5857.466666666666
         ],
         "xaxis": "x",
         "y": [
          59
         ],
         "yaxis": "y"
        },
        {
         "hovertemplate": "steamid=76561198024567076<br>total hours played=%{x}<br>game count=%{y}<extra></extra>",
         "legendgroup": "76561198024567076",
         "marker": {
          "color": "#ab63fa",
          "symbol": "circle"
         },
         "mode": "markers",
         "name": "76561198024567076",
         "orientation": "v",
         "showlegend": true,
         "type": "scatter",
         "x": [
          1221.9666666666667
         ],
         "xaxis": "x",
         "y": [
          58
         ],
         "yaxis": "y"
        },
        {
         "hovertemplate": "steamid=76561197969494473<br>total hours played=%{x}<br>game count=%{y}<extra></extra>",
         "legendgroup": "76561197969494473",
         "marker": {
          "color": "#FFA15A",
          "symbol": "circle"
         },
         "mode": "markers",
         "name": "76561197969494473",
         "orientation": "v",
         "showlegend": true,
         "type": "scatter",
         "x": [
          11026.116666666665
         ],
         "xaxis": "x",
         "y": [
          56
         ],
         "yaxis": "y"
        },
        {
         "hovertemplate": "steamid=76561197961124929<br>total hours played=%{x}<br>game count=%{y}<extra></extra>",
         "legendgroup": "76561197961124929",
         "marker": {
          "color": "#19d3f3",
          "symbol": "circle"
         },
         "mode": "markers",
         "name": "76561197961124929",
         "orientation": "v",
         "showlegend": true,
         "type": "scatter",
         "x": [
          4303.316666666667
         ],
         "xaxis": "x",
         "y": [
          54
         ],
         "yaxis": "y"
        },
        {
         "hovertemplate": "steamid=76561198062672788<br>total hours played=%{x}<br>game count=%{y}<extra></extra>",
         "legendgroup": "76561198062672788",
         "marker": {
          "color": "#FF6692",
          "symbol": "circle"
         },
         "mode": "markers",
         "name": "76561198062672788",
         "orientation": "v",
         "showlegend": true,
         "type": "scatter",
         "x": [
          8053.016666666666
         ],
         "xaxis": "x",
         "y": [
          50
         ],
         "yaxis": "y"
        },
        {
         "hovertemplate": "steamid=76561198064970505<br>total hours played=%{x}<br>game count=%{y}<extra></extra>",
         "legendgroup": "76561198064970505",
         "marker": {
          "color": "#B6E880",
          "symbol": "circle"
         },
         "mode": "markers",
         "name": "76561198064970505",
         "orientation": "v",
         "showlegend": true,
         "type": "scatter",
         "x": [
          1439.6833333333334
         ],
         "xaxis": "x",
         "y": [
          49
         ],
         "yaxis": "y"
        },
        {
         "hovertemplate": "steamid=76561198046933197<br>total hours played=%{x}<br>game count=%{y}<extra></extra>",
         "legendgroup": "76561198046933197",
         "marker": {
          "color": "#FF97FF",
          "symbol": "circle"
         },
         "mode": "markers",
         "name": "76561198046933197",
         "orientation": "v",
         "showlegend": true,
         "type": "scatter",
         "x": [
          4460.383333333333
         ],
         "xaxis": "x",
         "y": [
          46
         ],
         "yaxis": "y"
        },
        {
         "hovertemplate": "steamid=76561197966467800<br>total hours played=%{x}<br>game count=%{y}<extra></extra>",
         "legendgroup": "76561197966467800",
         "marker": {
          "color": "#FECB52",
          "symbol": "circle"
         },
         "mode": "markers",
         "name": "76561197966467800",
         "orientation": "v",
         "showlegend": true,
         "type": "scatter",
         "x": [
          2392.4666666666667
         ],
         "xaxis": "x",
         "y": [
          45
         ],
         "yaxis": "y"
        },
        {
         "hovertemplate": "steamid=76561197994644797<br>total hours played=%{x}<br>game count=%{y}<extra></extra>",
         "legendgroup": "76561197994644797",
         "marker": {
          "color": "#636efa",
          "symbol": "circle"
         },
         "mode": "markers",
         "name": "76561197994644797",
         "orientation": "v",
         "showlegend": true,
         "type": "scatter",
         "x": [
          10021.083333333334
         ],
         "xaxis": "x",
         "y": [
          43
         ],
         "yaxis": "y"
        },
        {
         "hovertemplate": "steamid=76561197971405841<br>total hours played=%{x}<br>game count=%{y}<extra></extra>",
         "legendgroup": "76561197971405841",
         "marker": {
          "color": "#EF553B",
          "symbol": "circle"
         },
         "mode": "markers",
         "name": "76561197971405841",
         "orientation": "v",
         "showlegend": true,
         "type": "scatter",
         "x": [
          5754.950000000001
         ],
         "xaxis": "x",
         "y": [
          43
         ],
         "yaxis": "y"
        },
        {
         "hovertemplate": "steamid=76561198040564894<br>total hours played=%{x}<br>game count=%{y}<extra></extra>",
         "legendgroup": "76561198040564894",
         "marker": {
          "color": "#00cc96",
          "symbol": "circle"
         },
         "mode": "markers",
         "name": "76561198040564894",
         "orientation": "v",
         "showlegend": true,
         "type": "scatter",
         "x": [
          2305.9333333333334
         ],
         "xaxis": "x",
         "y": [
          42
         ],
         "yaxis": "y"
        },
        {
         "hovertemplate": "steamid=76561197967711211<br>total hours played=%{x}<br>game count=%{y}<extra></extra>",
         "legendgroup": "76561197967711211",
         "marker": {
          "color": "#ab63fa",
          "symbol": "circle"
         },
         "mode": "markers",
         "name": "76561197967711211",
         "orientation": "v",
         "showlegend": true,
         "type": "scatter",
         "x": [
          2850.333333333333
         ],
         "xaxis": "x",
         "y": [
          41
         ],
         "yaxis": "y"
        },
        {
         "hovertemplate": "steamid=76561198070349294<br>total hours played=%{x}<br>game count=%{y}<extra></extra>",
         "legendgroup": "76561198070349294",
         "marker": {
          "color": "#FFA15A",
          "symbol": "circle"
         },
         "mode": "markers",
         "name": "76561198070349294",
         "orientation": "v",
         "showlegend": true,
         "type": "scatter",
         "x": [
          876.7
         ],
         "xaxis": "x",
         "y": [
          38
         ],
         "yaxis": "y"
        },
        {
         "hovertemplate": "steamid=76561198071648512<br>total hours played=%{x}<br>game count=%{y}<extra></extra>",
         "legendgroup": "76561198071648512",
         "marker": {
          "color": "#19d3f3",
          "symbol": "circle"
         },
         "mode": "markers",
         "name": "76561198071648512",
         "orientation": "v",
         "showlegend": true,
         "type": "scatter",
         "x": [
          10573.483333333334
         ],
         "xaxis": "x",
         "y": [
          37
         ],
         "yaxis": "y"
        }
       ],
       "layout": {
        "legend": {
         "title": {
          "text": "steamid"
         },
         "tracegroupgap": 0
        },
        "template": {
         "data": {
          "bar": [
           {
            "error_x": {
             "color": "#2a3f5f"
            },
            "error_y": {
             "color": "#2a3f5f"
            },
            "marker": {
             "line": {
              "color": "#E5ECF6",
              "width": 0.5
             },
             "pattern": {
              "fillmode": "overlay",
              "size": 10,
              "solidity": 0.2
             }
            },
            "type": "bar"
           }
          ],
          "barpolar": [
           {
            "marker": {
             "line": {
              "color": "#E5ECF6",
              "width": 0.5
             },
             "pattern": {
              "fillmode": "overlay",
              "size": 10,
              "solidity": 0.2
             }
            },
            "type": "barpolar"
           }
          ],
          "carpet": [
           {
            "aaxis": {
             "endlinecolor": "#2a3f5f",
             "gridcolor": "white",
             "linecolor": "white",
             "minorgridcolor": "white",
             "startlinecolor": "#2a3f5f"
            },
            "baxis": {
             "endlinecolor": "#2a3f5f",
             "gridcolor": "white",
             "linecolor": "white",
             "minorgridcolor": "white",
             "startlinecolor": "#2a3f5f"
            },
            "type": "carpet"
           }
          ],
          "choropleth": [
           {
            "colorbar": {
             "outlinewidth": 0,
             "ticks": ""
            },
            "type": "choropleth"
           }
          ],
          "contour": [
           {
            "colorbar": {
             "outlinewidth": 0,
             "ticks": ""
            },
            "colorscale": [
             [
              0,
              "#0d0887"
             ],
             [
              0.1111111111111111,
              "#46039f"
             ],
             [
              0.2222222222222222,
              "#7201a8"
             ],
             [
              0.3333333333333333,
              "#9c179e"
             ],
             [
              0.4444444444444444,
              "#bd3786"
             ],
             [
              0.5555555555555556,
              "#d8576b"
             ],
             [
              0.6666666666666666,
              "#ed7953"
             ],
             [
              0.7777777777777778,
              "#fb9f3a"
             ],
             [
              0.8888888888888888,
              "#fdca26"
             ],
             [
              1,
              "#f0f921"
             ]
            ],
            "type": "contour"
           }
          ],
          "contourcarpet": [
           {
            "colorbar": {
             "outlinewidth": 0,
             "ticks": ""
            },
            "type": "contourcarpet"
           }
          ],
          "heatmap": [
           {
            "colorbar": {
             "outlinewidth": 0,
             "ticks": ""
            },
            "colorscale": [
             [
              0,
              "#0d0887"
             ],
             [
              0.1111111111111111,
              "#46039f"
             ],
             [
              0.2222222222222222,
              "#7201a8"
             ],
             [
              0.3333333333333333,
              "#9c179e"
             ],
             [
              0.4444444444444444,
              "#bd3786"
             ],
             [
              0.5555555555555556,
              "#d8576b"
             ],
             [
              0.6666666666666666,
              "#ed7953"
             ],
             [
              0.7777777777777778,
              "#fb9f3a"
             ],
             [
              0.8888888888888888,
              "#fdca26"
             ],
             [
              1,
              "#f0f921"
             ]
            ],
            "type": "heatmap"
           }
          ],
          "heatmapgl": [
           {
            "colorbar": {
             "outlinewidth": 0,
             "ticks": ""
            },
            "colorscale": [
             [
              0,
              "#0d0887"
             ],
             [
              0.1111111111111111,
              "#46039f"
             ],
             [
              0.2222222222222222,
              "#7201a8"
             ],
             [
              0.3333333333333333,
              "#9c179e"
             ],
             [
              0.4444444444444444,
              "#bd3786"
             ],
             [
              0.5555555555555556,
              "#d8576b"
             ],
             [
              0.6666666666666666,
              "#ed7953"
             ],
             [
              0.7777777777777778,
              "#fb9f3a"
             ],
             [
              0.8888888888888888,
              "#fdca26"
             ],
             [
              1,
              "#f0f921"
             ]
            ],
            "type": "heatmapgl"
           }
          ],
          "histogram": [
           {
            "marker": {
             "pattern": {
              "fillmode": "overlay",
              "size": 10,
              "solidity": 0.2
             }
            },
            "type": "histogram"
           }
          ],
          "histogram2d": [
           {
            "colorbar": {
             "outlinewidth": 0,
             "ticks": ""
            },
            "colorscale": [
             [
              0,
              "#0d0887"
             ],
             [
              0.1111111111111111,
              "#46039f"
             ],
             [
              0.2222222222222222,
              "#7201a8"
             ],
             [
              0.3333333333333333,
              "#9c179e"
             ],
             [
              0.4444444444444444,
              "#bd3786"
             ],
             [
              0.5555555555555556,
              "#d8576b"
             ],
             [
              0.6666666666666666,
              "#ed7953"
             ],
             [
              0.7777777777777778,
              "#fb9f3a"
             ],
             [
              0.8888888888888888,
              "#fdca26"
             ],
             [
              1,
              "#f0f921"
             ]
            ],
            "type": "histogram2d"
           }
          ],
          "histogram2dcontour": [
           {
            "colorbar": {
             "outlinewidth": 0,
             "ticks": ""
            },
            "colorscale": [
             [
              0,
              "#0d0887"
             ],
             [
              0.1111111111111111,
              "#46039f"
             ],
             [
              0.2222222222222222,
              "#7201a8"
             ],
             [
              0.3333333333333333,
              "#9c179e"
             ],
             [
              0.4444444444444444,
              "#bd3786"
             ],
             [
              0.5555555555555556,
              "#d8576b"
             ],
             [
              0.6666666666666666,
              "#ed7953"
             ],
             [
              0.7777777777777778,
              "#fb9f3a"
             ],
             [
              0.8888888888888888,
              "#fdca26"
             ],
             [
              1,
              "#f0f921"
             ]
            ],
            "type": "histogram2dcontour"
           }
          ],
          "mesh3d": [
           {
            "colorbar": {
             "outlinewidth": 0,
             "ticks": ""
            },
            "type": "mesh3d"
           }
          ],
          "parcoords": [
           {
            "line": {
             "colorbar": {
              "outlinewidth": 0,
              "ticks": ""
             }
            },
            "type": "parcoords"
           }
          ],
          "pie": [
           {
            "automargin": true,
            "type": "pie"
           }
          ],
          "scatter": [
           {
            "fillpattern": {
             "fillmode": "overlay",
             "size": 10,
             "solidity": 0.2
            },
            "type": "scatter"
           }
          ],
          "scatter3d": [
           {
            "line": {
             "colorbar": {
              "outlinewidth": 0,
              "ticks": ""
             }
            },
            "marker": {
             "colorbar": {
              "outlinewidth": 0,
              "ticks": ""
             }
            },
            "type": "scatter3d"
           }
          ],
          "scattercarpet": [
           {
            "marker": {
             "colorbar": {
              "outlinewidth": 0,
              "ticks": ""
             }
            },
            "type": "scattercarpet"
           }
          ],
          "scattergeo": [
           {
            "marker": {
             "colorbar": {
              "outlinewidth": 0,
              "ticks": ""
             }
            },
            "type": "scattergeo"
           }
          ],
          "scattergl": [
           {
            "marker": {
             "colorbar": {
              "outlinewidth": 0,
              "ticks": ""
             }
            },
            "type": "scattergl"
           }
          ],
          "scattermapbox": [
           {
            "marker": {
             "colorbar": {
              "outlinewidth": 0,
              "ticks": ""
             }
            },
            "type": "scattermapbox"
           }
          ],
          "scatterpolar": [
           {
            "marker": {
             "colorbar": {
              "outlinewidth": 0,
              "ticks": ""
             }
            },
            "type": "scatterpolar"
           }
          ],
          "scatterpolargl": [
           {
            "marker": {
             "colorbar": {
              "outlinewidth": 0,
              "ticks": ""
             }
            },
            "type": "scatterpolargl"
           }
          ],
          "scatterternary": [
           {
            "marker": {
             "colorbar": {
              "outlinewidth": 0,
              "ticks": ""
             }
            },
            "type": "scatterternary"
           }
          ],
          "surface": [
           {
            "colorbar": {
             "outlinewidth": 0,
             "ticks": ""
            },
            "colorscale": [
             [
              0,
              "#0d0887"
             ],
             [
              0.1111111111111111,
              "#46039f"
             ],
             [
              0.2222222222222222,
              "#7201a8"
             ],
             [
              0.3333333333333333,
              "#9c179e"
             ],
             [
              0.4444444444444444,
              "#bd3786"
             ],
             [
              0.5555555555555556,
              "#d8576b"
             ],
             [
              0.6666666666666666,
              "#ed7953"
             ],
             [
              0.7777777777777778,
              "#fb9f3a"
             ],
             [
              0.8888888888888888,
              "#fdca26"
             ],
             [
              1,
              "#f0f921"
             ]
            ],
            "type": "surface"
           }
          ],
          "table": [
           {
            "cells": {
             "fill": {
              "color": "#EBF0F8"
             },
             "line": {
              "color": "white"
             }
            },
            "header": {
             "fill": {
              "color": "#C8D4E3"
             },
             "line": {
              "color": "white"
             }
            },
            "type": "table"
           }
          ]
         },
         "layout": {
          "annotationdefaults": {
           "arrowcolor": "#2a3f5f",
           "arrowhead": 0,
           "arrowwidth": 1
          },
          "autotypenumbers": "strict",
          "coloraxis": {
           "colorbar": {
            "outlinewidth": 0,
            "ticks": ""
           }
          },
          "colorscale": {
           "diverging": [
            [
             0,
             "#8e0152"
            ],
            [
             0.1,
             "#c51b7d"
            ],
            [
             0.2,
             "#de77ae"
            ],
            [
             0.3,
             "#f1b6da"
            ],
            [
             0.4,
             "#fde0ef"
            ],
            [
             0.5,
             "#f7f7f7"
            ],
            [
             0.6,
             "#e6f5d0"
            ],
            [
             0.7,
             "#b8e186"
            ],
            [
             0.8,
             "#7fbc41"
            ],
            [
             0.9,
             "#4d9221"
            ],
            [
             1,
             "#276419"
            ]
           ],
           "sequential": [
            [
             0,
             "#0d0887"
            ],
            [
             0.1111111111111111,
             "#46039f"
            ],
            [
             0.2222222222222222,
             "#7201a8"
            ],
            [
             0.3333333333333333,
             "#9c179e"
            ],
            [
             0.4444444444444444,
             "#bd3786"
            ],
            [
             0.5555555555555556,
             "#d8576b"
            ],
            [
             0.6666666666666666,
             "#ed7953"
            ],
            [
             0.7777777777777778,
             "#fb9f3a"
            ],
            [
             0.8888888888888888,
             "#fdca26"
            ],
            [
             1,
             "#f0f921"
            ]
           ],
           "sequentialminus": [
            [
             0,
             "#0d0887"
            ],
            [
             0.1111111111111111,
             "#46039f"
            ],
            [
             0.2222222222222222,
             "#7201a8"
            ],
            [
             0.3333333333333333,
             "#9c179e"
            ],
            [
             0.4444444444444444,
             "#bd3786"
            ],
            [
             0.5555555555555556,
             "#d8576b"
            ],
            [
             0.6666666666666666,
             "#ed7953"
            ],
            [
             0.7777777777777778,
             "#fb9f3a"
            ],
            [
             0.8888888888888888,
             "#fdca26"
            ],
            [
             1,
             "#f0f921"
            ]
           ]
          },
          "colorway": [
           "#636efa",
           "#EF553B",
           "#00cc96",
           "#ab63fa",
           "#FFA15A",
           "#19d3f3",
           "#FF6692",
           "#B6E880",
           "#FF97FF",
           "#FECB52"
          ],
          "font": {
           "color": "#2a3f5f"
          },
          "geo": {
           "bgcolor": "white",
           "lakecolor": "white",
           "landcolor": "#E5ECF6",
           "showlakes": true,
           "showland": true,
           "subunitcolor": "white"
          },
          "hoverlabel": {
           "align": "left"
          },
          "hovermode": "closest",
          "mapbox": {
           "style": "light"
          },
          "paper_bgcolor": "white",
          "plot_bgcolor": "#E5ECF6",
          "polar": {
           "angularaxis": {
            "gridcolor": "white",
            "linecolor": "white",
            "ticks": ""
           },
           "bgcolor": "#E5ECF6",
           "radialaxis": {
            "gridcolor": "white",
            "linecolor": "white",
            "ticks": ""
           }
          },
          "scene": {
           "xaxis": {
            "backgroundcolor": "#E5ECF6",
            "gridcolor": "white",
            "gridwidth": 2,
            "linecolor": "white",
            "showbackground": true,
            "ticks": "",
            "zerolinecolor": "white"
           },
           "yaxis": {
            "backgroundcolor": "#E5ECF6",
            "gridcolor": "white",
            "gridwidth": 2,
            "linecolor": "white",
            "showbackground": true,
            "ticks": "",
            "zerolinecolor": "white"
           },
           "zaxis": {
            "backgroundcolor": "#E5ECF6",
            "gridcolor": "white",
            "gridwidth": 2,
            "linecolor": "white",
            "showbackground": true,
            "ticks": "",
            "zerolinecolor": "white"
           }
          },
          "shapedefaults": {
           "line": {
            "color": "#2a3f5f"
           }
          },
          "ternary": {
           "aaxis": {
            "gridcolor": "white",
            "linecolor": "white",
            "ticks": ""
           },
           "baxis": {
            "gridcolor": "white",
            "linecolor": "white",
            "ticks": ""
           },
           "bgcolor": "#E5ECF6",
           "caxis": {
            "gridcolor": "white",
            "linecolor": "white",
            "ticks": ""
           }
          },
          "title": {
           "x": 0.05
          },
          "xaxis": {
           "automargin": true,
           "gridcolor": "white",
           "linecolor": "white",
           "ticks": "",
           "title": {
            "standoff": 15
           },
           "zerolinecolor": "white",
           "zerolinewidth": 2
          },
          "yaxis": {
           "automargin": true,
           "gridcolor": "white",
           "linecolor": "white",
           "ticks": "",
           "title": {
            "standoff": 15
           },
           "zerolinecolor": "white",
           "zerolinewidth": 2
          }
         }
        },
        "title": {
         "text": "Scatter plot of total hours played and games played per user (playtime > 0)"
        },
        "xaxis": {
         "anchor": "y",
         "domain": [
          0,
          1
         ],
         "title": {
          "text": "total hours played"
         }
        },
        "yaxis": {
         "anchor": "x",
         "domain": [
          0,
          1
         ],
         "title": {
          "text": "game count"
         }
        }
       }
      }
     },
     "metadata": {},
     "output_type": "display_data"
    }
   ],
   "source": [
    "fig = px.scatter(selected_users, x=\"total hours played\", y=\"game count\",color=\"steamid\",title=\"Scatter plot of total hours played and games played per user (playtime > 0)\")\n",
    "fig.show()"
   ]
  },
  {
   "cell_type": "code",
   "execution_count": 185,
   "metadata": {},
   "outputs": [
    {
     "data": {
      "application/vnd.plotly.v1+json": {
       "config": {
        "plotlyServerURL": "https://plot.ly"
       },
       "data": [
        {
         "alignmentgroup": "True",
         "hovertemplate": "steamid=%{x}<br>game count=%{y}<extra></extra>",
         "legendgroup": "76561197965527053",
         "marker": {
          "color": "#636efa",
          "pattern": {
           "shape": ""
          }
         },
         "name": "76561197965527053",
         "offsetgroup": "76561197965527053",
         "orientation": "v",
         "showlegend": true,
         "textposition": "auto",
         "texttemplate": "%{y}",
         "type": "bar",
         "x": [
          "76561197965527053"
         ],
         "xaxis": "x",
         "y": [
          210
         ],
         "yaxis": "y"
        },
        {
         "alignmentgroup": "True",
         "hovertemplate": "steamid=%{x}<br>game count=%{y}<extra></extra>",
         "legendgroup": "76561198001262177",
         "marker": {
          "color": "#EF553B",
          "pattern": {
           "shape": ""
          }
         },
         "name": "76561198001262177",
         "offsetgroup": "76561198001262177",
         "orientation": "v",
         "showlegend": true,
         "textposition": "auto",
         "texttemplate": "%{y}",
         "type": "bar",
         "x": [
          "76561198001262177"
         ],
         "xaxis": "x",
         "y": [
          199
         ],
         "yaxis": "y"
        },
        {
         "alignmentgroup": "True",
         "hovertemplate": "steamid=%{x}<br>game count=%{y}<extra></extra>",
         "legendgroup": "76561198039495811",
         "marker": {
          "color": "#00cc96",
          "pattern": {
           "shape": ""
          }
         },
         "name": "76561198039495811",
         "offsetgroup": "76561198039495811",
         "orientation": "v",
         "showlegend": true,
         "textposition": "auto",
         "texttemplate": "%{y}",
         "type": "bar",
         "x": [
          "76561198039495811"
         ],
         "xaxis": "x",
         "y": [
          189
         ],
         "yaxis": "y"
        },
        {
         "alignmentgroup": "True",
         "hovertemplate": "steamid=%{x}<br>game count=%{y}<extra></extra>",
         "legendgroup": "76561197970738118",
         "marker": {
          "color": "#ab63fa",
          "pattern": {
           "shape": ""
          }
         },
         "name": "76561197970738118",
         "offsetgroup": "76561197970738118",
         "orientation": "v",
         "showlegend": true,
         "textposition": "auto",
         "texttemplate": "%{y}",
         "type": "bar",
         "x": [
          "76561197970738118"
         ],
         "xaxis": "x",
         "y": [
          176
         ],
         "yaxis": "y"
        },
        {
         "alignmentgroup": "True",
         "hovertemplate": "steamid=%{x}<br>game count=%{y}<extra></extra>",
         "legendgroup": "76561197984628526",
         "marker": {
          "color": "#FFA15A",
          "pattern": {
           "shape": ""
          }
         },
         "name": "76561197984628526",
         "offsetgroup": "76561197984628526",
         "orientation": "v",
         "showlegend": true,
         "textposition": "auto",
         "texttemplate": "%{y}",
         "type": "bar",
         "x": [
          "76561197984628526"
         ],
         "xaxis": "x",
         "y": [
          171
         ],
         "yaxis": "y"
        },
        {
         "alignmentgroup": "True",
         "hovertemplate": "steamid=%{x}<br>game count=%{y}<extra></extra>",
         "legendgroup": "76561197991050584",
         "marker": {
          "color": "#19d3f3",
          "pattern": {
           "shape": ""
          }
         },
         "name": "76561197991050584",
         "offsetgroup": "76561197991050584",
         "orientation": "v",
         "showlegend": true,
         "textposition": "auto",
         "texttemplate": "%{y}",
         "type": "bar",
         "x": [
          "76561197991050584"
         ],
         "xaxis": "x",
         "y": [
          170
         ],
         "yaxis": "y"
        },
        {
         "alignmentgroup": "True",
         "hovertemplate": "steamid=%{x}<br>game count=%{y}<extra></extra>",
         "legendgroup": "76561198004803656",
         "marker": {
          "color": "#FF6692",
          "pattern": {
           "shape": ""
          }
         },
         "name": "76561198004803656",
         "offsetgroup": "76561198004803656",
         "orientation": "v",
         "showlegend": true,
         "textposition": "auto",
         "texttemplate": "%{y}",
         "type": "bar",
         "x": [
          "76561198004803656"
         ],
         "xaxis": "x",
         "y": [
          165
         ],
         "yaxis": "y"
        },
        {
         "alignmentgroup": "True",
         "hovertemplate": "steamid=%{x}<br>game count=%{y}<extra></extra>",
         "legendgroup": "76561197970683033",
         "marker": {
          "color": "#B6E880",
          "pattern": {
           "shape": ""
          }
         },
         "name": "76561197970683033",
         "offsetgroup": "76561197970683033",
         "orientation": "v",
         "showlegend": true,
         "textposition": "auto",
         "texttemplate": "%{y}",
         "type": "bar",
         "x": [
          "76561197970683033"
         ],
         "xaxis": "x",
         "y": [
          162
         ],
         "yaxis": "y"
        },
        {
         "alignmentgroup": "True",
         "hovertemplate": "steamid=%{x}<br>game count=%{y}<extra></extra>",
         "legendgroup": "76561198092753159",
         "marker": {
          "color": "#FF97FF",
          "pattern": {
           "shape": ""
          }
         },
         "name": "76561198092753159",
         "offsetgroup": "76561198092753159",
         "orientation": "v",
         "showlegend": true,
         "textposition": "auto",
         "texttemplate": "%{y}",
         "type": "bar",
         "x": [
          "76561198092753159"
         ],
         "xaxis": "x",
         "y": [
          128
         ],
         "yaxis": "y"
        },
        {
         "alignmentgroup": "True",
         "hovertemplate": "steamid=%{x}<br>game count=%{y}<extra></extra>",
         "legendgroup": "76561197985630263",
         "marker": {
          "color": "#FECB52",
          "pattern": {
           "shape": ""
          }
         },
         "name": "76561197985630263",
         "offsetgroup": "76561197985630263",
         "orientation": "v",
         "showlegend": true,
         "textposition": "auto",
         "texttemplate": "%{y}",
         "type": "bar",
         "x": [
          "76561197985630263"
         ],
         "xaxis": "x",
         "y": [
          110
         ],
         "yaxis": "y"
        },
        {
         "alignmentgroup": "True",
         "hovertemplate": "steamid=%{x}<br>game count=%{y}<extra></extra>",
         "legendgroup": "76561198014848444",
         "marker": {
          "color": "#636efa",
          "pattern": {
           "shape": ""
          }
         },
         "name": "76561198014848444",
         "offsetgroup": "76561198014848444",
         "orientation": "v",
         "showlegend": true,
         "textposition": "auto",
         "texttemplate": "%{y}",
         "type": "bar",
         "x": [
          "76561198014848444"
         ],
         "xaxis": "x",
         "y": [
          100
         ],
         "yaxis": "y"
        },
        {
         "alignmentgroup": "True",
         "hovertemplate": "steamid=%{x}<br>game count=%{y}<extra></extra>",
         "legendgroup": "76561197962050254",
         "marker": {
          "color": "#EF553B",
          "pattern": {
           "shape": ""
          }
         },
         "name": "76561197962050254",
         "offsetgroup": "76561197962050254",
         "orientation": "v",
         "showlegend": true,
         "textposition": "auto",
         "texttemplate": "%{y}",
         "type": "bar",
         "x": [
          "76561197962050254"
         ],
         "xaxis": "x",
         "y": [
          86
         ],
         "yaxis": "y"
        },
        {
         "alignmentgroup": "True",
         "hovertemplate": "steamid=%{x}<br>game count=%{y}<extra></extra>",
         "legendgroup": "76561197993304508",
         "marker": {
          "color": "#00cc96",
          "pattern": {
           "shape": ""
          }
         },
         "name": "76561197993304508",
         "offsetgroup": "76561197993304508",
         "orientation": "v",
         "showlegend": true,
         "textposition": "auto",
         "texttemplate": "%{y}",
         "type": "bar",
         "x": [
          "76561197993304508"
         ],
         "xaxis": "x",
         "y": [
          73
         ],
         "yaxis": "y"
        },
        {
         "alignmentgroup": "True",
         "hovertemplate": "steamid=%{x}<br>game count=%{y}<extra></extra>",
         "legendgroup": "76561197971034129",
         "marker": {
          "color": "#ab63fa",
          "pattern": {
           "shape": ""
          }
         },
         "name": "76561197971034129",
         "offsetgroup": "76561197971034129",
         "orientation": "v",
         "showlegend": true,
         "textposition": "auto",
         "texttemplate": "%{y}",
         "type": "bar",
         "x": [
          "76561197971034129"
         ],
         "xaxis": "x",
         "y": [
          71
         ],
         "yaxis": "y"
        },
        {
         "alignmentgroup": "True",
         "hovertemplate": "steamid=%{x}<br>game count=%{y}<extra></extra>",
         "legendgroup": "76561197965062542",
         "marker": {
          "color": "#FFA15A",
          "pattern": {
           "shape": ""
          }
         },
         "name": "76561197965062542",
         "offsetgroup": "76561197965062542",
         "orientation": "v",
         "showlegend": true,
         "textposition": "auto",
         "texttemplate": "%{y}",
         "type": "bar",
         "x": [
          "76561197965062542"
         ],
         "xaxis": "x",
         "y": [
          71
         ],
         "yaxis": "y"
        },
        {
         "alignmentgroup": "True",
         "hovertemplate": "steamid=%{x}<br>game count=%{y}<extra></extra>",
         "legendgroup": "76561198098188285",
         "marker": {
          "color": "#19d3f3",
          "pattern": {
           "shape": ""
          }
         },
         "name": "76561198098188285",
         "offsetgroup": "76561198098188285",
         "orientation": "v",
         "showlegend": true,
         "textposition": "auto",
         "texttemplate": "%{y}",
         "type": "bar",
         "x": [
          "76561198098188285"
         ],
         "xaxis": "x",
         "y": [
          68
         ],
         "yaxis": "y"
        },
        {
         "alignmentgroup": "True",
         "hovertemplate": "steamid=%{x}<br>game count=%{y}<extra></extra>",
         "legendgroup": "76561197998169405",
         "marker": {
          "color": "#FF6692",
          "pattern": {
           "shape": ""
          }
         },
         "name": "76561197998169405",
         "offsetgroup": "76561197998169405",
         "orientation": "v",
         "showlegend": true,
         "textposition": "auto",
         "texttemplate": "%{y}",
         "type": "bar",
         "x": [
          "76561197998169405"
         ],
         "xaxis": "x",
         "y": [
          65
         ],
         "yaxis": "y"
        },
        {
         "alignmentgroup": "True",
         "hovertemplate": "steamid=%{x}<br>game count=%{y}<extra></extra>",
         "legendgroup": "76561198037629929",
         "marker": {
          "color": "#B6E880",
          "pattern": {
           "shape": ""
          }
         },
         "name": "76561198037629929",
         "offsetgroup": "76561198037629929",
         "orientation": "v",
         "showlegend": true,
         "textposition": "auto",
         "texttemplate": "%{y}",
         "type": "bar",
         "x": [
          "76561198037629929"
         ],
         "xaxis": "x",
         "y": [
          64
         ],
         "yaxis": "y"
        },
        {
         "alignmentgroup": "True",
         "hovertemplate": "steamid=%{x}<br>game count=%{y}<extra></extra>",
         "legendgroup": "76561198004670799",
         "marker": {
          "color": "#FF97FF",
          "pattern": {
           "shape": ""
          }
         },
         "name": "76561198004670799",
         "offsetgroup": "76561198004670799",
         "orientation": "v",
         "showlegend": true,
         "textposition": "auto",
         "texttemplate": "%{y}",
         "type": "bar",
         "x": [
          "76561198004670799"
         ],
         "xaxis": "x",
         "y": [
          62
         ],
         "yaxis": "y"
        },
        {
         "alignmentgroup": "True",
         "hovertemplate": "steamid=%{x}<br>game count=%{y}<extra></extra>",
         "legendgroup": "76561198056613809",
         "marker": {
          "color": "#FECB52",
          "pattern": {
           "shape": ""
          }
         },
         "name": "76561198056613809",
         "offsetgroup": "76561198056613809",
         "orientation": "v",
         "showlegend": true,
         "textposition": "auto",
         "texttemplate": "%{y}",
         "type": "bar",
         "x": [
          "76561198056613809"
         ],
         "xaxis": "x",
         "y": [
          61
         ],
         "yaxis": "y"
        },
        {
         "alignmentgroup": "True",
         "hovertemplate": "steamid=%{x}<br>game count=%{y}<extra></extra>",
         "legendgroup": "76561197998488829",
         "marker": {
          "color": "#636efa",
          "pattern": {
           "shape": ""
          }
         },
         "name": "76561197998488829",
         "offsetgroup": "76561197998488829",
         "orientation": "v",
         "showlegend": true,
         "textposition": "auto",
         "texttemplate": "%{y}",
         "type": "bar",
         "x": [
          "76561197998488829"
         ],
         "xaxis": "x",
         "y": [
          60
         ],
         "yaxis": "y"
        },
        {
         "alignmentgroup": "True",
         "hovertemplate": "steamid=%{x}<br>game count=%{y}<extra></extra>",
         "legendgroup": "76561198084453258",
         "marker": {
          "color": "#EF553B",
          "pattern": {
           "shape": ""
          }
         },
         "name": "76561198084453258",
         "offsetgroup": "76561198084453258",
         "orientation": "v",
         "showlegend": true,
         "textposition": "auto",
         "texttemplate": "%{y}",
         "type": "bar",
         "x": [
          "76561198084453258"
         ],
         "xaxis": "x",
         "y": [
          60
         ],
         "yaxis": "y"
        },
        {
         "alignmentgroup": "True",
         "hovertemplate": "steamid=%{x}<br>game count=%{y}<extra></extra>",
         "legendgroup": "76561198010430483",
         "marker": {
          "color": "#00cc96",
          "pattern": {
           "shape": ""
          }
         },
         "name": "76561198010430483",
         "offsetgroup": "76561198010430483",
         "orientation": "v",
         "showlegend": true,
         "textposition": "auto",
         "texttemplate": "%{y}",
         "type": "bar",
         "x": [
          "76561198010430483"
         ],
         "xaxis": "x",
         "y": [
          59
         ],
         "yaxis": "y"
        },
        {
         "alignmentgroup": "True",
         "hovertemplate": "steamid=%{x}<br>game count=%{y}<extra></extra>",
         "legendgroup": "76561198024567076",
         "marker": {
          "color": "#ab63fa",
          "pattern": {
           "shape": ""
          }
         },
         "name": "76561198024567076",
         "offsetgroup": "76561198024567076",
         "orientation": "v",
         "showlegend": true,
         "textposition": "auto",
         "texttemplate": "%{y}",
         "type": "bar",
         "x": [
          "76561198024567076"
         ],
         "xaxis": "x",
         "y": [
          58
         ],
         "yaxis": "y"
        },
        {
         "alignmentgroup": "True",
         "hovertemplate": "steamid=%{x}<br>game count=%{y}<extra></extra>",
         "legendgroup": "76561197969494473",
         "marker": {
          "color": "#FFA15A",
          "pattern": {
           "shape": ""
          }
         },
         "name": "76561197969494473",
         "offsetgroup": "76561197969494473",
         "orientation": "v",
         "showlegend": true,
         "textposition": "auto",
         "texttemplate": "%{y}",
         "type": "bar",
         "x": [
          "76561197969494473"
         ],
         "xaxis": "x",
         "y": [
          56
         ],
         "yaxis": "y"
        },
        {
         "alignmentgroup": "True",
         "hovertemplate": "steamid=%{x}<br>game count=%{y}<extra></extra>",
         "legendgroup": "76561197961124929",
         "marker": {
          "color": "#19d3f3",
          "pattern": {
           "shape": ""
          }
         },
         "name": "76561197961124929",
         "offsetgroup": "76561197961124929",
         "orientation": "v",
         "showlegend": true,
         "textposition": "auto",
         "texttemplate": "%{y}",
         "type": "bar",
         "x": [
          "76561197961124929"
         ],
         "xaxis": "x",
         "y": [
          54
         ],
         "yaxis": "y"
        },
        {
         "alignmentgroup": "True",
         "hovertemplate": "steamid=%{x}<br>game count=%{y}<extra></extra>",
         "legendgroup": "76561198062672788",
         "marker": {
          "color": "#FF6692",
          "pattern": {
           "shape": ""
          }
         },
         "name": "76561198062672788",
         "offsetgroup": "76561198062672788",
         "orientation": "v",
         "showlegend": true,
         "textposition": "auto",
         "texttemplate": "%{y}",
         "type": "bar",
         "x": [
          "76561198062672788"
         ],
         "xaxis": "x",
         "y": [
          50
         ],
         "yaxis": "y"
        },
        {
         "alignmentgroup": "True",
         "hovertemplate": "steamid=%{x}<br>game count=%{y}<extra></extra>",
         "legendgroup": "76561198064970505",
         "marker": {
          "color": "#B6E880",
          "pattern": {
           "shape": ""
          }
         },
         "name": "76561198064970505",
         "offsetgroup": "76561198064970505",
         "orientation": "v",
         "showlegend": true,
         "textposition": "auto",
         "texttemplate": "%{y}",
         "type": "bar",
         "x": [
          "76561198064970505"
         ],
         "xaxis": "x",
         "y": [
          49
         ],
         "yaxis": "y"
        },
        {
         "alignmentgroup": "True",
         "hovertemplate": "steamid=%{x}<br>game count=%{y}<extra></extra>",
         "legendgroup": "76561198046933197",
         "marker": {
          "color": "#FF97FF",
          "pattern": {
           "shape": ""
          }
         },
         "name": "76561198046933197",
         "offsetgroup": "76561198046933197",
         "orientation": "v",
         "showlegend": true,
         "textposition": "auto",
         "texttemplate": "%{y}",
         "type": "bar",
         "x": [
          "76561198046933197"
         ],
         "xaxis": "x",
         "y": [
          46
         ],
         "yaxis": "y"
        },
        {
         "alignmentgroup": "True",
         "hovertemplate": "steamid=%{x}<br>game count=%{y}<extra></extra>",
         "legendgroup": "76561197966467800",
         "marker": {
          "color": "#FECB52",
          "pattern": {
           "shape": ""
          }
         },
         "name": "76561197966467800",
         "offsetgroup": "76561197966467800",
         "orientation": "v",
         "showlegend": true,
         "textposition": "auto",
         "texttemplate": "%{y}",
         "type": "bar",
         "x": [
          "76561197966467800"
         ],
         "xaxis": "x",
         "y": [
          45
         ],
         "yaxis": "y"
        },
        {
         "alignmentgroup": "True",
         "hovertemplate": "steamid=%{x}<br>game count=%{y}<extra></extra>",
         "legendgroup": "76561197994644797",
         "marker": {
          "color": "#636efa",
          "pattern": {
           "shape": ""
          }
         },
         "name": "76561197994644797",
         "offsetgroup": "76561197994644797",
         "orientation": "v",
         "showlegend": true,
         "textposition": "auto",
         "texttemplate": "%{y}",
         "type": "bar",
         "x": [
          "76561197994644797"
         ],
         "xaxis": "x",
         "y": [
          43
         ],
         "yaxis": "y"
        },
        {
         "alignmentgroup": "True",
         "hovertemplate": "steamid=%{x}<br>game count=%{y}<extra></extra>",
         "legendgroup": "76561197971405841",
         "marker": {
          "color": "#EF553B",
          "pattern": {
           "shape": ""
          }
         },
         "name": "76561197971405841",
         "offsetgroup": "76561197971405841",
         "orientation": "v",
         "showlegend": true,
         "textposition": "auto",
         "texttemplate": "%{y}",
         "type": "bar",
         "x": [
          "76561197971405841"
         ],
         "xaxis": "x",
         "y": [
          43
         ],
         "yaxis": "y"
        },
        {
         "alignmentgroup": "True",
         "hovertemplate": "steamid=%{x}<br>game count=%{y}<extra></extra>",
         "legendgroup": "76561198040564894",
         "marker": {
          "color": "#00cc96",
          "pattern": {
           "shape": ""
          }
         },
         "name": "76561198040564894",
         "offsetgroup": "76561198040564894",
         "orientation": "v",
         "showlegend": true,
         "textposition": "auto",
         "texttemplate": "%{y}",
         "type": "bar",
         "x": [
          "76561198040564894"
         ],
         "xaxis": "x",
         "y": [
          42
         ],
         "yaxis": "y"
        },
        {
         "alignmentgroup": "True",
         "hovertemplate": "steamid=%{x}<br>game count=%{y}<extra></extra>",
         "legendgroup": "76561197967711211",
         "marker": {
          "color": "#ab63fa",
          "pattern": {
           "shape": ""
          }
         },
         "name": "76561197967711211",
         "offsetgroup": "76561197967711211",
         "orientation": "v",
         "showlegend": true,
         "textposition": "auto",
         "texttemplate": "%{y}",
         "type": "bar",
         "x": [
          "76561197967711211"
         ],
         "xaxis": "x",
         "y": [
          41
         ],
         "yaxis": "y"
        },
        {
         "alignmentgroup": "True",
         "hovertemplate": "steamid=%{x}<br>game count=%{y}<extra></extra>",
         "legendgroup": "76561198070349294",
         "marker": {
          "color": "#FFA15A",
          "pattern": {
           "shape": ""
          }
         },
         "name": "76561198070349294",
         "offsetgroup": "76561198070349294",
         "orientation": "v",
         "showlegend": true,
         "textposition": "auto",
         "texttemplate": "%{y}",
         "type": "bar",
         "x": [
          "76561198070349294"
         ],
         "xaxis": "x",
         "y": [
          38
         ],
         "yaxis": "y"
        },
        {
         "alignmentgroup": "True",
         "hovertemplate": "steamid=%{x}<br>game count=%{y}<extra></extra>",
         "legendgroup": "76561198071648512",
         "marker": {
          "color": "#19d3f3",
          "pattern": {
           "shape": ""
          }
         },
         "name": "76561198071648512",
         "offsetgroup": "76561198071648512",
         "orientation": "v",
         "showlegend": true,
         "textposition": "auto",
         "texttemplate": "%{y}",
         "type": "bar",
         "x": [
          "76561198071648512"
         ],
         "xaxis": "x",
         "y": [
          37
         ],
         "yaxis": "y"
        }
       ],
       "layout": {
        "barmode": "relative",
        "legend": {
         "title": {
          "text": "steamid"
         },
         "tracegroupgap": 0
        },
        "template": {
         "data": {
          "bar": [
           {
            "error_x": {
             "color": "#2a3f5f"
            },
            "error_y": {
             "color": "#2a3f5f"
            },
            "marker": {
             "line": {
              "color": "#E5ECF6",
              "width": 0.5
             },
             "pattern": {
              "fillmode": "overlay",
              "size": 10,
              "solidity": 0.2
             }
            },
            "type": "bar"
           }
          ],
          "barpolar": [
           {
            "marker": {
             "line": {
              "color": "#E5ECF6",
              "width": 0.5
             },
             "pattern": {
              "fillmode": "overlay",
              "size": 10,
              "solidity": 0.2
             }
            },
            "type": "barpolar"
           }
          ],
          "carpet": [
           {
            "aaxis": {
             "endlinecolor": "#2a3f5f",
             "gridcolor": "white",
             "linecolor": "white",
             "minorgridcolor": "white",
             "startlinecolor": "#2a3f5f"
            },
            "baxis": {
             "endlinecolor": "#2a3f5f",
             "gridcolor": "white",
             "linecolor": "white",
             "minorgridcolor": "white",
             "startlinecolor": "#2a3f5f"
            },
            "type": "carpet"
           }
          ],
          "choropleth": [
           {
            "colorbar": {
             "outlinewidth": 0,
             "ticks": ""
            },
            "type": "choropleth"
           }
          ],
          "contour": [
           {
            "colorbar": {
             "outlinewidth": 0,
             "ticks": ""
            },
            "colorscale": [
             [
              0,
              "#0d0887"
             ],
             [
              0.1111111111111111,
              "#46039f"
             ],
             [
              0.2222222222222222,
              "#7201a8"
             ],
             [
              0.3333333333333333,
              "#9c179e"
             ],
             [
              0.4444444444444444,
              "#bd3786"
             ],
             [
              0.5555555555555556,
              "#d8576b"
             ],
             [
              0.6666666666666666,
              "#ed7953"
             ],
             [
              0.7777777777777778,
              "#fb9f3a"
             ],
             [
              0.8888888888888888,
              "#fdca26"
             ],
             [
              1,
              "#f0f921"
             ]
            ],
            "type": "contour"
           }
          ],
          "contourcarpet": [
           {
            "colorbar": {
             "outlinewidth": 0,
             "ticks": ""
            },
            "type": "contourcarpet"
           }
          ],
          "heatmap": [
           {
            "colorbar": {
             "outlinewidth": 0,
             "ticks": ""
            },
            "colorscale": [
             [
              0,
              "#0d0887"
             ],
             [
              0.1111111111111111,
              "#46039f"
             ],
             [
              0.2222222222222222,
              "#7201a8"
             ],
             [
              0.3333333333333333,
              "#9c179e"
             ],
             [
              0.4444444444444444,
              "#bd3786"
             ],
             [
              0.5555555555555556,
              "#d8576b"
             ],
             [
              0.6666666666666666,
              "#ed7953"
             ],
             [
              0.7777777777777778,
              "#fb9f3a"
             ],
             [
              0.8888888888888888,
              "#fdca26"
             ],
             [
              1,
              "#f0f921"
             ]
            ],
            "type": "heatmap"
           }
          ],
          "heatmapgl": [
           {
            "colorbar": {
             "outlinewidth": 0,
             "ticks": ""
            },
            "colorscale": [
             [
              0,
              "#0d0887"
             ],
             [
              0.1111111111111111,
              "#46039f"
             ],
             [
              0.2222222222222222,
              "#7201a8"
             ],
             [
              0.3333333333333333,
              "#9c179e"
             ],
             [
              0.4444444444444444,
              "#bd3786"
             ],
             [
              0.5555555555555556,
              "#d8576b"
             ],
             [
              0.6666666666666666,
              "#ed7953"
             ],
             [
              0.7777777777777778,
              "#fb9f3a"
             ],
             [
              0.8888888888888888,
              "#fdca26"
             ],
             [
              1,
              "#f0f921"
             ]
            ],
            "type": "heatmapgl"
           }
          ],
          "histogram": [
           {
            "marker": {
             "pattern": {
              "fillmode": "overlay",
              "size": 10,
              "solidity": 0.2
             }
            },
            "type": "histogram"
           }
          ],
          "histogram2d": [
           {
            "colorbar": {
             "outlinewidth": 0,
             "ticks": ""
            },
            "colorscale": [
             [
              0,
              "#0d0887"
             ],
             [
              0.1111111111111111,
              "#46039f"
             ],
             [
              0.2222222222222222,
              "#7201a8"
             ],
             [
              0.3333333333333333,
              "#9c179e"
             ],
             [
              0.4444444444444444,
              "#bd3786"
             ],
             [
              0.5555555555555556,
              "#d8576b"
             ],
             [
              0.6666666666666666,
              "#ed7953"
             ],
             [
              0.7777777777777778,
              "#fb9f3a"
             ],
             [
              0.8888888888888888,
              "#fdca26"
             ],
             [
              1,
              "#f0f921"
             ]
            ],
            "type": "histogram2d"
           }
          ],
          "histogram2dcontour": [
           {
            "colorbar": {
             "outlinewidth": 0,
             "ticks": ""
            },
            "colorscale": [
             [
              0,
              "#0d0887"
             ],
             [
              0.1111111111111111,
              "#46039f"
             ],
             [
              0.2222222222222222,
              "#7201a8"
             ],
             [
              0.3333333333333333,
              "#9c179e"
             ],
             [
              0.4444444444444444,
              "#bd3786"
             ],
             [
              0.5555555555555556,
              "#d8576b"
             ],
             [
              0.6666666666666666,
              "#ed7953"
             ],
             [
              0.7777777777777778,
              "#fb9f3a"
             ],
             [
              0.8888888888888888,
              "#fdca26"
             ],
             [
              1,
              "#f0f921"
             ]
            ],
            "type": "histogram2dcontour"
           }
          ],
          "mesh3d": [
           {
            "colorbar": {
             "outlinewidth": 0,
             "ticks": ""
            },
            "type": "mesh3d"
           }
          ],
          "parcoords": [
           {
            "line": {
             "colorbar": {
              "outlinewidth": 0,
              "ticks": ""
             }
            },
            "type": "parcoords"
           }
          ],
          "pie": [
           {
            "automargin": true,
            "type": "pie"
           }
          ],
          "scatter": [
           {
            "fillpattern": {
             "fillmode": "overlay",
             "size": 10,
             "solidity": 0.2
            },
            "type": "scatter"
           }
          ],
          "scatter3d": [
           {
            "line": {
             "colorbar": {
              "outlinewidth": 0,
              "ticks": ""
             }
            },
            "marker": {
             "colorbar": {
              "outlinewidth": 0,
              "ticks": ""
             }
            },
            "type": "scatter3d"
           }
          ],
          "scattercarpet": [
           {
            "marker": {
             "colorbar": {
              "outlinewidth": 0,
              "ticks": ""
             }
            },
            "type": "scattercarpet"
           }
          ],
          "scattergeo": [
           {
            "marker": {
             "colorbar": {
              "outlinewidth": 0,
              "ticks": ""
             }
            },
            "type": "scattergeo"
           }
          ],
          "scattergl": [
           {
            "marker": {
             "colorbar": {
              "outlinewidth": 0,
              "ticks": ""
             }
            },
            "type": "scattergl"
           }
          ],
          "scattermapbox": [
           {
            "marker": {
             "colorbar": {
              "outlinewidth": 0,
              "ticks": ""
             }
            },
            "type": "scattermapbox"
           }
          ],
          "scatterpolar": [
           {
            "marker": {
             "colorbar": {
              "outlinewidth": 0,
              "ticks": ""
             }
            },
            "type": "scatterpolar"
           }
          ],
          "scatterpolargl": [
           {
            "marker": {
             "colorbar": {
              "outlinewidth": 0,
              "ticks": ""
             }
            },
            "type": "scatterpolargl"
           }
          ],
          "scatterternary": [
           {
            "marker": {
             "colorbar": {
              "outlinewidth": 0,
              "ticks": ""
             }
            },
            "type": "scatterternary"
           }
          ],
          "surface": [
           {
            "colorbar": {
             "outlinewidth": 0,
             "ticks": ""
            },
            "colorscale": [
             [
              0,
              "#0d0887"
             ],
             [
              0.1111111111111111,
              "#46039f"
             ],
             [
              0.2222222222222222,
              "#7201a8"
             ],
             [
              0.3333333333333333,
              "#9c179e"
             ],
             [
              0.4444444444444444,
              "#bd3786"
             ],
             [
              0.5555555555555556,
              "#d8576b"
             ],
             [
              0.6666666666666666,
              "#ed7953"
             ],
             [
              0.7777777777777778,
              "#fb9f3a"
             ],
             [
              0.8888888888888888,
              "#fdca26"
             ],
             [
              1,
              "#f0f921"
             ]
            ],
            "type": "surface"
           }
          ],
          "table": [
           {
            "cells": {
             "fill": {
              "color": "#EBF0F8"
             },
             "line": {
              "color": "white"
             }
            },
            "header": {
             "fill": {
              "color": "#C8D4E3"
             },
             "line": {
              "color": "white"
             }
            },
            "type": "table"
           }
          ]
         },
         "layout": {
          "annotationdefaults": {
           "arrowcolor": "#2a3f5f",
           "arrowhead": 0,
           "arrowwidth": 1
          },
          "autotypenumbers": "strict",
          "coloraxis": {
           "colorbar": {
            "outlinewidth": 0,
            "ticks": ""
           }
          },
          "colorscale": {
           "diverging": [
            [
             0,
             "#8e0152"
            ],
            [
             0.1,
             "#c51b7d"
            ],
            [
             0.2,
             "#de77ae"
            ],
            [
             0.3,
             "#f1b6da"
            ],
            [
             0.4,
             "#fde0ef"
            ],
            [
             0.5,
             "#f7f7f7"
            ],
            [
             0.6,
             "#e6f5d0"
            ],
            [
             0.7,
             "#b8e186"
            ],
            [
             0.8,
             "#7fbc41"
            ],
            [
             0.9,
             "#4d9221"
            ],
            [
             1,
             "#276419"
            ]
           ],
           "sequential": [
            [
             0,
             "#0d0887"
            ],
            [
             0.1111111111111111,
             "#46039f"
            ],
            [
             0.2222222222222222,
             "#7201a8"
            ],
            [
             0.3333333333333333,
             "#9c179e"
            ],
            [
             0.4444444444444444,
             "#bd3786"
            ],
            [
             0.5555555555555556,
             "#d8576b"
            ],
            [
             0.6666666666666666,
             "#ed7953"
            ],
            [
             0.7777777777777778,
             "#fb9f3a"
            ],
            [
             0.8888888888888888,
             "#fdca26"
            ],
            [
             1,
             "#f0f921"
            ]
           ],
           "sequentialminus": [
            [
             0,
             "#0d0887"
            ],
            [
             0.1111111111111111,
             "#46039f"
            ],
            [
             0.2222222222222222,
             "#7201a8"
            ],
            [
             0.3333333333333333,
             "#9c179e"
            ],
            [
             0.4444444444444444,
             "#bd3786"
            ],
            [
             0.5555555555555556,
             "#d8576b"
            ],
            [
             0.6666666666666666,
             "#ed7953"
            ],
            [
             0.7777777777777778,
             "#fb9f3a"
            ],
            [
             0.8888888888888888,
             "#fdca26"
            ],
            [
             1,
             "#f0f921"
            ]
           ]
          },
          "colorway": [
           "#636efa",
           "#EF553B",
           "#00cc96",
           "#ab63fa",
           "#FFA15A",
           "#19d3f3",
           "#FF6692",
           "#B6E880",
           "#FF97FF",
           "#FECB52"
          ],
          "font": {
           "color": "#2a3f5f"
          },
          "geo": {
           "bgcolor": "white",
           "lakecolor": "white",
           "landcolor": "#E5ECF6",
           "showlakes": true,
           "showland": true,
           "subunitcolor": "white"
          },
          "hoverlabel": {
           "align": "left"
          },
          "hovermode": "closest",
          "mapbox": {
           "style": "light"
          },
          "paper_bgcolor": "white",
          "plot_bgcolor": "#E5ECF6",
          "polar": {
           "angularaxis": {
            "gridcolor": "white",
            "linecolor": "white",
            "ticks": ""
           },
           "bgcolor": "#E5ECF6",
           "radialaxis": {
            "gridcolor": "white",
            "linecolor": "white",
            "ticks": ""
           }
          },
          "scene": {
           "xaxis": {
            "backgroundcolor": "#E5ECF6",
            "gridcolor": "white",
            "gridwidth": 2,
            "linecolor": "white",
            "showbackground": true,
            "ticks": "",
            "zerolinecolor": "white"
           },
           "yaxis": {
            "backgroundcolor": "#E5ECF6",
            "gridcolor": "white",
            "gridwidth": 2,
            "linecolor": "white",
            "showbackground": true,
            "ticks": "",
            "zerolinecolor": "white"
           },
           "zaxis": {
            "backgroundcolor": "#E5ECF6",
            "gridcolor": "white",
            "gridwidth": 2,
            "linecolor": "white",
            "showbackground": true,
            "ticks": "",
            "zerolinecolor": "white"
           }
          },
          "shapedefaults": {
           "line": {
            "color": "#2a3f5f"
           }
          },
          "ternary": {
           "aaxis": {
            "gridcolor": "white",
            "linecolor": "white",
            "ticks": ""
           },
           "baxis": {
            "gridcolor": "white",
            "linecolor": "white",
            "ticks": ""
           },
           "bgcolor": "#E5ECF6",
           "caxis": {
            "gridcolor": "white",
            "linecolor": "white",
            "ticks": ""
           }
          },
          "title": {
           "x": 0.05
          },
          "xaxis": {
           "automargin": true,
           "gridcolor": "white",
           "linecolor": "white",
           "ticks": "",
           "title": {
            "standoff": 15
           },
           "zerolinecolor": "white",
           "zerolinewidth": 2
          },
          "yaxis": {
           "automargin": true,
           "gridcolor": "white",
           "linecolor": "white",
           "ticks": "",
           "title": {
            "standoff": 15
           },
           "zerolinecolor": "white",
           "zerolinewidth": 2
          }
         }
        },
        "title": {
         "text": "Number of games played per user"
        },
        "xaxis": {
         "anchor": "y",
         "categoryarray": [
          "76561197965527053",
          "76561198001262177",
          "76561198039495811",
          "76561197970738118",
          "76561197984628526",
          "76561197991050584",
          "76561198004803656",
          "76561197970683033",
          "76561198092753159",
          "76561197985630263",
          "76561198014848444",
          "76561197962050254",
          "76561197993304508",
          "76561197971034129",
          "76561197965062542",
          "76561198098188285",
          "76561197998169405",
          "76561198037629929",
          "76561198004670799",
          "76561198056613809",
          "76561197998488829",
          "76561198084453258",
          "76561198010430483",
          "76561198024567076",
          "76561197969494473",
          "76561197961124929",
          "76561198062672788",
          "76561198064970505",
          "76561198046933197",
          "76561197966467800",
          "76561197994644797",
          "76561197971405841",
          "76561198040564894",
          "76561197967711211",
          "76561198070349294",
          "76561198071648512"
         ],
         "categoryorder": "array",
         "domain": [
          0,
          1
         ],
         "title": {
          "text": "steamid"
         }
        },
        "yaxis": {
         "anchor": "x",
         "domain": [
          0,
          1
         ],
         "title": {
          "text": "game count"
         }
        }
       }
      }
     },
     "metadata": {},
     "output_type": "display_data"
    }
   ],
   "source": [
    "fig = px.bar(selected_users, x=\"steamid\", y=\"game count\",color=\"steamid\",title=\"Number of games played per user\",text_auto=True)\n",
    "fig.show()"
   ]
  },
  {
   "attachments": {},
   "cell_type": "markdown",
   "metadata": {},
   "source": [
    "Extracting only the relevant rows from the original dataset for the selected 36 users. <br>"
   ]
  },
  {
   "cell_type": "code",
   "execution_count": 186,
   "metadata": {},
   "outputs": [
    {
     "data": {
      "text/html": [
       "<div>\n",
       "<style scoped>\n",
       "    .dataframe tbody tr th:only-of-type {\n",
       "        vertical-align: middle;\n",
       "    }\n",
       "\n",
       "    .dataframe tbody tr th {\n",
       "        vertical-align: top;\n",
       "    }\n",
       "\n",
       "    .dataframe thead th {\n",
       "        text-align: right;\n",
       "    }\n",
       "</style>\n",
       "<table border=\"1\" class=\"dataframe\">\n",
       "  <thead>\n",
       "    <tr style=\"text-align: right;\">\n",
       "      <th></th>\n",
       "      <th>appid</th>\n",
       "      <th>game name</th>\n",
       "      <th>hours played</th>\n",
       "      <th>steamid</th>\n",
       "    </tr>\n",
       "  </thead>\n",
       "  <tbody>\n",
       "    <tr>\n",
       "      <th>5</th>\n",
       "      <td>400</td>\n",
       "      <td>Portal</td>\n",
       "      <td>6.116667</td>\n",
       "      <td>76561198010430483</td>\n",
       "    </tr>\n",
       "    <tr>\n",
       "      <th>10</th>\n",
       "      <td>13640</td>\n",
       "      <td>Tom Clancy's Ghost Recon: Advanced Warfighter</td>\n",
       "      <td>0.366667</td>\n",
       "      <td>76561198010430483</td>\n",
       "    </tr>\n",
       "    <tr>\n",
       "      <th>11</th>\n",
       "      <td>15300</td>\n",
       "      <td>Tom Clancy's Ghost Recon</td>\n",
       "      <td>0.600000</td>\n",
       "      <td>76561198010430483</td>\n",
       "    </tr>\n",
       "    <tr>\n",
       "      <th>12</th>\n",
       "      <td>17300</td>\n",
       "      <td>Crysis</td>\n",
       "      <td>13.800000</td>\n",
       "      <td>76561198010430483</td>\n",
       "    </tr>\n",
       "    <tr>\n",
       "      <th>13</th>\n",
       "      <td>17330</td>\n",
       "      <td>Crysis Warhead</td>\n",
       "      <td>0.016667</td>\n",
       "      <td>76561198010430483</td>\n",
       "    </tr>\n",
       "    <tr>\n",
       "      <th>...</th>\n",
       "      <td>...</td>\n",
       "      <td>...</td>\n",
       "      <td>...</td>\n",
       "      <td>...</td>\n",
       "    </tr>\n",
       "    <tr>\n",
       "      <th>9291</th>\n",
       "      <td>1620690</td>\n",
       "      <td>Rubber Bandits: Summer Prologue</td>\n",
       "      <td>0.850000</td>\n",
       "      <td>76561198092753159</td>\n",
       "    </tr>\n",
       "    <tr>\n",
       "      <th>9292</th>\n",
       "      <td>461040</td>\n",
       "      <td>PICO PARK:Classic Edition</td>\n",
       "      <td>0.016667</td>\n",
       "      <td>76561198092753159</td>\n",
       "    </tr>\n",
       "    <tr>\n",
       "      <th>9293</th>\n",
       "      <td>1942280</td>\n",
       "      <td>Brotato</td>\n",
       "      <td>86.100000</td>\n",
       "      <td>76561198092753159</td>\n",
       "    </tr>\n",
       "    <tr>\n",
       "      <th>9294</th>\n",
       "      <td>1948280</td>\n",
       "      <td>Stacklands</td>\n",
       "      <td>13.683333</td>\n",
       "      <td>76561198092753159</td>\n",
       "    </tr>\n",
       "    <tr>\n",
       "      <th>9295</th>\n",
       "      <td>570</td>\n",
       "      <td>Dota 2</td>\n",
       "      <td>6954.683333</td>\n",
       "      <td>76561198092753159</td>\n",
       "    </tr>\n",
       "  </tbody>\n",
       "</table>\n",
       "<p>3182 rows × 4 columns</p>\n",
       "</div>"
      ],
      "text/plain": [
       "        appid                                      game name  hours played  \\\n",
       "5         400                                         Portal      6.116667   \n",
       "10      13640  Tom Clancy's Ghost Recon: Advanced Warfighter      0.366667   \n",
       "11      15300                       Tom Clancy's Ghost Recon      0.600000   \n",
       "12      17300                                         Crysis     13.800000   \n",
       "13      17330                                 Crysis Warhead      0.016667   \n",
       "...       ...                                            ...           ...   \n",
       "9291  1620690                Rubber Bandits: Summer Prologue      0.850000   \n",
       "9292   461040                      PICO PARK:Classic Edition      0.016667   \n",
       "9293  1942280                                        Brotato     86.100000   \n",
       "9294  1948280                                     Stacklands     13.683333   \n",
       "9295      570                                         Dota 2   6954.683333   \n",
       "\n",
       "                steamid  \n",
       "5     76561198010430483  \n",
       "10    76561198010430483  \n",
       "11    76561198010430483  \n",
       "12    76561198010430483  \n",
       "13    76561198010430483  \n",
       "...                 ...  \n",
       "9291  76561198092753159  \n",
       "9292  76561198092753159  \n",
       "9293  76561198092753159  \n",
       "9294  76561198092753159  \n",
       "9295  76561198092753159  \n",
       "\n",
       "[3182 rows x 4 columns]"
      ]
     },
     "execution_count": 186,
     "metadata": {},
     "output_type": "execute_result"
    }
   ],
   "source": [
    "dataset_trimmed = dataset_cleaned[dataset_cleaned[\"steamid\"].isin(selected_users[\"steamid\"])]\n",
    "dataset_trimmed"
   ]
  },
  {
   "cell_type": "code",
   "execution_count": 187,
   "metadata": {},
   "outputs": [
    {
     "data": {
      "text/plain": [
       "appid           1410\n",
       "game name       1410\n",
       "hours played    1596\n",
       "steamid           36\n",
       "dtype: int64"
      ]
     },
     "execution_count": 187,
     "metadata": {},
     "output_type": "execute_result"
    }
   ],
   "source": [
    "dataset_trimmed.nunique()"
   ]
  },
  {
   "cell_type": "code",
   "execution_count": 188,
   "metadata": {},
   "outputs": [
    {
     "data": {
      "text/html": [
       "<div>\n",
       "<style scoped>\n",
       "    .dataframe tbody tr th:only-of-type {\n",
       "        vertical-align: middle;\n",
       "    }\n",
       "\n",
       "    .dataframe tbody tr th {\n",
       "        vertical-align: top;\n",
       "    }\n",
       "\n",
       "    .dataframe thead th {\n",
       "        text-align: right;\n",
       "    }\n",
       "</style>\n",
       "<table border=\"1\" class=\"dataframe\">\n",
       "  <thead>\n",
       "    <tr style=\"text-align: right;\">\n",
       "      <th></th>\n",
       "      <th>hours played</th>\n",
       "    </tr>\n",
       "  </thead>\n",
       "  <tbody>\n",
       "    <tr>\n",
       "      <th>count</th>\n",
       "      <td>3182.000000</td>\n",
       "    </tr>\n",
       "    <tr>\n",
       "      <th>mean</th>\n",
       "      <td>78.360580</td>\n",
       "    </tr>\n",
       "    <tr>\n",
       "      <th>std</th>\n",
       "      <td>449.085669</td>\n",
       "    </tr>\n",
       "    <tr>\n",
       "      <th>min</th>\n",
       "      <td>0.016667</td>\n",
       "    </tr>\n",
       "    <tr>\n",
       "      <th>25%</th>\n",
       "      <td>1.150000</td>\n",
       "    </tr>\n",
       "    <tr>\n",
       "      <th>50%</th>\n",
       "      <td>5.375000</td>\n",
       "    </tr>\n",
       "    <tr>\n",
       "      <th>75%</th>\n",
       "      <td>24.333333</td>\n",
       "    </tr>\n",
       "    <tr>\n",
       "      <th>max</th>\n",
       "      <td>10814.000000</td>\n",
       "    </tr>\n",
       "  </tbody>\n",
       "</table>\n",
       "</div>"
      ],
      "text/plain": [
       "       hours played\n",
       "count   3182.000000\n",
       "mean      78.360580\n",
       "std      449.085669\n",
       "min        0.016667\n",
       "25%        1.150000\n",
       "50%        5.375000\n",
       "75%       24.333333\n",
       "max    10814.000000"
      ]
     },
     "execution_count": 188,
     "metadata": {},
     "output_type": "execute_result"
    }
   ],
   "source": [
    "dataset_trimmed.describe()"
   ]
  },
  {
   "attachments": {},
   "cell_type": "markdown",
   "metadata": {},
   "source": [
    "Summary: <br>\n",
    "1. 3182 rows of games with playtime > 0.\n",
    "2. 36 unique users\n",
    "3. 1410 unique games\n",
    "4. Hours played ranges from 0.016667 to 10814 hours."
   ]
  },
  {
   "attachments": {},
   "cell_type": "markdown",
   "metadata": {},
   "source": [
    "Save the trimmed dataset. We will work with this for our recommender. <br>\n",
    "If the project goes well, we can use the dataset_cleaned, with all 52 users account data. <br>"
   ]
  },
  {
   "cell_type": "code",
   "execution_count": 189,
   "metadata": {},
   "outputs": [],
   "source": [
    "dataset_trimmed.to_excel(\"dataset_trimmed.xlsx\",index=False)"
   ]
  }
 ],
 "metadata": {
  "kernelspec": {
   "display_name": "base",
   "language": "python",
   "name": "python3"
  },
  "language_info": {
   "codemirror_mode": {
    "name": "ipython",
    "version": 3
   },
   "file_extension": ".py",
   "mimetype": "text/x-python",
   "name": "python",
   "nbconvert_exporter": "python",
   "pygments_lexer": "ipython3",
   "version": "3.9.13"
  },
  "orig_nbformat": 4
 },
 "nbformat": 4,
 "nbformat_minor": 2
}
